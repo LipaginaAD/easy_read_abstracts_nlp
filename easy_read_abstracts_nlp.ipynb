{
  "nbformat": 4,
  "nbformat_minor": 0,
  "metadata": {
    "colab": {
      "provenance": [],
      "gpuType": "T4"
    },
    "kernelspec": {
      "name": "python3",
      "display_name": "Python 3"
    },
    "language_info": {
      "name": "python"
    },
    "gpuClass": "standard",
    "accelerator": "GPU"
  },
  "cells": [
    {
      "cell_type": "markdown",
      "source": [
        "# Easy read abstracts\n",
        "\n",
        "This NLP model make to make reading medical papers' abstracts easier.\n",
        "\n",
        "It's replicate this paper: https://arxiv.org/abs/1710.06071"
      ],
      "metadata": {
        "id": "2W9q8pwIwpzC"
      }
    },
    {
      "cell_type": "code",
      "source": [
        "# Check to GPU\n",
        "!nvidia-smi -L"
      ],
      "metadata": {
        "colab": {
          "base_uri": "https://localhost:8080/"
        },
        "id": "FP29yRMW1mSn",
        "outputId": "e3bbab38-796f-4d55-d154-eddadac768d6"
      },
      "execution_count": null,
      "outputs": [
        {
          "output_type": "stream",
          "name": "stdout",
          "text": [
            "GPU 0: Tesla T4 (UUID: GPU-78e58cb3-bdc0-8c37-1ca7-01c93f39452e)\n"
          ]
        }
      ]
    },
    {
      "cell_type": "code",
      "source": [
        "import numpy as np\n",
        "import pandas as pd\n",
        "import matplotlib.pyplot as plt\n",
        "import tensorflow as tf\n",
        "from tensorflow.keras import layers\n",
        "import tensorflow_hub as hub"
      ],
      "metadata": {
        "id": "1hIvPUo-Jd9B"
      },
      "execution_count": null,
      "outputs": []
    },
    {
      "cell_type": "markdown",
      "source": [
        "## Get data\n",
        "\n",
        "Data taken from authors of paper, that is replicated: https://github.com/Franck-Dernoncourt/pubmed-rct\n"
      ],
      "metadata": {
        "id": "aYN6aG_72Clc"
      }
    },
    {
      "cell_type": "code",
      "source": [
        "!git clone https://github.com/Franck-Dernoncourt/pubmed-rct"
      ],
      "metadata": {
        "colab": {
          "base_uri": "https://localhost:8080/"
        },
        "id": "oOoF4MDH2oJy",
        "outputId": "df9b298e-996c-4083-8c3f-01829334f705"
      },
      "execution_count": null,
      "outputs": [
        {
          "output_type": "stream",
          "name": "stdout",
          "text": [
            "Cloning into 'pubmed-rct'...\n",
            "remote: Enumerating objects: 33, done.\u001b[K\n",
            "remote: Counting objects: 100% (8/8), done.\u001b[K\n",
            "remote: Compressing objects: 100% (3/3), done.\u001b[K\n",
            "remote: Total 33 (delta 5), reused 5 (delta 5), pack-reused 25\u001b[K\n",
            "Unpacking objects: 100% (33/33), 177.08 MiB | 10.73 MiB/s, done.\n"
          ]
        }
      ]
    },
    {
      "cell_type": "code",
      "source": [
        "!ls pubmed-rct"
      ],
      "metadata": {
        "colab": {
          "base_uri": "https://localhost:8080/"
        },
        "id": "yUlxdMdb3iD7",
        "outputId": "de69ba2b-28d8-4e6f-8fcc-b4a23e3e9413"
      },
      "execution_count": null,
      "outputs": [
        {
          "output_type": "stream",
          "name": "stdout",
          "text": [
            "PubMed_200k_RCT\n",
            "PubMed_200k_RCT_numbers_replaced_with_at_sign\n",
            "PubMed_20k_RCT\n",
            "PubMed_20k_RCT_numbers_replaced_with_at_sign\n",
            "README.md\n"
          ]
        }
      ]
    },
    {
      "cell_type": "code",
      "source": [
        "!ls pubmed-rct/PubMed_20k_RCT_numbers_replaced_with_at_sign"
      ],
      "metadata": {
        "colab": {
          "base_uri": "https://localhost:8080/"
        },
        "id": "xsm56Alp3sf9",
        "outputId": "e3982b5b-2b6c-424f-c94c-63fb1b024798"
      },
      "execution_count": null,
      "outputs": [
        {
          "output_type": "stream",
          "name": "stdout",
          "text": [
            "dev.txt  test.txt  train.txt\n"
          ]
        }
      ]
    },
    {
      "cell_type": "code",
      "source": [
        "# Get filenames from directory\n",
        "import os\n",
        "data_dir = '/content/pubmed-rct/PubMed_20k_RCT_numbers_replaced_with_at_sign/'\n",
        "filenames = [data_dir + filename for filename in os.listdir(data_dir)]\n",
        "filenames"
      ],
      "metadata": {
        "colab": {
          "base_uri": "https://localhost:8080/"
        },
        "id": "G_FlppFgW-Rn",
        "outputId": "e322ae9a-9e01-4458-a4b4-ea0fdd27612b"
      },
      "execution_count": null,
      "outputs": [
        {
          "output_type": "execute_result",
          "data": {
            "text/plain": [
              "['/content/pubmed-rct/PubMed_20k_RCT_numbers_replaced_with_at_sign/train.txt',\n",
              " '/content/pubmed-rct/PubMed_20k_RCT_numbers_replaced_with_at_sign/dev.txt',\n",
              " '/content/pubmed-rct/PubMed_20k_RCT_numbers_replaced_with_at_sign/test.txt']"
            ]
          },
          "metadata": {},
          "execution_count": 13
        }
      ]
    },
    {
      "cell_type": "markdown",
      "source": [
        "### Preprocess data"
      ],
      "metadata": {
        "id": "VZN9oea8Xc13"
      }
    },
    {
      "cell_type": "code",
      "source": [
        "# Create a function to read the lines of text to a list\n",
        "def get_lines(filename):\n",
        "  \"\"\"\n",
        "  Create a function to read the lines of text to a list\n",
        "  \"\"\"\n",
        "  with open(filename, 'r') as f:\n",
        "      \n",
        "    return f.readlines()"
      ],
      "metadata": {
        "id": "zMoGV6s-a75x"
      },
      "execution_count": null,
      "outputs": []
    },
    {
      "cell_type": "code",
      "source": [
        "train_lines = get_lines(data_dir + 'train.txt')\n",
        "train_lines[:5]"
      ],
      "metadata": {
        "colab": {
          "base_uri": "https://localhost:8080/"
        },
        "id": "SWKlvf41ar8t",
        "outputId": "334d5c74-48d7-41c7-8f0b-f818b6395e6b"
      },
      "execution_count": null,
      "outputs": [
        {
          "output_type": "execute_result",
          "data": {
            "text/plain": [
              "['###24293578\\n',\n",
              " 'OBJECTIVE\\tTo investigate the efficacy of @ weeks of daily low-dose oral prednisolone in improving pain , mobility , and systemic low-grade inflammation in the short term and whether the effect would be sustained at @ weeks in older adults with moderate to severe knee osteoarthritis ( OA ) .\\n',\n",
              " 'METHODS\\tA total of @ patients with primary knee OA were randomized @:@ ; @ received @ mg/day of prednisolone and @ received placebo for @ weeks .\\n',\n",
              " 'METHODS\\tOutcome measures included pain reduction and improvement in function scores and systemic inflammation markers .\\n',\n",
              " 'METHODS\\tPain was assessed using the visual analog pain scale ( @-@ mm ) .\\n']"
            ]
          },
          "metadata": {},
          "execution_count": 5
        }
      ]
    },
    {
      "cell_type": "code",
      "source": [
        "# Preprocess function\n",
        "import re\n",
        "def preprocess_text_with_line_numbers(filename):\n",
        "  input_lines = get_lines(filename)\n",
        "  abstract_lines = \"\"\n",
        "  abstract_samples = []\n",
        "\n",
        "  for line in input_lines:\n",
        "    if line.startswith('###'): # return true/false\n",
        "      abstract_id = line\n",
        "      abstract_lines = \"\"\n",
        "    elif line.isspace():  # return true/false if line is \\n \n",
        "      abstract_line_split = abstract_lines.splitlines()\n",
        "\n",
        "      for line_number, abstract_line in enumerate(abstract_line_split):\n",
        "        line_data = {}\n",
        "        target, text = abstract_line.split('\\t')\n",
        "        line_data['id'] = re.search('\\d+', abstract_id).group(0)\n",
        "        line_data['target'] = target\n",
        "        line_data['text'] = text.lower()\n",
        "        line_data['line_number'] = line_number \n",
        "        line_data['total_lines'] = len(abstract_line_split) - 1\n",
        "        abstract_samples.append(line_data)\n",
        "\n",
        "    else:\n",
        "      abstract_lines += line\n",
        "\n",
        "  return  abstract_samples"
      ],
      "metadata": {
        "id": "aEE5GrN_c3Wp"
      },
      "execution_count": null,
      "outputs": []
    },
    {
      "cell_type": "code",
      "source": [
        "%time\n",
        "train_samples = preprocess_text_with_line_numbers(filename=data_dir + 'train.txt')\n",
        "val_samples = preprocess_text_with_line_numbers(filename=data_dir + 'dev.txt')\n",
        "test_samples = preprocess_text_with_line_numbers(filename=data_dir + 'test.txt')\n",
        "print(len(train_samples), len(val_samples), len(test_samples))"
      ],
      "metadata": {
        "colab": {
          "base_uri": "https://localhost:8080/"
        },
        "id": "HxD_djre7bmR",
        "outputId": "e696143e-b145-4c21-84f9-ddabb4713831"
      },
      "execution_count": null,
      "outputs": [
        {
          "output_type": "stream",
          "name": "stdout",
          "text": [
            "CPU times: user 4 µs, sys: 1 µs, total: 5 µs\n",
            "Wall time: 9.54 µs\n",
            "180040 30212 30135\n"
          ]
        }
      ]
    },
    {
      "cell_type": "code",
      "source": [
        "train_samples[:15]"
      ],
      "metadata": {
        "colab": {
          "base_uri": "https://localhost:8080/"
        },
        "id": "qbjLFA4w59Vv",
        "outputId": "026dbb05-fb49-40fd-b425-2b3d8c88e84d"
      },
      "execution_count": null,
      "outputs": [
        {
          "output_type": "execute_result",
          "data": {
            "text/plain": [
              "[{'id': '24293578',\n",
              "  'target': 'OBJECTIVE',\n",
              "  'text': 'to investigate the efficacy of @ weeks of daily low-dose oral prednisolone in improving pain , mobility , and systemic low-grade inflammation in the short term and whether the effect would be sustained at @ weeks in older adults with moderate to severe knee osteoarthritis ( oa ) .',\n",
              "  'line_number': 1,\n",
              "  'total_lines': 12},\n",
              " {'id': '24293578',\n",
              "  'target': 'METHODS',\n",
              "  'text': 'a total of @ patients with primary knee oa were randomized @:@ ; @ received @ mg/day of prednisolone and @ received placebo for @ weeks .',\n",
              "  'line_number': 2,\n",
              "  'total_lines': 12},\n",
              " {'id': '24293578',\n",
              "  'target': 'METHODS',\n",
              "  'text': 'outcome measures included pain reduction and improvement in function scores and systemic inflammation markers .',\n",
              "  'line_number': 3,\n",
              "  'total_lines': 12},\n",
              " {'id': '24293578',\n",
              "  'target': 'METHODS',\n",
              "  'text': 'pain was assessed using the visual analog pain scale ( @-@ mm ) .',\n",
              "  'line_number': 4,\n",
              "  'total_lines': 12},\n",
              " {'id': '24293578',\n",
              "  'target': 'METHODS',\n",
              "  'text': 'secondary outcome measures included the western ontario and mcmaster universities osteoarthritis index scores , patient global assessment ( pga ) of the severity of knee oa , and @-min walk distance ( @mwd ) .',\n",
              "  'line_number': 5,\n",
              "  'total_lines': 12},\n",
              " {'id': '24293578',\n",
              "  'target': 'METHODS',\n",
              "  'text': 'serum levels of interleukin @ ( il-@ ) , il-@ , tumor necrosis factor ( tnf ) - , and high-sensitivity c-reactive protein ( hscrp ) were measured .',\n",
              "  'line_number': 6,\n",
              "  'total_lines': 12},\n",
              " {'id': '24293578',\n",
              "  'target': 'RESULTS',\n",
              "  'text': 'there was a clinically relevant reduction in the intervention group compared to the placebo group for knee pain , physical function , pga , and @mwd at @ weeks .',\n",
              "  'line_number': 7,\n",
              "  'total_lines': 12},\n",
              " {'id': '24293578',\n",
              "  'target': 'RESULTS',\n",
              "  'text': 'the mean difference between treatment arms ( @ % ci ) was @ ( @-@ @ ) , p < @ ; @ ( @-@ @ ) , p < @ ; @ ( @-@ @ ) , p < @ ; and @ ( @-@ @ ) , p < @ , respectively .',\n",
              "  'line_number': 8,\n",
              "  'total_lines': 12},\n",
              " {'id': '24293578',\n",
              "  'target': 'RESULTS',\n",
              "  'text': 'further , there was a clinically relevant reduction in the serum levels of il-@ , il-@ , tnf - , and hscrp at @ weeks in the intervention group when compared to the placebo group .',\n",
              "  'line_number': 9,\n",
              "  'total_lines': 12},\n",
              " {'id': '24293578',\n",
              "  'target': 'RESULTS',\n",
              "  'text': 'these differences remained significant at @ weeks .',\n",
              "  'line_number': 10,\n",
              "  'total_lines': 12},\n",
              " {'id': '24293578',\n",
              "  'target': 'RESULTS',\n",
              "  'text': 'the outcome measures in rheumatology clinical trials-osteoarthritis research society international responder rate was @ % in the intervention group and @ % in the placebo group ( p < @ ) .',\n",
              "  'line_number': 11,\n",
              "  'total_lines': 12},\n",
              " {'id': '24293578',\n",
              "  'target': 'CONCLUSIONS',\n",
              "  'text': 'low-dose oral prednisolone had both a short-term and a longer sustained effect resulting in less knee pain , better physical function , and attenuation of systemic inflammation in older patients with knee oa ( clinicaltrials.gov identifier nct@ ) .',\n",
              "  'line_number': 12,\n",
              "  'total_lines': 12},\n",
              " {'id': '24854809',\n",
              "  'target': 'BACKGROUND',\n",
              "  'text': 'emotional eating is associated with overeating and the development of obesity .',\n",
              "  'line_number': 1,\n",
              "  'total_lines': 11},\n",
              " {'id': '24854809',\n",
              "  'target': 'BACKGROUND',\n",
              "  'text': 'yet , empirical evidence for individual ( trait ) differences in emotional eating and cognitive mechanisms that contribute to eating during sad mood remain equivocal .',\n",
              "  'line_number': 2,\n",
              "  'total_lines': 11},\n",
              " {'id': '24854809',\n",
              "  'target': 'OBJECTIVE',\n",
              "  'text': 'the aim of this study was to test if attention bias for food moderates the effect of self-reported emotional eating during sad mood ( vs neutral mood ) on actual food intake .',\n",
              "  'line_number': 3,\n",
              "  'total_lines': 11}]"
            ]
          },
          "metadata": {},
          "execution_count": 15
        }
      ]
    },
    {
      "cell_type": "code",
      "source": [
        "import numpy as np\n",
        "import pandas as pd\n",
        "\n",
        "train_df = pd.DataFrame(train_samples)\n",
        "val_df = pd.DataFrame(val_samples)\n",
        "test_df = pd.DataFrame(test_samples)\n",
        "train_df.head(15)"
      ],
      "metadata": {
        "colab": {
          "base_uri": "https://localhost:8080/",
          "height": 824
        },
        "id": "FPiBxFnR5-K1",
        "outputId": "e3ee91dd-7cd3-4714-9714-4b57329a056b"
      },
      "execution_count": null,
      "outputs": [
        {
          "output_type": "execute_result",
          "data": {
            "text/plain": [
              "          id       target                                               text  \\\n",
              "0   24293578    OBJECTIVE  to investigate the efficacy of @ weeks of dail...   \n",
              "1   24293578      METHODS  a total of @ patients with primary knee oa wer...   \n",
              "2   24293578      METHODS  outcome measures included pain reduction and i...   \n",
              "3   24293578      METHODS  pain was assessed using the visual analog pain...   \n",
              "4   24293578      METHODS  secondary outcome measures included the wester...   \n",
              "5   24293578      METHODS  serum levels of interleukin @ ( il-@ ) , il-@ ...   \n",
              "6   24293578      RESULTS  there was a clinically relevant reduction in t...   \n",
              "7   24293578      RESULTS  the mean difference between treatment arms ( @...   \n",
              "8   24293578      RESULTS  further , there was a clinically relevant redu...   \n",
              "9   24293578      RESULTS  these differences remained significant at @ we...   \n",
              "10  24293578      RESULTS  the outcome measures in rheumatology clinical ...   \n",
              "11  24293578  CONCLUSIONS  low-dose oral prednisolone had both a short-te...   \n",
              "12  24854809   BACKGROUND  emotional eating is associated with overeating...   \n",
              "13  24854809   BACKGROUND  yet , empirical evidence for individual ( trai...   \n",
              "14  24854809    OBJECTIVE  the aim of this study was to test if attention...   \n",
              "\n",
              "    line_number  total_lines  \n",
              "0             0           11  \n",
              "1             1           11  \n",
              "2             2           11  \n",
              "3             3           11  \n",
              "4             4           11  \n",
              "5             5           11  \n",
              "6             6           11  \n",
              "7             7           11  \n",
              "8             8           11  \n",
              "9             9           11  \n",
              "10           10           11  \n",
              "11           11           11  \n",
              "12            0           10  \n",
              "13            1           10  \n",
              "14            2           10  "
            ],
            "text/html": [
              "\n",
              "  <div id=\"df-3169071e-e9c1-4b1b-89fc-84e87c219fa1\">\n",
              "    <div class=\"colab-df-container\">\n",
              "      <div>\n",
              "<style scoped>\n",
              "    .dataframe tbody tr th:only-of-type {\n",
              "        vertical-align: middle;\n",
              "    }\n",
              "\n",
              "    .dataframe tbody tr th {\n",
              "        vertical-align: top;\n",
              "    }\n",
              "\n",
              "    .dataframe thead th {\n",
              "        text-align: right;\n",
              "    }\n",
              "</style>\n",
              "<table border=\"1\" class=\"dataframe\">\n",
              "  <thead>\n",
              "    <tr style=\"text-align: right;\">\n",
              "      <th></th>\n",
              "      <th>id</th>\n",
              "      <th>target</th>\n",
              "      <th>text</th>\n",
              "      <th>line_number</th>\n",
              "      <th>total_lines</th>\n",
              "    </tr>\n",
              "  </thead>\n",
              "  <tbody>\n",
              "    <tr>\n",
              "      <th>0</th>\n",
              "      <td>24293578</td>\n",
              "      <td>OBJECTIVE</td>\n",
              "      <td>to investigate the efficacy of @ weeks of dail...</td>\n",
              "      <td>0</td>\n",
              "      <td>11</td>\n",
              "    </tr>\n",
              "    <tr>\n",
              "      <th>1</th>\n",
              "      <td>24293578</td>\n",
              "      <td>METHODS</td>\n",
              "      <td>a total of @ patients with primary knee oa wer...</td>\n",
              "      <td>1</td>\n",
              "      <td>11</td>\n",
              "    </tr>\n",
              "    <tr>\n",
              "      <th>2</th>\n",
              "      <td>24293578</td>\n",
              "      <td>METHODS</td>\n",
              "      <td>outcome measures included pain reduction and i...</td>\n",
              "      <td>2</td>\n",
              "      <td>11</td>\n",
              "    </tr>\n",
              "    <tr>\n",
              "      <th>3</th>\n",
              "      <td>24293578</td>\n",
              "      <td>METHODS</td>\n",
              "      <td>pain was assessed using the visual analog pain...</td>\n",
              "      <td>3</td>\n",
              "      <td>11</td>\n",
              "    </tr>\n",
              "    <tr>\n",
              "      <th>4</th>\n",
              "      <td>24293578</td>\n",
              "      <td>METHODS</td>\n",
              "      <td>secondary outcome measures included the wester...</td>\n",
              "      <td>4</td>\n",
              "      <td>11</td>\n",
              "    </tr>\n",
              "    <tr>\n",
              "      <th>5</th>\n",
              "      <td>24293578</td>\n",
              "      <td>METHODS</td>\n",
              "      <td>serum levels of interleukin @ ( il-@ ) , il-@ ...</td>\n",
              "      <td>5</td>\n",
              "      <td>11</td>\n",
              "    </tr>\n",
              "    <tr>\n",
              "      <th>6</th>\n",
              "      <td>24293578</td>\n",
              "      <td>RESULTS</td>\n",
              "      <td>there was a clinically relevant reduction in t...</td>\n",
              "      <td>6</td>\n",
              "      <td>11</td>\n",
              "    </tr>\n",
              "    <tr>\n",
              "      <th>7</th>\n",
              "      <td>24293578</td>\n",
              "      <td>RESULTS</td>\n",
              "      <td>the mean difference between treatment arms ( @...</td>\n",
              "      <td>7</td>\n",
              "      <td>11</td>\n",
              "    </tr>\n",
              "    <tr>\n",
              "      <th>8</th>\n",
              "      <td>24293578</td>\n",
              "      <td>RESULTS</td>\n",
              "      <td>further , there was a clinically relevant redu...</td>\n",
              "      <td>8</td>\n",
              "      <td>11</td>\n",
              "    </tr>\n",
              "    <tr>\n",
              "      <th>9</th>\n",
              "      <td>24293578</td>\n",
              "      <td>RESULTS</td>\n",
              "      <td>these differences remained significant at @ we...</td>\n",
              "      <td>9</td>\n",
              "      <td>11</td>\n",
              "    </tr>\n",
              "    <tr>\n",
              "      <th>10</th>\n",
              "      <td>24293578</td>\n",
              "      <td>RESULTS</td>\n",
              "      <td>the outcome measures in rheumatology clinical ...</td>\n",
              "      <td>10</td>\n",
              "      <td>11</td>\n",
              "    </tr>\n",
              "    <tr>\n",
              "      <th>11</th>\n",
              "      <td>24293578</td>\n",
              "      <td>CONCLUSIONS</td>\n",
              "      <td>low-dose oral prednisolone had both a short-te...</td>\n",
              "      <td>11</td>\n",
              "      <td>11</td>\n",
              "    </tr>\n",
              "    <tr>\n",
              "      <th>12</th>\n",
              "      <td>24854809</td>\n",
              "      <td>BACKGROUND</td>\n",
              "      <td>emotional eating is associated with overeating...</td>\n",
              "      <td>0</td>\n",
              "      <td>10</td>\n",
              "    </tr>\n",
              "    <tr>\n",
              "      <th>13</th>\n",
              "      <td>24854809</td>\n",
              "      <td>BACKGROUND</td>\n",
              "      <td>yet , empirical evidence for individual ( trai...</td>\n",
              "      <td>1</td>\n",
              "      <td>10</td>\n",
              "    </tr>\n",
              "    <tr>\n",
              "      <th>14</th>\n",
              "      <td>24854809</td>\n",
              "      <td>OBJECTIVE</td>\n",
              "      <td>the aim of this study was to test if attention...</td>\n",
              "      <td>2</td>\n",
              "      <td>10</td>\n",
              "    </tr>\n",
              "  </tbody>\n",
              "</table>\n",
              "</div>\n",
              "      <button class=\"colab-df-convert\" onclick=\"convertToInteractive('df-3169071e-e9c1-4b1b-89fc-84e87c219fa1')\"\n",
              "              title=\"Convert this dataframe to an interactive table.\"\n",
              "              style=\"display:none;\">\n",
              "        \n",
              "  <svg xmlns=\"http://www.w3.org/2000/svg\" height=\"24px\"viewBox=\"0 0 24 24\"\n",
              "       width=\"24px\">\n",
              "    <path d=\"M0 0h24v24H0V0z\" fill=\"none\"/>\n",
              "    <path d=\"M18.56 5.44l.94 2.06.94-2.06 2.06-.94-2.06-.94-.94-2.06-.94 2.06-2.06.94zm-11 1L8.5 8.5l.94-2.06 2.06-.94-2.06-.94L8.5 2.5l-.94 2.06-2.06.94zm10 10l.94 2.06.94-2.06 2.06-.94-2.06-.94-.94-2.06-.94 2.06-2.06.94z\"/><path d=\"M17.41 7.96l-1.37-1.37c-.4-.4-.92-.59-1.43-.59-.52 0-1.04.2-1.43.59L10.3 9.45l-7.72 7.72c-.78.78-.78 2.05 0 2.83L4 21.41c.39.39.9.59 1.41.59.51 0 1.02-.2 1.41-.59l7.78-7.78 2.81-2.81c.8-.78.8-2.07 0-2.86zM5.41 20L4 18.59l7.72-7.72 1.47 1.35L5.41 20z\"/>\n",
              "  </svg>\n",
              "      </button>\n",
              "      \n",
              "  <style>\n",
              "    .colab-df-container {\n",
              "      display:flex;\n",
              "      flex-wrap:wrap;\n",
              "      gap: 12px;\n",
              "    }\n",
              "\n",
              "    .colab-df-convert {\n",
              "      background-color: #E8F0FE;\n",
              "      border: none;\n",
              "      border-radius: 50%;\n",
              "      cursor: pointer;\n",
              "      display: none;\n",
              "      fill: #1967D2;\n",
              "      height: 32px;\n",
              "      padding: 0 0 0 0;\n",
              "      width: 32px;\n",
              "    }\n",
              "\n",
              "    .colab-df-convert:hover {\n",
              "      background-color: #E2EBFA;\n",
              "      box-shadow: 0px 1px 2px rgba(60, 64, 67, 0.3), 0px 1px 3px 1px rgba(60, 64, 67, 0.15);\n",
              "      fill: #174EA6;\n",
              "    }\n",
              "\n",
              "    [theme=dark] .colab-df-convert {\n",
              "      background-color: #3B4455;\n",
              "      fill: #D2E3FC;\n",
              "    }\n",
              "\n",
              "    [theme=dark] .colab-df-convert:hover {\n",
              "      background-color: #434B5C;\n",
              "      box-shadow: 0px 1px 3px 1px rgba(0, 0, 0, 0.15);\n",
              "      filter: drop-shadow(0px 1px 2px rgba(0, 0, 0, 0.3));\n",
              "      fill: #FFFFFF;\n",
              "    }\n",
              "  </style>\n",
              "\n",
              "      <script>\n",
              "        const buttonEl =\n",
              "          document.querySelector('#df-3169071e-e9c1-4b1b-89fc-84e87c219fa1 button.colab-df-convert');\n",
              "        buttonEl.style.display =\n",
              "          google.colab.kernel.accessAllowed ? 'block' : 'none';\n",
              "\n",
              "        async function convertToInteractive(key) {\n",
              "          const element = document.querySelector('#df-3169071e-e9c1-4b1b-89fc-84e87c219fa1');\n",
              "          const dataTable =\n",
              "            await google.colab.kernel.invokeFunction('convertToInteractive',\n",
              "                                                     [key], {});\n",
              "          if (!dataTable) return;\n",
              "\n",
              "          const docLinkHtml = 'Like what you see? Visit the ' +\n",
              "            '<a target=\"_blank\" href=https://colab.research.google.com/notebooks/data_table.ipynb>data table notebook</a>'\n",
              "            + ' to learn more about interactive tables.';\n",
              "          element.innerHTML = '';\n",
              "          dataTable['output_type'] = 'display_data';\n",
              "          await google.colab.output.renderOutput(dataTable, element);\n",
              "          const docLink = document.createElement('div');\n",
              "          docLink.innerHTML = docLinkHtml;\n",
              "          element.appendChild(docLink);\n",
              "        }\n",
              "      </script>\n",
              "    </div>\n",
              "  </div>\n",
              "  "
            ]
          },
          "metadata": {},
          "execution_count": 16
        }
      ]
    },
    {
      "cell_type": "code",
      "source": [
        "# Distribution of labels\n",
        "train_df.target.value_counts()"
      ],
      "metadata": {
        "colab": {
          "base_uri": "https://localhost:8080/"
        },
        "id": "-alIPQHa96k-",
        "outputId": "506bb18a-a1dc-43b6-8561-4ab69aafc302"
      },
      "execution_count": null,
      "outputs": [
        {
          "output_type": "execute_result",
          "data": {
            "text/plain": [
              "METHODS        59353\n",
              "RESULTS        57953\n",
              "CONCLUSIONS    27168\n",
              "BACKGROUND     21727\n",
              "OBJECTIVE      13839\n",
              "Name: target, dtype: int64"
            ]
          },
          "metadata": {},
          "execution_count": 17
        }
      ]
    },
    {
      "cell_type": "code",
      "source": [
        "# Distribution of total_lines\n",
        "train_df.total_lines.value_counts()"
      ],
      "metadata": {
        "colab": {
          "base_uri": "https://localhost:8080/"
        },
        "id": "5a9PQcwwBZkJ",
        "outputId": "eb6b1916-f47e-4221-c577-11ec4e711ce5"
      },
      "execution_count": null,
      "outputs": [
        {
          "output_type": "execute_result",
          "data": {
            "text/plain": [
              "12    24468\n",
              "11    23639\n",
              "13    22113\n",
              "10    19400\n",
              "14    18438\n",
              "15    14610\n",
              "9     12285\n",
              "16    10768\n",
              "8      7464\n",
              "17     7429\n",
              "18     5202\n",
              "7      3353\n",
              "19     3344\n",
              "20     2480\n",
              "21     1281\n",
              "6      1146\n",
              "22      770\n",
              "23      759\n",
              "24      264\n",
              "5       215\n",
              "25      200\n",
              "26      182\n",
              "27       81\n",
              "29       58\n",
              "4        32\n",
              "31       31\n",
              "28       28\n",
              "Name: total_lines, dtype: int64"
            ]
          },
          "metadata": {},
          "execution_count": 18
        }
      ]
    },
    {
      "cell_type": "code",
      "source": [
        "train_df.total_lines.plot.hist()"
      ],
      "metadata": {
        "colab": {
          "base_uri": "https://localhost:8080/",
          "height": 284
        },
        "id": "PWoM3dsWBvNO",
        "outputId": "28dcb5d1-057c-4f65-ef43-7b4cdb172d37"
      },
      "execution_count": null,
      "outputs": [
        {
          "output_type": "execute_result",
          "data": {
            "text/plain": [
              "<Axes: ylabel='Frequency'>"
            ]
          },
          "metadata": {},
          "execution_count": 19
        },
        {
          "output_type": "display_data",
          "data": {
            "text/plain": [
              "<Figure size 432x288 with 1 Axes>"
            ],
            "image/png": "[encoded data removed]"
          },
          "metadata": {
            "needs_background": "light"
          }
        }
      ]
    },
    {
      "cell_type": "markdown",
      "source": [
        "### Get lists of sentences"
      ],
      "metadata": {
        "id": "5kYkB0hACX2w"
      }
    },
    {
      "cell_type": "code",
      "source": [
        "# Get list of text\n",
        "train_sent = train_df.text.tolist()\n",
        "val_sent = val_df.text.tolist()\n",
        "test_sent = test_df.text.tolist()"
      ],
      "metadata": {
        "id": "YfsbLBaBB2xj"
      },
      "execution_count": null,
      "outputs": []
    },
    {
      "cell_type": "markdown",
      "source": [
        "### Turn target labels into numbers"
      ],
      "metadata": {
        "id": "defq-AbNEWwh"
      }
    },
    {
      "cell_type": "markdown",
      "source": [
        "#### One Hot Encoder"
      ],
      "metadata": {
        "id": "ZiDTwkWMH4OV"
      }
    },
    {
      "cell_type": "code",
      "source": [
        "from sklearn.preprocessing import OneHotEncoder\n",
        "ohe = OneHotEncoder(sparse=False) # we need non-sparse matrix\n",
        "\n",
        "train_labels_ohe = ohe.fit_transform(train_df['target'].to_numpy().reshape(-1, 1))\n",
        "val_labels_ohe = ohe.transform(val_df['target'].to_numpy().reshape(-1, 1))\n",
        "test_labels_ohe = ohe.transform(test_df['target'].to_numpy().reshape(-1, 1))\n",
        "train_labels_ohe"
      ],
      "metadata": {
        "colab": {
          "base_uri": "https://localhost:8080/"
        },
        "id": "lstTa152EWQY",
        "outputId": "8d0d422a-b770-44c8-dfaf-6a861d5eae03"
      },
      "execution_count": null,
      "outputs": [
        {
          "output_type": "stream",
          "name": "stderr",
          "text": [
            "/usr/local/lib/python3.9/dist-packages/sklearn/preprocessing/_encoders.py:868: FutureWarning: `sparse` was renamed to `sparse_output` in version 1.2 and will be removed in 1.4. `sparse_output` is ignored unless you leave `sparse` to its default value.\n",
            "  warnings.warn(\n"
          ]
        },
        {
          "output_type": "execute_result",
          "data": {
            "text/plain": [
              "array([[0., 0., 0., 1., 0.],\n",
              "       [0., 0., 1., 0., 0.],\n",
              "       [0., 0., 1., 0., 0.],\n",
              "       ...,\n",
              "       [0., 0., 0., 0., 1.],\n",
              "       [0., 1., 0., 0., 0.],\n",
              "       [0., 1., 0., 0., 0.]])"
            ]
          },
          "metadata": {},
          "execution_count": 18
        }
      ]
    },
    {
      "cell_type": "code",
      "source": [
        "import tensorflow as tf\n",
        "tf.constant(train_labels_ohe)"
      ],
      "metadata": {
        "colab": {
          "base_uri": "https://localhost:8080/"
        },
        "id": "et_3sNh2GPsv",
        "outputId": "a7e8a929-216b-4846-eb20-5e150cf07645"
      },
      "execution_count": null,
      "outputs": [
        {
          "output_type": "execute_result",
          "data": {
            "text/plain": [
              "<tf.Tensor: shape=(180040, 5), dtype=float64, numpy=\n",
              "array([[0., 0., 0., 1., 0.],\n",
              "       [0., 0., 1., 0., 0.],\n",
              "       [0., 0., 1., 0., 0.],\n",
              "       ...,\n",
              "       [0., 0., 0., 0., 1.],\n",
              "       [0., 1., 0., 0., 0.],\n",
              "       [0., 1., 0., 0., 0.]])>"
            ]
          },
          "metadata": {},
          "execution_count": 23
        }
      ]
    },
    {
      "cell_type": "markdown",
      "source": [
        "#### Label encode labels"
      ],
      "metadata": {
        "id": "glqtujphH9v9"
      }
    },
    {
      "cell_type": "code",
      "source": [
        "# Extract labels and encode them into integers\n",
        "from sklearn.preprocessing import LabelEncoder\n",
        "label_enc = LabelEncoder()\n",
        "train_labels_le = label_enc.fit_transform(train_df.target.to_numpy())\n",
        "val_labels_le = label_enc.transform(val_df.target.to_numpy())\n",
        "test_labels_le = label_enc.transform(test_df.target.to_numpy())\n",
        "train_labels_le[:10] "
      ],
      "metadata": {
        "colab": {
          "base_uri": "https://localhost:8080/"
        },
        "id": "PlHAJuVFIAQ1",
        "outputId": "533d5e61-5dcb-478b-e7d4-6179351f9a90"
      },
      "execution_count": null,
      "outputs": [
        {
          "output_type": "execute_result",
          "data": {
            "text/plain": [
              "array([3, 2, 2, 2, 2, 2, 4, 4, 4, 4])"
            ]
          },
          "metadata": {},
          "execution_count": 19
        }
      ]
    },
    {
      "cell_type": "code",
      "source": [
        "# Get class names and number of classes from LabelEncoder instance\n",
        "num_classes = len(label_enc.classes_)\n",
        "class_names = label_enc.classes_\n",
        "num_classes, class_names"
      ],
      "metadata": {
        "colab": {
          "base_uri": "https://localhost:8080/"
        },
        "id": "snp5B019Itjt",
        "outputId": "f99a3720-dd0f-4625-f4fe-7aa50e2ab54a"
      },
      "execution_count": null,
      "outputs": [
        {
          "output_type": "execute_result",
          "data": {
            "text/plain": [
              "(5,\n",
              " array(['BACKGROUND', 'CONCLUSIONS', 'METHODS', 'OBJECTIVE', 'RESULTS'],\n",
              "       dtype=object))"
            ]
          },
          "metadata": {},
          "execution_count": 20
        }
      ]
    },
    {
      "cell_type": "markdown",
      "source": [
        "## Model 0 Naive Bayes"
      ],
      "metadata": {
        "id": "pH2R57ngsqel"
      }
    },
    {
      "cell_type": "code",
      "source": [
        "from sklearn.naive_bayes import MultinomialNB\n",
        "from sklearn.feature_extraction.text import TfidfVectorizer\n",
        "from sklearn.pipeline import Pipeline\n",
        "\n",
        "model_0 = Pipeline([\n",
        "    ('tfidf', TfidfVectorizer()),\n",
        "    ('clf', MultinomialNB())\n",
        "])\n",
        "\n",
        "model_0.fit(train_sent, train_labels_le)\n"
      ],
      "metadata": {
        "colab": {
          "base_uri": "https://localhost:8080/",
          "height": 126
        },
        "id": "xco-Tsres7xm",
        "outputId": "9d15bb8d-dcdb-4104-d58a-b19a241a9ab7"
      },
      "execution_count": null,
      "outputs": [
        {
          "output_type": "execute_result",
          "data": {
            "text/plain": [
              "Pipeline(steps=[('tfidf', TfidfVectorizer()), ('clf', MultinomialNB())])"
            ],
            "text/html": [
              "<style>#sk-container-id-1 {color: black;background-color: white;}#sk-container-id-1 pre{padding: 0;}#sk-container-id-1 div.sk-toggleable {background-color: white;}#sk-container-id-1 label.sk-toggleable__label {cursor: pointer;display: block;width: 100%;margin-bottom: 0;padding: 0.3em;box-sizing: border-box;text-align: center;}#sk-container-id-1 label.sk-toggleable__label-arrow:before {content: \"▸\";float: left;margin-right: 0.25em;color: #696969;}#sk-container-id-1 label.sk-toggleable__label-arrow:hover:before {color: black;}#sk-container-id-1 div.sk-estimator:hover label.sk-toggleable__label-arrow:before {color: black;}#sk-container-id-1 div.sk-toggleable__content {max-height: 0;max-width: 0;overflow: hidden;text-align: left;background-color: #f0f8ff;}#sk-container-id-1 div.sk-toggleable__content pre {margin: 0.2em;color: black;border-radius: 0.25em;background-color: #f0f8ff;}#sk-container-id-1 input.sk-toggleable__control:checked~div.sk-toggleable__content {max-height: 200px;max-width: 100%;overflow: auto;}#sk-container-id-1 input.sk-toggleable__control:checked~label.sk-toggleable__label-arrow:before {content: \"▾\";}#sk-container-id-1 div.sk-estimator input.sk-toggleable__control:checked~label.sk-toggleable__label {background-color: #d4ebff;}#sk-container-id-1 div.sk-label input.sk-toggleable__control:checked~label.sk-toggleable__label {background-color: #d4ebff;}#sk-container-id-1 input.sk-hidden--visually {border: 0;clip: rect(1px 1px 1px 1px);clip: rect(1px, 1px, 1px, 1px);height: 1px;margin: -1px;overflow: hidden;padding: 0;position: absolute;width: 1px;}#sk-container-id-1 div.sk-estimator {font-family: monospace;background-color: #f0f8ff;border: 1px dotted black;border-radius: 0.25em;box-sizing: border-box;margin-bottom: 0.5em;}#sk-container-id-1 div.sk-estimator:hover {background-color: #d4ebff;}#sk-container-id-1 div.sk-parallel-item::after {content: \"\";width: 100%;border-bottom: 1px solid gray;flex-grow: 1;}#sk-container-id-1 div.sk-label:hover label.sk-toggleable__label {background-color: #d4ebff;}#sk-container-id-1 div.sk-serial::before {content: \"\";position: absolute;border-left: 1px solid gray;box-sizing: border-box;top: 0;bottom: 0;left: 50%;z-index: 0;}#sk-container-id-1 div.sk-serial {display: flex;flex-direction: column;align-items: center;background-color: white;padding-right: 0.2em;padding-left: 0.2em;position: relative;}#sk-container-id-1 div.sk-item {position: relative;z-index: 1;}#sk-container-id-1 div.sk-parallel {display: flex;align-items: stretch;justify-content: center;background-color: white;position: relative;}#sk-container-id-1 div.sk-item::before, #sk-container-id-1 div.sk-parallel-item::before {content: \"\";position: absolute;border-left: 1px solid gray;box-sizing: border-box;top: 0;bottom: 0;left: 50%;z-index: -1;}#sk-container-id-1 div.sk-parallel-item {display: flex;flex-direction: column;z-index: 1;position: relative;background-color: white;}#sk-container-id-1 div.sk-parallel-item:first-child::after {align-self: flex-end;width: 50%;}#sk-container-id-1 div.sk-parallel-item:last-child::after {align-self: flex-start;width: 50%;}#sk-container-id-1 div.sk-parallel-item:only-child::after {width: 0;}#sk-container-id-1 div.sk-dashed-wrapped {border: 1px dashed gray;margin: 0 0.4em 0.5em 0.4em;box-sizing: border-box;padding-bottom: 0.4em;background-color: white;}#sk-container-id-1 div.sk-label label {font-family: monospace;font-weight: bold;display: inline-block;line-height: 1.2em;}#sk-container-id-1 div.sk-label-container {text-align: center;}#sk-container-id-1 div.sk-container {/* jupyter's `normalize.less` sets `[hidden] { display: none; }` but bootstrap.min.css set `[hidden] { display: none !important; }` so we also need the `!important` here to be able to override the default hidden behavior on the sphinx rendered scikit-learn.org. See: https://github.com/scikit-learn/scikit-learn/issues/21755 */display: inline-block !important;position: relative;}#sk-container-id-1 div.sk-text-repr-fallback {display: none;}</style><div id=\"sk-container-id-1\" class=\"sk-top-container\"><div class=\"sk-text-repr-fallback\"><pre>Pipeline(steps=[(&#x27;tfidf&#x27;, TfidfVectorizer()), (&#x27;clf&#x27;, MultinomialNB())])</pre><b>In a Jupyter environment, please rerun this cell to show the HTML representation or trust the notebook. <br />On GitHub, the HTML representation is unable to render, please try loading this page with nbviewer.org.</b></div><div class=\"sk-container\" hidden><div class=\"sk-item sk-dashed-wrapped\"><div class=\"sk-label-container\"><div class=\"sk-label sk-toggleable\"><input class=\"sk-toggleable__control sk-hidden--visually\" id=\"sk-estimator-id-1\" type=\"checkbox\" ><label for=\"sk-estimator-id-1\" class=\"sk-toggleable__label sk-toggleable__label-arrow\">Pipeline</label><div class=\"sk-toggleable__content\"><pre>Pipeline(steps=[(&#x27;tfidf&#x27;, TfidfVectorizer()), (&#x27;clf&#x27;, MultinomialNB())])</pre></div></div></div><div class=\"sk-serial\"><div class=\"sk-item\"><div class=\"sk-estimator sk-toggleable\"><input class=\"sk-toggleable__control sk-hidden--visually\" id=\"sk-estimator-id-2\" type=\"checkbox\" ><label for=\"sk-estimator-id-2\" class=\"sk-toggleable__label sk-toggleable__label-arrow\">TfidfVectorizer</label><div class=\"sk-toggleable__content\"><pre>TfidfVectorizer()</pre></div></div></div><div class=\"sk-item\"><div class=\"sk-estimator sk-toggleable\"><input class=\"sk-toggleable__control sk-hidden--visually\" id=\"sk-estimator-id-3\" type=\"checkbox\" ><label for=\"sk-estimator-id-3\" class=\"sk-toggleable__label sk-toggleable__label-arrow\">MultinomialNB</label><div class=\"sk-toggleable__content\"><pre>MultinomialNB()</pre></div></div></div></div></div></div></div>"
            ]
          },
          "metadata": {},
          "execution_count": 57
        }
      ]
    },
    {
      "cell_type": "code",
      "source": [
        "model_0_pred = model_0.predict(val_sent)\n",
        "model_0_pred"
      ],
      "metadata": {
        "colab": {
          "base_uri": "https://localhost:8080/"
        },
        "id": "08AEecCLvsb2",
        "outputId": "efd5bbf1-f065-494b-fe51-79b0a8cadaea"
      },
      "execution_count": null,
      "outputs": [
        {
          "output_type": "execute_result",
          "data": {
            "text/plain": [
              "array([4, 1, 3, ..., 4, 4, 1])"
            ]
          },
          "metadata": {},
          "execution_count": 58
        }
      ]
    },
    {
      "cell_type": "code",
      "source": [
        "# Function to evaluate: accuracy, precision, recall, f1-score\n",
        "from sklearn.metrics import accuracy_score, precision_recall_fscore_support\n",
        "\n",
        "def calculate_results(y_true, y_pred):\n",
        "  \"\"\"\n",
        "  Calculates model accuracy, precision, recall and f1 score of a binary classification model.\n",
        "\n",
        "  \"\"\"\n",
        "  # Calculate model accuracy\n",
        "  model_accuracy = accuracy_score(y_true, y_pred) \n",
        "  # Calculate model precision, recall and f1 score using \"weighted\" average\n",
        "  model_precision, model_recall, model_f1, _ = precision_recall_fscore_support(y_true, y_pred, average=\"weighted\")\n",
        "  model_results = {\"accuracy\": round(model_accuracy, 2),\n",
        "                  \"precision\": round(model_precision, 2),\n",
        "                  \"recall\": round(model_recall, 2),\n",
        "                  \"f1\": round(model_f1, 2)}\n",
        "  return model_results"
      ],
      "metadata": {
        "id": "bmLC0364zijr"
      },
      "execution_count": null,
      "outputs": []
    },
    {
      "cell_type": "code",
      "source": [
        "baseline_metrics = calculate_results(y_true=val_labels_le,\n",
        "                                     y_pred=model_0_pred)\n",
        "baseline_metrics"
      ],
      "metadata": {
        "colab": {
          "base_uri": "https://localhost:8080/"
        },
        "id": "W--je4A20FZj",
        "outputId": "1feefbc2-de7d-4841-d0e4-18ad1cb39516"
      },
      "execution_count": null,
      "outputs": [
        {
          "output_type": "execute_result",
          "data": {
            "text/plain": [
              "{'accuracy': 0.72, 'precision': 0.72, 'recall': 0.72, 'f1': 0.7}"
            ]
          },
          "metadata": {},
          "execution_count": 59
        }
      ]
    },
    {
      "cell_type": "markdown",
      "source": [
        "## Turn text into numbers"
      ],
      "metadata": {
        "id": "EySCmZPp0qc4"
      }
    },
    {
      "cell_type": "code",
      "source": [
        "# Average amount of words in sentence\n",
        "sent_tok_len = [len(i.split()) for i in train_sent]\n",
        "avg_sent_tok_len = np.mean(sent_tok_len)\n",
        "avg_sent_tok_len"
      ],
      "metadata": {
        "colab": {
          "base_uri": "https://localhost:8080/"
        },
        "id": "sLV2TPgr7wIm",
        "outputId": "64b721e6-6256-4625-ef99-7199eb05e300"
      },
      "execution_count": null,
      "outputs": [
        {
          "output_type": "execute_result",
          "data": {
            "text/plain": [
              "26.338269273494777"
            ]
          },
          "metadata": {},
          "execution_count": 13
        }
      ]
    },
    {
      "cell_type": "code",
      "source": [
        "# Distribution of length\n",
        "plt.figure(figsize=(10,7))\n",
        "plt.hist(sent_tok_len, bins=40)\n",
        "plt.title('Distribution of length (tokens)')\n",
        "plt.xlim((0,150))\n",
        "plt.show()"
      ],
      "metadata": {
        "colab": {
          "base_uri": "https://localhost:8080/",
          "height": 444
        },
        "id": "IxG2KLqf8xq9",
        "outputId": "cf8717e0-9852-4219-e858-e2cef3929dee"
      },
      "execution_count": null,
      "outputs": [
        {
          "output_type": "display_data",
          "data": {
            "text/plain": [
              "<Figure size 720x504 with 1 Axes>"
            ],
            "image/png": "[encoded data removed]"
          },
          "metadata": {
            "needs_background": "light"
          }
        }
      ]
    },
    {
      "cell_type": "code",
      "source": [
        "# How long a sentence length covers 95% of examples\n",
        "output_seq_len = int(np.percentile(sent_tok_len, 95))\n",
        "output_seq_len"
      ],
      "metadata": {
        "colab": {
          "base_uri": "https://localhost:8080/"
        },
        "id": "HzkJaZi0-NX4",
        "outputId": "f93a3449-14bf-4ca0-da9c-8030b15c8f2a"
      },
      "execution_count": null,
      "outputs": [
        {
          "output_type": "execute_result",
          "data": {
            "text/plain": [
              "55"
            ]
          },
          "metadata": {},
          "execution_count": 14
        }
      ]
    },
    {
      "cell_type": "code",
      "source": [
        "# Max length of sentences\n",
        "max_tok_len = np.max(sent_tok_len)\n",
        "max_tok_len"
      ],
      "metadata": {
        "colab": {
          "base_uri": "https://localhost:8080/"
        },
        "id": "jk8Fjxrm-xS-",
        "outputId": "452f74b9-3b4e-4d3b-fc77-1d815dc4e638"
      },
      "execution_count": null,
      "outputs": [
        {
          "output_type": "execute_result",
          "data": {
            "text/plain": [
              "296"
            ]
          },
          "metadata": {},
          "execution_count": 61
        }
      ]
    },
    {
      "cell_type": "code",
      "source": [
        "# Number of words in vocabulary (takes in a paper)\n",
        "max_words_vocab = 68000"
      ],
      "metadata": {
        "id": "6GTahU0t8Lc0"
      },
      "execution_count": null,
      "outputs": []
    },
    {
      "cell_type": "code",
      "source": [
        "# Use TextVectorizer\n",
        "from tensorflow.keras.layers import TextVectorization\n",
        "text_vectorizer = TextVectorization(max_tokens=max_words_vocab,\n",
        "                                    output_sequence_length=output_seq_len,\n",
        "                                    pad_to_max_tokens=True)\n",
        "text_vectorizer.adapt(train_sent)"
      ],
      "metadata": {
        "id": "52vgdSy60vhT"
      },
      "execution_count": null,
      "outputs": []
    },
    {
      "cell_type": "code",
      "source": [
        "train_vocab = text_vectorizer.get_vocabulary()"
      ],
      "metadata": {
        "id": "lPv49ekp4tXJ"
      },
      "execution_count": null,
      "outputs": []
    },
    {
      "cell_type": "code",
      "source": [
        "len(train_vocab)"
      ],
      "metadata": {
        "colab": {
          "base_uri": "https://localhost:8080/"
        },
        "id": "Dn70rQkiBtWV",
        "outputId": "f6f2a4e1-9b3c-4bff-e71a-3da3a056263d"
      },
      "execution_count": null,
      "outputs": [
        {
          "output_type": "execute_result",
          "data": {
            "text/plain": [
              "64841"
            ]
          },
          "metadata": {},
          "execution_count": 78
        }
      ]
    },
    {
      "cell_type": "code",
      "source": [
        "train_vocab[:10]"
      ],
      "metadata": {
        "colab": {
          "base_uri": "https://localhost:8080/"
        },
        "id": "WRz8OqG-40XB",
        "outputId": "7c1d2e68-90d6-4075-84fd-e3d91168c4c3"
      },
      "execution_count": null,
      "outputs": [
        {
          "output_type": "execute_result",
          "data": {
            "text/plain": [
              "['', '[UNK]', 'the', 'and', 'of', 'in', 'to', 'with', 'a', 'were']"
            ]
          },
          "metadata": {},
          "execution_count": 75
        }
      ]
    },
    {
      "cell_type": "code",
      "source": [
        "train_vocab[-10650:-10640]"
      ],
      "metadata": {
        "colab": {
          "base_uri": "https://localhost:8080/"
        },
        "id": "HJf5CS_c424T",
        "outputId": "31ba5393-a58c-4cf4-ea31-69508137e715"
      },
      "execution_count": null,
      "outputs": [
        {
          "output_type": "execute_result",
          "data": {
            "text/plain": [
              "['kilgo',\n",
              " 'kigali',\n",
              " 'kieldahl',\n",
              " 'kidsdott',\n",
              " 'kidneyyin',\n",
              " 'kidneyureterbladder',\n",
              " 'kidneytransplant',\n",
              " 'kidneypancreas',\n",
              " 'kidneynourishing',\n",
              " 'kickoff']"
            ]
          },
          "metadata": {},
          "execution_count": 36
        }
      ]
    },
    {
      "cell_type": "code",
      "source": [
        "# Get the config of our text vectorizer\n",
        "text_vectorizer.get_config()"
      ],
      "metadata": {
        "colab": {
          "base_uri": "https://localhost:8080/"
        },
        "id": "-jWdBPaVAtQv",
        "outputId": "12c5a269-decd-4b63-9293-eebfd0ba64b4"
      },
      "execution_count": null,
      "outputs": [
        {
          "output_type": "execute_result",
          "data": {
            "text/plain": [
              "{'name': 'text_vectorization_3',\n",
              " 'trainable': True,\n",
              " 'dtype': 'string',\n",
              " 'batch_input_shape': (None,),\n",
              " 'max_tokens': 68000,\n",
              " 'standardize': 'lower_and_strip_punctuation',\n",
              " 'split': 'whitespace',\n",
              " 'ngrams': None,\n",
              " 'output_mode': 'int',\n",
              " 'output_sequence_length': 55,\n",
              " 'pad_to_max_tokens': True,\n",
              " 'sparse': False,\n",
              " 'ragged': False,\n",
              " 'vocabulary': None,\n",
              " 'idf_weights': None,\n",
              " 'encoding': 'utf-8'}"
            ]
          },
          "metadata": {},
          "execution_count": 76
        }
      ]
    },
    {
      "cell_type": "code",
      "source": [
        "# Create Embeding layer\n",
        "from tensorflow.keras.layers import Embedding\n",
        "token_embed = Embedding(input_dim=len(train_vocab),\n",
        "                  output_dim = 128,\n",
        "                  mask_zero=True)#,\n",
        "                  #input_length=output_seq_len)"
      ],
      "metadata": {
        "id": "RbQk--ij458P"
      },
      "execution_count": null,
      "outputs": []
    },
    {
      "cell_type": "markdown",
      "source": [
        "## Creating datasets (increase speed)\n"
      ],
      "metadata": {
        "id": "-l2pa5qZD0ei"
      }
    },
    {
      "cell_type": "code",
      "source": [
        "# Turn our data into Tensorflow datasets\n",
        "train_ds = tf.data.Dataset.from_tensor_slices((train_sent, train_labels_ohe))\n",
        "val_ds = tf.data.Dataset.from_tensor_slices((val_sent, val_labels_ohe))\n",
        "test_ds = tf.data.Dataset.from_tensor_slices((test_sent, test_labels_ohe))\n",
        "\n",
        "train_ds"
      ],
      "metadata": {
        "colab": {
          "base_uri": "https://localhost:8080/"
        },
        "id": "CCm7Tzr3EPeJ",
        "outputId": "d48ffc07-a08e-43b3-f5cd-32451abd2b04"
      },
      "execution_count": null,
      "outputs": [
        {
          "output_type": "execute_result",
          "data": {
            "text/plain": [
              "<TensorSliceDataset element_spec=(TensorSpec(shape=(), dtype=tf.string, name=None), TensorSpec(shape=(5,), dtype=tf.float64, name=None))>"
            ]
          },
          "metadata": {},
          "execution_count": 20
        }
      ]
    },
    {
      "cell_type": "code",
      "source": [
        "# Prefetch data\n",
        "train_ds = train_ds.batch(32).prefetch(tf.data.AUTOTUNE)\n",
        "val_ds = val_ds.batch(32).prefetch(tf.data.AUTOTUNE)\n",
        "test_ds = test_ds.batch(32).prefetch(tf.data.AUTOTUNE)\n",
        "\n",
        "train_ds"
      ],
      "metadata": {
        "colab": {
          "base_uri": "https://localhost:8080/"
        },
        "id": "QHUslL6HFhH5",
        "outputId": "3d11dcc6-5d30-4189-c688-c367408f15eb"
      },
      "execution_count": null,
      "outputs": [
        {
          "output_type": "execute_result",
          "data": {
            "text/plain": [
              "<PrefetchDataset element_spec=(TensorSpec(shape=(None,), dtype=tf.string, name=None), TensorSpec(shape=(None, 5), dtype=tf.float64, name=None))>"
            ]
          },
          "metadata": {},
          "execution_count": 63
        }
      ]
    },
    {
      "cell_type": "markdown",
      "source": [
        "## Model 1 CNN with token embeddings"
      ],
      "metadata": {
        "id": "MTZk4V8w6aQH"
      }
    },
    {
      "cell_type": "code",
      "source": [
        "from tensorflow.keras import layers\n",
        "\n",
        "inputs = layers.Input(shape=(1,), dtype='string')\n",
        "x = text_vectorizer(inputs)\n",
        "x = token_embed(x)\n",
        "x = layers.Conv1D(64, 5, activation='relu')(x)\n",
        "x = layers.GlobalAveragePooling1D()(x)\n",
        "outputs = layers.Dense(num_classes, activation = 'softmax')(x)\n",
        "\n",
        "model_1 = tf.keras.Model(inputs, outputs)\n"
      ],
      "metadata": {
        "id": "5Krj60jz58de"
      },
      "execution_count": null,
      "outputs": []
    },
    {
      "cell_type": "code",
      "source": [
        "model_1.summary()"
      ],
      "metadata": {
        "colab": {
          "base_uri": "https://localhost:8080/"
        },
        "id": "pUiK4Sae4zhk",
        "outputId": "51edb2f8-b695-4749-b3e4-a85952854676"
      },
      "execution_count": null,
      "outputs": [
        {
          "output_type": "stream",
          "name": "stdout",
          "text": [
            "Model: \"model_4\"\n",
            "_________________________________________________________________\n",
            " Layer (type)                Output Shape              Param #   \n",
            "=================================================================\n",
            " input_6 (InputLayer)        [(None, 1)]               0         \n",
            "                                                                 \n",
            " text_vectorization_3 (TextV  (None, 55)               0         \n",
            " ectorization)                                                   \n",
            "                                                                 \n",
            " embedding_3 (Embedding)     (None, 55, 128)           8299648   \n",
            "                                                                 \n",
            " conv1d_4 (Conv1D)           (None, 51, 64)            41024     \n",
            "                                                                 \n",
            " global_average_pooling1d_2   (None, 64)               0         \n",
            " (GlobalAveragePooling1D)                                        \n",
            "                                                                 \n",
            " dense_4 (Dense)             (None, 5)                 325       \n",
            "                                                                 \n",
            "=================================================================\n",
            "Total params: 8,340,997\n",
            "Trainable params: 8,340,997\n",
            "Non-trainable params: 0\n",
            "_________________________________________________________________\n"
          ]
        }
      ]
    },
    {
      "cell_type": "code",
      "source": [
        "# Compile model\n",
        "model_1.compile(loss='categorical_crossentropy',\n",
        "                optimizer = tf.keras.optimizers.Adam(),\n",
        "                metrics=['accuracy'])\n",
        "\n",
        "# Fit the model\n",
        "history_model_1 = model_1.fit(train_ds,\n",
        "                              steps_per_epoch=int(0.1*len(train_ds)), \n",
        "                              epochs=3,\n",
        "                              validation_data=val_ds, \n",
        "                              validation_steps=int(0.1*len(val_ds)) )"
      ],
      "metadata": {
        "colab": {
          "base_uri": "https://localhost:8080/"
        },
        "id": "A_dD6VVH4cdJ",
        "outputId": "e3b021db-e427-42fa-8b42-eb743edfa9a8"
      },
      "execution_count": null,
      "outputs": [
        {
          "output_type": "stream",
          "name": "stdout",
          "text": [
            "Epoch 1/3\n",
            "562/562 [==============================] - 40s 60ms/step - loss: 0.9561 - accuracy: 0.6152 - val_loss: 0.7288 - val_accuracy: 0.7151\n",
            "Epoch 2/3\n",
            "562/562 [==============================] - 8s 14ms/step - loss: 0.6886 - accuracy: 0.7419 - val_loss: 0.6642 - val_accuracy: 0.7603\n",
            "Epoch 3/3\n",
            "562/562 [==============================] - 6s 10ms/step - loss: 0.6417 - accuracy: 0.7644 - val_loss: 0.6204 - val_accuracy: 0.7746\n"
          ]
        }
      ]
    },
    {
      "cell_type": "code",
      "source": [
        "# Evaluate on full val_ds\n",
        "accuracy = model_1.evaluate(val_ds)"
      ],
      "metadata": {
        "colab": {
          "base_uri": "https://localhost:8080/"
        },
        "id": "hjTLO7Is6qAj",
        "outputId": "9db427d9-a9fa-4f22-b565-deb627c8708a"
      },
      "execution_count": null,
      "outputs": [
        {
          "output_type": "stream",
          "name": "stdout",
          "text": [
            "945/945 [==============================] - 5s 5ms/step - loss: 0.6165 - accuracy: 0.7808\n"
          ]
        }
      ]
    },
    {
      "cell_type": "code",
      "source": [
        "# Get predictions\n",
        "model_1_prob = model_1.predict(val_ds)\n",
        "model_1_prob"
      ],
      "metadata": {
        "colab": {
          "base_uri": "https://localhost:8080/"
        },
        "id": "k_BzxsxTIFP2",
        "outputId": "4e077017-7537-424c-8eb8-bec3ba50f718"
      },
      "execution_count": null,
      "outputs": [
        {
          "output_type": "stream",
          "name": "stdout",
          "text": [
            "945/945 [==============================] - 3s 3ms/step\n"
          ]
        },
        {
          "output_type": "execute_result",
          "data": {
            "text/plain": [
              "array([[4.3061551e-01, 1.8555193e-01, 5.6996491e-02, 3.0840394e-01,\n",
              "        1.8432017e-02],\n",
              "       [4.6701264e-01, 2.2677992e-01, 1.3610383e-02, 2.8421992e-01,\n",
              "        8.3771488e-03],\n",
              "       [1.7826875e-01, 1.5118907e-02, 3.0973456e-03, 8.0345702e-01,\n",
              "        5.7902795e-05],\n",
              "       ...,\n",
              "       [5.1679253e-06, 9.3674642e-04, 6.3477497e-04, 4.8707006e-06,\n",
              "        9.9841845e-01],\n",
              "       [4.2132266e-02, 4.2058310e-01, 1.0179592e-01, 6.5299690e-02,\n",
              "        3.7018901e-01],\n",
              "       [2.9269370e-01, 4.8329046e-01, 9.5389172e-02, 7.7047616e-02,\n",
              "        5.1579107e-02]], dtype=float32)"
            ]
          },
          "metadata": {},
          "execution_count": 65
        }
      ]
    },
    {
      "cell_type": "code",
      "source": [
        "model_1_pred = tf.argmax(model_1_prob, axis=1)\n",
        "model_1_pred"
      ],
      "metadata": {
        "colab": {
          "base_uri": "https://localhost:8080/"
        },
        "id": "3Qjef8PYIuif",
        "outputId": "e958468c-d3e5-4508-c98e-dcd8ee45df62"
      },
      "execution_count": null,
      "outputs": [
        {
          "output_type": "execute_result",
          "data": {
            "text/plain": [
              "<tf.Tensor: shape=(30212,), dtype=int64, numpy=array([0, 0, 3, ..., 4, 1, 1])>"
            ]
          },
          "metadata": {},
          "execution_count": 66
        }
      ]
    },
    {
      "cell_type": "code",
      "source": [
        "val_labels_le"
      ],
      "metadata": {
        "colab": {
          "base_uri": "https://localhost:8080/"
        },
        "id": "pMqjyXTdKHY8",
        "outputId": "bc540715-b79c-4482-93e9-ec7dbebe1f51"
      },
      "execution_count": null,
      "outputs": [
        {
          "output_type": "execute_result",
          "data": {
            "text/plain": [
              "array([0, 0, 3, ..., 4, 1, 1])"
            ]
          },
          "metadata": {},
          "execution_count": 106
        }
      ]
    },
    {
      "cell_type": "code",
      "source": [
        "model_1_metrics = calculate_results(y_true=val_labels_le,\n",
        "                                     y_pred=model_1_pred)\n",
        "model_1_metrics"
      ],
      "metadata": {
        "colab": {
          "base_uri": "https://localhost:8080/"
        },
        "id": "je5A0GuhH2j6",
        "outputId": "8e03f578-08b5-40f1-d0ae-984017d9dcdc"
      },
      "execution_count": null,
      "outputs": [
        {
          "output_type": "execute_result",
          "data": {
            "text/plain": [
              "{'accuracy': 0.78, 'precision': 0.78, 'recall': 0.78, 'f1': 0.78}"
            ]
          },
          "metadata": {},
          "execution_count": 67
        }
      ]
    },
    {
      "cell_type": "code",
      "source": [
        "baseline_metrics"
      ],
      "metadata": {
        "colab": {
          "base_uri": "https://localhost:8080/"
        },
        "id": "6P5trPGXK79-",
        "outputId": "ea2182ff-2cc4-4fc3-f6f8-4cce8edae1b5"
      },
      "execution_count": null,
      "outputs": [
        {
          "output_type": "execute_result",
          "data": {
            "text/plain": [
              "{'accuracy': 0.72, 'precision': 0.72, 'recall': 0.72, 'f1': 0.7}"
            ]
          },
          "metadata": {},
          "execution_count": 112
        }
      ]
    },
    {
      "cell_type": "markdown",
      "source": [
        "## Model 2 Feature extraction with pretrained token embeddings"
      ],
      "metadata": {
        "id": "O2aXBDOjME3G"
      }
    },
    {
      "cell_type": "code",
      "source": [
        "import tensorflow_hub as hub\n",
        "USE_URL = 'https://tfhub.dev/google/universal-sentence-encoder/4'\n",
        "\n",
        "use_embed = hub.load(USE_URL)"
      ],
      "metadata": {
        "id": "Z9U57GSSK9ZL"
      },
      "execution_count": null,
      "outputs": []
    },
    {
      "cell_type": "code",
      "source": [
        "use_embed_layer = hub.KerasLayer(USE_URL,\n",
        "                                 output_shape=(512),\n",
        "                                 dtype='string')"
      ],
      "metadata": {
        "id": "mbn2l8NZOr8x"
      },
      "execution_count": null,
      "outputs": []
    },
    {
      "cell_type": "code",
      "source": [
        "# Create a model\n",
        "from tensorflow.keras import layers\n",
        "inputs = layers.Input(shape=[], dtype='string')\n",
        "x = use_embed_layer(inputs)\n",
        "x = layers.Dense(128, activation='relu')(x)\n",
        "outputs = layers.Dense(num_classes, activation='softmax')(x)\n",
        "\n",
        "model_2 = tf.keras.Model(inputs, outputs)"
      ],
      "metadata": {
        "id": "XkZMnNTCPAMf"
      },
      "execution_count": null,
      "outputs": []
    },
    {
      "cell_type": "code",
      "source": [
        "model_2.summary()"
      ],
      "metadata": {
        "colab": {
          "base_uri": "https://localhost:8080/"
        },
        "id": "PFxUMuLsPq8J",
        "outputId": "fa98f286-6098-45aa-f96a-d08ee685bbaa"
      },
      "execution_count": null,
      "outputs": [
        {
          "output_type": "stream",
          "name": "stdout",
          "text": [
            "Model: \"model\"\n",
            "_________________________________________________________________\n",
            " Layer (type)                Output Shape              Param #   \n",
            "=================================================================\n",
            " input_1 (InputLayer)        [(None,)]                 0         \n",
            "                                                                 \n",
            " keras_layer (KerasLayer)    (None, 512)               256797824 \n",
            "                                                                 \n",
            " dense (Dense)               (None, 128)               65664     \n",
            "                                                                 \n",
            " dense_1 (Dense)             (None, 5)                 645       \n",
            "                                                                 \n",
            "=================================================================\n",
            "Total params: 256,864,133\n",
            "Trainable params: 66,309\n",
            "Non-trainable params: 256,797,824\n",
            "_________________________________________________________________\n"
          ]
        }
      ]
    },
    {
      "cell_type": "code",
      "source": [
        "# Compile model\n",
        "model_2.compile(loss='categorical_crossentropy',\n",
        "                optimizer = tf.keras.optimizers.Adam(),\n",
        "                metrics=['accuracy'])\n",
        "\n",
        "# Fit the model\n",
        "history_model_2 = model_2.fit(train_ds,\n",
        "                              steps_per_epoch=int(0.1*len(train_ds)), \n",
        "                              epochs=3,\n",
        "                              validation_data=val_ds, \n",
        "                              validation_steps=int(0.1*len(val_ds)) )"
      ],
      "metadata": {
        "colab": {
          "base_uri": "https://localhost:8080/"
        },
        "id": "gcvwR5QUPxYj",
        "outputId": "3bcac40f-7e36-4435-be2e-522a9265b62f"
      },
      "execution_count": null,
      "outputs": [
        {
          "output_type": "stream",
          "name": "stdout",
          "text": [
            "Epoch 1/3\n",
            "562/562 [==============================] - 11s 15ms/step - loss: 0.9148 - accuracy: 0.6468 - val_loss: 0.7978 - val_accuracy: 0.6888\n",
            "Epoch 2/3\n",
            "562/562 [==============================] - 9s 16ms/step - loss: 0.7700 - accuracy: 0.7011 - val_loss: 0.7563 - val_accuracy: 0.7028\n",
            "Epoch 3/3\n",
            "562/562 [==============================] - 15s 27ms/step - loss: 0.7549 - accuracy: 0.7109 - val_loss: 0.7419 - val_accuracy: 0.7141\n"
          ]
        }
      ]
    },
    {
      "cell_type": "code",
      "source": [
        "# Evaluate on a full val_ds\n",
        "accuracy_model_2 = model_2.evaluate(val_ds)"
      ],
      "metadata": {
        "colab": {
          "base_uri": "https://localhost:8080/"
        },
        "id": "e9PuG7HUQ4E7",
        "outputId": "8ad717e7-a213-45f0-fd59-30c9b58eda59"
      },
      "execution_count": null,
      "outputs": [
        {
          "output_type": "stream",
          "name": "stdout",
          "text": [
            "945/945 [==============================] - 17s 18ms/step - loss: 0.7407 - accuracy: 0.7144\n"
          ]
        }
      ]
    },
    {
      "cell_type": "code",
      "source": [
        "# Get predictions\n",
        "model_2_prob = model_2.predict(val_ds)\n",
        "model_2_pred = tf.argmax(model_2_prob, axis=1)"
      ],
      "metadata": {
        "colab": {
          "base_uri": "https://localhost:8080/"
        },
        "id": "A8tSuz9DRDsE",
        "outputId": "812de352-7618-40d3-ff6a-823550790bc3"
      },
      "execution_count": null,
      "outputs": [
        {
          "output_type": "stream",
          "name": "stdout",
          "text": [
            "945/945 [==============================] - 18s 18ms/step\n"
          ]
        }
      ]
    },
    {
      "cell_type": "code",
      "source": [
        "# Calculate evaluation metrics\n",
        "model_2_metrics = calculate_results(y_true=val_labels_le,\n",
        "                                    y_pred=model_2_pred)\n",
        "model_2_metrics"
      ],
      "metadata": {
        "colab": {
          "base_uri": "https://localhost:8080/"
        },
        "id": "UpKhAfyuRVDn",
        "outputId": "99762788-8b69-43c8-e2e6-31b4511710c3"
      },
      "execution_count": null,
      "outputs": [
        {
          "output_type": "execute_result",
          "data": {
            "text/plain": [
              "{'accuracy': 0.71, 'precision': 0.71, 'recall': 0.71, 'f1': 0.71}"
            ]
          },
          "metadata": {},
          "execution_count": 71
        }
      ]
    },
    {
      "cell_type": "markdown",
      "source": [
        "## Character embeddings"
      ],
      "metadata": {
        "id": "_eFmthNfSO51"
      }
    },
    {
      "cell_type": "markdown",
      "source": [
        "### Create a character-level tokeniser"
      ],
      "metadata": {
        "id": "e34hcU7NTrlL"
      }
    },
    {
      "cell_type": "code",
      "source": [
        "# Make a function to split sentence into characters\n",
        "def split_char(text):\n",
        "  return \" \".join(list(text))"
      ],
      "metadata": {
        "id": "2qbffHKHR1dH"
      },
      "execution_count": null,
      "outputs": []
    },
    {
      "cell_type": "code",
      "source": [
        "split_char(train_sent[0])"
      ],
      "metadata": {
        "colab": {
          "base_uri": "https://localhost:8080/",
          "height": 140
        },
        "id": "jZQVEqxvUDC7",
        "outputId": "b7a5c6fc-7f01-448b-ef80-171b65ee7fd4"
      },
      "execution_count": null,
      "outputs": [
        {
          "output_type": "execute_result",
          "data": {
            "text/plain": [
              "'t o   i n v e s t i g a t e   t h e   e f f i c a c y   o f   @   w e e k s   o f   d a i l y   l o w - d o s e   o r a l   p r e d n i s o l o n e   i n   i m p r o v i n g   p a i n   ,   m o b i l i t y   ,   a n d   s y s t e m i c   l o w - g r a d e   i n f l a m m a t i o n   i n   t h e   s h o r t   t e r m   a n d   w h e t h e r   t h e   e f f e c t   w o u l d   b e   s u s t a i n e d   a t   @   w e e k s   i n   o l d e r   a d u l t s   w i t h   m o d e r a t e   t o   s e v e r e   k n e e   o s t e o a r t h r i t i s   (   o a   )   .'"
            ],
            "application/vnd.google.colaboratory.intrinsic+json": {
              "type": "string"
            }
          },
          "metadata": {},
          "execution_count": 34
        }
      ]
    },
    {
      "cell_type": "code",
      "source": [
        "list(train_sent[0])"
      ],
      "metadata": {
        "colab": {
          "base_uri": "https://localhost:8080/"
        },
        "id": "ZGZ4RYGMUF5S",
        "outputId": "cc4f1083-06bd-421c-f856-a3dfe490a44a"
      },
      "execution_count": null,
      "outputs": [
        {
          "output_type": "execute_result",
          "data": {
            "text/plain": [
              "['t',\n",
              " 'o',\n",
              " ' ',\n",
              " 'i',\n",
              " 'n',\n",
              " 'v',\n",
              " 'e',\n",
              " 's',\n",
              " 't',\n",
              " 'i',\n",
              " 'g',\n",
              " 'a',\n",
              " 't',\n",
              " 'e',\n",
              " ' ',\n",
              " 't',\n",
              " 'h',\n",
              " 'e',\n",
              " ' ',\n",
              " 'e',\n",
              " 'f',\n",
              " 'f',\n",
              " 'i',\n",
              " 'c',\n",
              " 'a',\n",
              " 'c',\n",
              " 'y',\n",
              " ' ',\n",
              " 'o',\n",
              " 'f',\n",
              " ' ',\n",
              " '@',\n",
              " ' ',\n",
              " 'w',\n",
              " 'e',\n",
              " 'e',\n",
              " 'k',\n",
              " 's',\n",
              " ' ',\n",
              " 'o',\n",
              " 'f',\n",
              " ' ',\n",
              " 'd',\n",
              " 'a',\n",
              " 'i',\n",
              " 'l',\n",
              " 'y',\n",
              " ' ',\n",
              " 'l',\n",
              " 'o',\n",
              " 'w',\n",
              " '-',\n",
              " 'd',\n",
              " 'o',\n",
              " 's',\n",
              " 'e',\n",
              " ' ',\n",
              " 'o',\n",
              " 'r',\n",
              " 'a',\n",
              " 'l',\n",
              " ' ',\n",
              " 'p',\n",
              " 'r',\n",
              " 'e',\n",
              " 'd',\n",
              " 'n',\n",
              " 'i',\n",
              " 's',\n",
              " 'o',\n",
              " 'l',\n",
              " 'o',\n",
              " 'n',\n",
              " 'e',\n",
              " ' ',\n",
              " 'i',\n",
              " 'n',\n",
              " ' ',\n",
              " 'i',\n",
              " 'm',\n",
              " 'p',\n",
              " 'r',\n",
              " 'o',\n",
              " 'v',\n",
              " 'i',\n",
              " 'n',\n",
              " 'g',\n",
              " ' ',\n",
              " 'p',\n",
              " 'a',\n",
              " 'i',\n",
              " 'n',\n",
              " ' ',\n",
              " ',',\n",
              " ' ',\n",
              " 'm',\n",
              " 'o',\n",
              " 'b',\n",
              " 'i',\n",
              " 'l',\n",
              " 'i',\n",
              " 't',\n",
              " 'y',\n",
              " ' ',\n",
              " ',',\n",
              " ' ',\n",
              " 'a',\n",
              " 'n',\n",
              " 'd',\n",
              " ' ',\n",
              " 's',\n",
              " 'y',\n",
              " 's',\n",
              " 't',\n",
              " 'e',\n",
              " 'm',\n",
              " 'i',\n",
              " 'c',\n",
              " ' ',\n",
              " 'l',\n",
              " 'o',\n",
              " 'w',\n",
              " '-',\n",
              " 'g',\n",
              " 'r',\n",
              " 'a',\n",
              " 'd',\n",
              " 'e',\n",
              " ' ',\n",
              " 'i',\n",
              " 'n',\n",
              " 'f',\n",
              " 'l',\n",
              " 'a',\n",
              " 'm',\n",
              " 'm',\n",
              " 'a',\n",
              " 't',\n",
              " 'i',\n",
              " 'o',\n",
              " 'n',\n",
              " ' ',\n",
              " 'i',\n",
              " 'n',\n",
              " ' ',\n",
              " 't',\n",
              " 'h',\n",
              " 'e',\n",
              " ' ',\n",
              " 's',\n",
              " 'h',\n",
              " 'o',\n",
              " 'r',\n",
              " 't',\n",
              " ' ',\n",
              " 't',\n",
              " 'e',\n",
              " 'r',\n",
              " 'm',\n",
              " ' ',\n",
              " 'a',\n",
              " 'n',\n",
              " 'd',\n",
              " ' ',\n",
              " 'w',\n",
              " 'h',\n",
              " 'e',\n",
              " 't',\n",
              " 'h',\n",
              " 'e',\n",
              " 'r',\n",
              " ' ',\n",
              " 't',\n",
              " 'h',\n",
              " 'e',\n",
              " ' ',\n",
              " 'e',\n",
              " 'f',\n",
              " 'f',\n",
              " 'e',\n",
              " 'c',\n",
              " 't',\n",
              " ' ',\n",
              " 'w',\n",
              " 'o',\n",
              " 'u',\n",
              " 'l',\n",
              " 'd',\n",
              " ' ',\n",
              " 'b',\n",
              " 'e',\n",
              " ' ',\n",
              " 's',\n",
              " 'u',\n",
              " 's',\n",
              " 't',\n",
              " 'a',\n",
              " 'i',\n",
              " 'n',\n",
              " 'e',\n",
              " 'd',\n",
              " ' ',\n",
              " 'a',\n",
              " 't',\n",
              " ' ',\n",
              " '@',\n",
              " ' ',\n",
              " 'w',\n",
              " 'e',\n",
              " 'e',\n",
              " 'k',\n",
              " 's',\n",
              " ' ',\n",
              " 'i',\n",
              " 'n',\n",
              " ' ',\n",
              " 'o',\n",
              " 'l',\n",
              " 'd',\n",
              " 'e',\n",
              " 'r',\n",
              " ' ',\n",
              " 'a',\n",
              " 'd',\n",
              " 'u',\n",
              " 'l',\n",
              " 't',\n",
              " 's',\n",
              " ' ',\n",
              " 'w',\n",
              " 'i',\n",
              " 't',\n",
              " 'h',\n",
              " ' ',\n",
              " 'm',\n",
              " 'o',\n",
              " 'd',\n",
              " 'e',\n",
              " 'r',\n",
              " 'a',\n",
              " 't',\n",
              " 'e',\n",
              " ' ',\n",
              " 't',\n",
              " 'o',\n",
              " ' ',\n",
              " 's',\n",
              " 'e',\n",
              " 'v',\n",
              " 'e',\n",
              " 'r',\n",
              " 'e',\n",
              " ' ',\n",
              " 'k',\n",
              " 'n',\n",
              " 'e',\n",
              " 'e',\n",
              " ' ',\n",
              " 'o',\n",
              " 's',\n",
              " 't',\n",
              " 'e',\n",
              " 'o',\n",
              " 'a',\n",
              " 'r',\n",
              " 't',\n",
              " 'h',\n",
              " 'r',\n",
              " 'i',\n",
              " 't',\n",
              " 'i',\n",
              " 's',\n",
              " ' ',\n",
              " '(',\n",
              " ' ',\n",
              " 'o',\n",
              " 'a',\n",
              " ' ',\n",
              " ')',\n",
              " ' ',\n",
              " '.']"
            ]
          },
          "metadata": {},
          "execution_count": 35
        }
      ]
    },
    {
      "cell_type": "code",
      "source": [
        "# Split data sets\n",
        "train_char = [split_char(text) for text in train_sent]\n",
        "val_char = [split_char(text) for text in val_sent]\n",
        "test_char = [split_char(text) for text in test_sent]"
      ],
      "metadata": {
        "id": "O3krBsFTUMnp"
      },
      "execution_count": null,
      "outputs": []
    },
    {
      "cell_type": "code",
      "source": [
        "# Average amount of characters in sentence\n",
        "#avg_sent_char_len = sum(len(i) for i in train_sent) / len(train_sent)\n",
        "sent_char_len = [len(i) for i in train_sent]\n",
        "avg_sent_char_len = np.mean(sent_char_len)\n",
        "avg_sent_char_len"
      ],
      "metadata": {
        "colab": {
          "base_uri": "https://localhost:8080/"
        },
        "id": "eEjiKMTcUop3",
        "outputId": "3db3835e-e497-4184-beba-81a10b421b17"
      },
      "execution_count": null,
      "outputs": [
        {
          "output_type": "execute_result",
          "data": {
            "text/plain": [
              "149.3662574983337"
            ]
          },
          "metadata": {},
          "execution_count": 25
        }
      ]
    },
    {
      "cell_type": "code",
      "source": [
        "# Distribution of length (characters)\n",
        "import matplotlib.pyplot as plt\n",
        "plt.figure(figsize=(10,7))\n",
        "plt.hist(sent_char_len, bins=40)\n",
        "plt.title('Distribution of length (characters)')\n",
        "plt.xlim((0,650))\n",
        "plt.show()"
      ],
      "metadata": {
        "colab": {
          "base_uri": "https://localhost:8080/",
          "height": 444
        },
        "id": "bbPFPzXFU6RR",
        "outputId": "08b0e002-5b67-4d35-ea61-ffe0a3958675"
      },
      "execution_count": null,
      "outputs": [
        {
          "output_type": "display_data",
          "data": {
            "text/plain": [
              "<Figure size 720x504 with 1 Axes>"
            ],
            "image/png": "[encoded data removed]"
          },
          "metadata": {
            "needs_background": "light"
          }
        }
      ]
    },
    {
      "cell_type": "code",
      "source": [
        "# How long a sentence length covers 95% of examples\n",
        "output_char_len = int(np.percentile(sent_char_len, 95))\n",
        "output_char_len"
      ],
      "metadata": {
        "colab": {
          "base_uri": "https://localhost:8080/"
        },
        "id": "ocS030t4U95H",
        "outputId": "fe68f00d-c9e6-4d18-920c-3f40c9d6ecd0"
      },
      "execution_count": null,
      "outputs": [
        {
          "output_type": "execute_result",
          "data": {
            "text/plain": [
              "290"
            ]
          },
          "metadata": {},
          "execution_count": 26
        }
      ]
    },
    {
      "cell_type": "code",
      "source": [
        "# Get all characters\n",
        "import string\n",
        "alphabet = string.ascii_lowercase + string.digits + string.punctuation\n",
        "alphabet, len(alphabet)"
      ],
      "metadata": {
        "colab": {
          "base_uri": "https://localhost:8080/"
        },
        "id": "omUT2R24Vecg",
        "outputId": "c8489b7c-8409-4293-e981-74462cd84ae6"
      },
      "execution_count": null,
      "outputs": [
        {
          "output_type": "execute_result",
          "data": {
            "text/plain": [
              "('abcdefghijklmnopqrstuvwxyz0123456789!\"#$%&\\'()*+,-./:;<=>?@[\\\\]^_`{|}~', 68)"
            ]
          },
          "metadata": {},
          "execution_count": 27
        }
      ]
    },
    {
      "cell_type": "code",
      "source": [
        "# Create char-level token vectorizer\n",
        "num_char = len(alphabet) + 2 # for space and [UNK]\n",
        "char_vectorizer = TextVectorization(max_tokens=num_char,\n",
        "                                    output_sequence_length=output_char_len,\n",
        "                                    #standardize=None, # that's include digits\n",
        "                                    pad_to_max_tokens=True)"
      ],
      "metadata": {
        "id": "mxWb6DJnXBQZ"
      },
      "execution_count": null,
      "outputs": []
    },
    {
      "cell_type": "code",
      "source": [
        "char_vectorizer.adapt(train_char)"
      ],
      "metadata": {
        "id": "uki1nFBTYgL8"
      },
      "execution_count": null,
      "outputs": []
    },
    {
      "cell_type": "code",
      "source": [
        "# Check vocabulary\n",
        "char_vocab = char_vectorizer.get_vocabulary()\n",
        "char_vocab, len(char_vocab)"
      ],
      "metadata": {
        "colab": {
          "base_uri": "https://localhost:8080/"
        },
        "id": "1ge9RqvDYn6z",
        "outputId": "7605423b-f798-40ec-cc0d-a549c1ffa2da"
      },
      "execution_count": null,
      "outputs": [
        {
          "output_type": "execute_result",
          "data": {
            "text/plain": [
              "(['',\n",
              "  '[UNK]',\n",
              "  'e',\n",
              "  't',\n",
              "  'i',\n",
              "  'a',\n",
              "  'n',\n",
              "  'o',\n",
              "  'r',\n",
              "  's',\n",
              "  'd',\n",
              "  'c',\n",
              "  'l',\n",
              "  'h',\n",
              "  'p',\n",
              "  'm',\n",
              "  'u',\n",
              "  'f',\n",
              "  'g',\n",
              "  'y',\n",
              "  'w',\n",
              "  'v',\n",
              "  'b',\n",
              "  'k',\n",
              "  'x',\n",
              "  'z',\n",
              "  'q',\n",
              "  'j'],\n",
              " 28)"
            ]
          },
          "metadata": {},
          "execution_count": 30
        }
      ]
    },
    {
      "cell_type": "markdown",
      "source": [
        "### Create a character-level embedding layer"
      ],
      "metadata": {
        "id": "Ufd4phVqajrT"
      }
    },
    {
      "cell_type": "code",
      "source": [
        "# Create Embeding layer\n",
        "from tensorflow.keras.layers import Embedding\n",
        "char_embed = Embedding(input_dim=len(char_vocab),\n",
        "                       output_dim = 24,\n",
        "                       mask_zero=True)#,\n",
        "                  #input_length=output_seq_len)"
      ],
      "metadata": {
        "id": "e3GN6wetYuE0"
      },
      "execution_count": null,
      "outputs": []
    },
    {
      "cell_type": "markdown",
      "source": [
        "## Model 3 Conv1D with character embeddings"
      ],
      "metadata": {
        "id": "aSF2dcc7cw6F"
      }
    },
    {
      "cell_type": "code",
      "source": [
        "# Turn our data into Tensorflow datasets\n",
        "train_ds_char = tf.data.Dataset.from_tensor_slices((train_char, train_labels_ohe))\n",
        "val_ds_char = tf.data.Dataset.from_tensor_slices((val_char, val_labels_ohe))\n",
        "test_ds_char = tf.data.Dataset.from_tensor_slices((test_char, test_labels_ohe))\n",
        "\n",
        "train_ds_char"
      ],
      "metadata": {
        "colab": {
          "base_uri": "https://localhost:8080/"
        },
        "id": "Ulh2Rm0adL_7",
        "outputId": "336b7c6b-68c6-4c1c-fddf-317e222a6584"
      },
      "execution_count": null,
      "outputs": [
        {
          "output_type": "execute_result",
          "data": {
            "text/plain": [
              "<TensorSliceDataset element_spec=(TensorSpec(shape=(), dtype=tf.string, name=None), TensorSpec(shape=(5,), dtype=tf.float64, name=None))>"
            ]
          },
          "metadata": {},
          "execution_count": 72
        }
      ]
    },
    {
      "cell_type": "code",
      "source": [
        "# Prefetch data\n",
        "train_ds_char = train_ds_char.batch(32).prefetch(tf.data.AUTOTUNE)\n",
        "val_ds_char = val_ds_char.batch(32).prefetch(tf.data.AUTOTUNE)\n",
        "test_ds_char = test_ds_char.batch(32).prefetch(tf.data.AUTOTUNE)\n",
        "\n",
        "train_ds_char"
      ],
      "metadata": {
        "colab": {
          "base_uri": "https://localhost:8080/"
        },
        "id": "Vy3pP8H6dSjp",
        "outputId": "3fc43384-8060-4db4-cffc-1b2e90487ba3"
      },
      "execution_count": null,
      "outputs": [
        {
          "output_type": "execute_result",
          "data": {
            "text/plain": [
              "<PrefetchDataset element_spec=(TensorSpec(shape=(None,), dtype=tf.string, name=None), TensorSpec(shape=(None, 5), dtype=tf.float64, name=None))>"
            ]
          },
          "metadata": {},
          "execution_count": 73
        }
      ]
    },
    {
      "cell_type": "code",
      "source": [
        "from tensorflow.keras import layers\n",
        "\n",
        "inputs = layers.Input(shape=(1,), dtype='string')\n",
        "x = char_vectorizer(inputs)\n",
        "x = char_embed(x)\n",
        "x = layers.Conv1D(64, 5, activation='relu')(x)\n",
        "x = layers.GlobalMaxPooling1D()(x)\n",
        "outputs = layers.Dense(num_classes, activation = 'softmax')(x)\n",
        "\n",
        "model_3 = tf.keras.Model(inputs, outputs)\n"
      ],
      "metadata": {
        "id": "AQkxOXD_a-tT"
      },
      "execution_count": null,
      "outputs": []
    },
    {
      "cell_type": "code",
      "source": [
        "model_3.summary()"
      ],
      "metadata": {
        "colab": {
          "base_uri": "https://localhost:8080/"
        },
        "id": "F9477wOYdANS",
        "outputId": "c8bc2b82-c541-47a0-ca8e-7cdc1ed21e78"
      },
      "execution_count": null,
      "outputs": [
        {
          "output_type": "stream",
          "name": "stdout",
          "text": [
            "Model: \"model_2\"\n",
            "_________________________________________________________________\n",
            " Layer (type)                Output Shape              Param #   \n",
            "=================================================================\n",
            " input_3 (InputLayer)        [(None, 1)]               0         \n",
            "                                                                 \n",
            " text_vectorization_2 (TextV  (None, 290)              0         \n",
            " ectorization)                                                   \n",
            "                                                                 \n",
            " embedding_2 (Embedding)     (None, 290, 25)           700       \n",
            "                                                                 \n",
            " conv1d_1 (Conv1D)           (None, 286, 64)           8064      \n",
            "                                                                 \n",
            " global_max_pooling1d (Globa  (None, 64)               0         \n",
            " lMaxPooling1D)                                                  \n",
            "                                                                 \n",
            " dense_3 (Dense)             (None, 5)                 325       \n",
            "                                                                 \n",
            "=================================================================\n",
            "Total params: 9,089\n",
            "Trainable params: 9,089\n",
            "Non-trainable params: 0\n",
            "_________________________________________________________________\n"
          ]
        }
      ]
    },
    {
      "cell_type": "code",
      "source": [
        "# Compile model\n",
        "model_3.compile(loss='categorical_crossentropy',\n",
        "                optimizer = tf.keras.optimizers.Adam(),\n",
        "                metrics=['accuracy'])\n",
        "\n",
        "# Fit the model\n",
        "history_model_3 = model_3.fit(train_ds_char,\n",
        "                              steps_per_epoch=int(0.1*len(train_ds_char)), \n",
        "                              epochs=3,\n",
        "                              validation_data=val_ds_char, \n",
        "                              validation_steps=int(0.1*len(val_ds_char)) )"
      ],
      "metadata": {
        "colab": {
          "base_uri": "https://localhost:8080/"
        },
        "id": "M3DiO1v-dAZg",
        "outputId": "9672f3eb-6185-433f-8185-a732caa010bf"
      },
      "execution_count": null,
      "outputs": [
        {
          "output_type": "stream",
          "name": "stdout",
          "text": [
            "Epoch 1/3\n",
            "562/562 [==============================] - 7s 9ms/step - loss: 1.2827 - accuracy: 0.4605 - val_loss: 1.0598 - val_accuracy: 0.5791\n",
            "Epoch 2/3\n",
            "562/562 [==============================] - 3s 6ms/step - loss: 1.0111 - accuracy: 0.5889 - val_loss: 0.9432 - val_accuracy: 0.6243\n",
            "Epoch 3/3\n",
            "562/562 [==============================] - 5s 9ms/step - loss: 0.9312 - accuracy: 0.6316 - val_loss: 0.8724 - val_accuracy: 0.6656\n"
          ]
        }
      ]
    },
    {
      "cell_type": "code",
      "source": [
        "# Evaluate on full val_ds_char\n",
        "accuracy_model_3 = model_3.evaluate(val_ds_char)"
      ],
      "metadata": {
        "colab": {
          "base_uri": "https://localhost:8080/"
        },
        "id": "5I1oRkPLePYs",
        "outputId": "4213c7ce-90cf-4bd8-e5a8-974232a158db"
      },
      "execution_count": null,
      "outputs": [
        {
          "output_type": "stream",
          "name": "stdout",
          "text": [
            "945/945 [==============================] - 5s 5ms/step - loss: 0.9857 - accuracy: 0.6109\n"
          ]
        }
      ]
    },
    {
      "cell_type": "code",
      "source": [
        "# Get predictions\n",
        "model_3_prob = model_3.predict(val_ds_char)\n",
        "model_3_pred = tf.argmax(model_3_prob, axis=1)"
      ],
      "metadata": {
        "colab": {
          "base_uri": "https://localhost:8080/"
        },
        "id": "5aJyqWEgekL3",
        "outputId": "bc0ec6b1-b56a-43f5-e2bc-c1510e1c7ac0"
      },
      "execution_count": null,
      "outputs": [
        {
          "output_type": "stream",
          "name": "stdout",
          "text": [
            "945/945 [==============================] - 4s 4ms/step\n"
          ]
        }
      ]
    },
    {
      "cell_type": "code",
      "source": [
        "# Calculate evaluation metrics\n",
        "model_3_metrics = calculate_results(y_true=val_labels_le,\n",
        "                                    y_pred=model_3_pred)\n",
        "model_3_metrics"
      ],
      "metadata": {
        "colab": {
          "base_uri": "https://localhost:8080/"
        },
        "id": "UHFPIQsMeca7",
        "outputId": "36eb3052-279c-419c-efaf-6841b2134ae6"
      },
      "execution_count": null,
      "outputs": [
        {
          "output_type": "execute_result",
          "data": {
            "text/plain": [
              "{'accuracy': 0.65, 'precision': 0.65, 'recall': 0.65, 'f1': 0.64}"
            ]
          },
          "metadata": {},
          "execution_count": 77
        }
      ]
    },
    {
      "cell_type": "markdown",
      "source": [
        "## Model 4 Combining pretrained token embeddings + character embeddings"
      ],
      "metadata": {
        "id": "AzJTRs7qgOKi"
      }
    },
    {
      "cell_type": "markdown",
      "source": [
        "### Create a combined model"
      ],
      "metadata": {
        "id": "jHB_qzH7JWmM"
      }
    },
    {
      "cell_type": "code",
      "source": [
        "import tensorflow as tf\n",
        "from tensorflow.keras import layers\n",
        "\n",
        "# 1. Setup token inputs/model\n",
        "token_inputs = layers.Input(shape=[], dtype='string', name='token_inputs')\n",
        "token_embeddings = use_embed_layer(token_inputs)\n",
        "token_outputs = layers.Dense(296, activation='relu')(token_embeddings)\n",
        "token_model = tf.keras.Model(token_inputs, token_outputs)\n",
        "\n",
        "# 2. Setup char inputs/model\n",
        "char_inputs = layers.Input(shape=(1,), dtype='string', name='char_inputs')\n",
        "char_vectors = char_vectorizer(char_inputs)\n",
        "char_embeddings = char_embed(char_vectors)\n",
        "char_bi_lstm = layers.Bidirectional(layers.LSTM(24))(char_embeddings)\n",
        "char_model = tf.keras.Model(char_inputs, char_bi_lstm)\n",
        "\n",
        "# 3. Concatenate token and char \n",
        "token_char_concat = layers.Concatenate(name='token_char_concat')([token_model.output, char_model.output])\n",
        "\n",
        "# 4. Create output layers + dropout\n",
        "combined_dropout = layers.Dropout(0.5)(token_char_concat)\n",
        "combined_reshape = layers.Reshape((1, 344), input_shape=(344,))(combined_dropout)\n",
        "token_char_bi_lstm = layers.Bidirectional(layers.LSTM(96))(combined_reshape)\n",
        "final_dropout = layers.Dropout(0.5)(token_char_bi_lstm)\n",
        "output_layer = layers.Dense(num_classes, activation='softmax')(final_dropout)\n",
        "\n",
        "# 5. Create a model\n",
        "model_4 = tf.keras.Model(inputs=[token_inputs, char_inputs],\n",
        "                         outputs = output_layer)"
      ],
      "metadata": {
        "id": "I4g3K9sh_uKn"
      },
      "execution_count": null,
      "outputs": []
    },
    {
      "cell_type": "code",
      "source": [
        "model_4.summary()"
      ],
      "metadata": {
        "colab": {
          "base_uri": "https://localhost:8080/"
        },
        "id": "CeN080V20XX_",
        "outputId": "9ea6eee8-2537-4d02-c6b4-58adf85dca52"
      },
      "execution_count": null,
      "outputs": [
        {
          "output_type": "stream",
          "name": "stdout",
          "text": [
            "Model: \"model_14\"\n",
            "__________________________________________________________________________________________________\n",
            " Layer (type)                   Output Shape         Param #     Connected to                     \n",
            "==================================================================================================\n",
            " char_inputs (InputLayer)       [(None, 1)]          0           []                               \n",
            "                                                                                                  \n",
            " token_inputs (InputLayer)      [(None,)]            0           []                               \n",
            "                                                                                                  \n",
            " text_vectorization_1 (TextVect  (None, 290)         0           ['char_inputs[0][0]']            \n",
            " orization)                                                                                       \n",
            "                                                                                                  \n",
            " keras_layer (KerasLayer)       (None, 512)          256797824   ['token_inputs[0][0]']           \n",
            "                                                                                                  \n",
            " embedding_1 (Embedding)        (None, 290, 24)      672         ['text_vectorization_1[4][0]']   \n",
            "                                                                                                  \n",
            " dense_10 (Dense)               (None, 296)          151848      ['keras_layer[4][0]']            \n",
            "                                                                                                  \n",
            " bidirectional_7 (Bidirectional  (None, 48)          9408        ['embedding_1[4][0]']            \n",
            " )                                                                                                \n",
            "                                                                                                  \n",
            " token_char_concat (Concatenate  (None, 344)         0           ['dense_10[0][0]',               \n",
            " )                                                                'bidirectional_7[0][0]']        \n",
            "                                                                                                  \n",
            " dropout_8 (Dropout)            (None, 344)          0           ['token_char_concat[0][0]']      \n",
            "                                                                                                  \n",
            " reshape_3 (Reshape)            (None, 1, 344)       0           ['dropout_8[0][0]']              \n",
            "                                                                                                  \n",
            " bidirectional_8 (Bidirectional  (None, 192)         338688      ['reshape_3[0][0]']              \n",
            " )                                                                                                \n",
            "                                                                                                  \n",
            " dropout_9 (Dropout)            (None, 192)          0           ['bidirectional_8[0][0]']        \n",
            "                                                                                                  \n",
            " dense_11 (Dense)               (None, 5)            965         ['dropout_9[0][0]']              \n",
            "                                                                                                  \n",
            "==================================================================================================\n",
            "Total params: 257,299,405\n",
            "Trainable params: 501,581\n",
            "Non-trainable params: 256,797,824\n",
            "__________________________________________________________________________________________________\n"
          ]
        }
      ]
    },
    {
      "cell_type": "code",
      "source": [
        "# Plot the model\n",
        "from keras.utils import plot_model\n",
        "plot_model(model_4, show_shapes=True)"
      ],
      "metadata": {
        "colab": {
          "base_uri": "https://localhost:8080/",
          "height": 957
        },
        "id": "T4VugZ7L0zJb",
        "outputId": "a0f679b0-770f-435b-d795-b1d03d80e0c3"
      },
      "execution_count": null,
      "outputs": [
        {
          "output_type": "execute_result",
          "data": {
            "image/png": "[encoded data removed]",
            "text/plain": [
              "<IPython.core.display.Image object>"
            ]
          },
          "metadata": {},
          "execution_count": 48
        }
      ]
    },
    {
      "cell_type": "code",
      "source": [
        "# Compile model\n",
        "model_4.compile(loss='categorical_crossentropy',\n",
        "                optimizer = tf.keras.optimizers.Adam(),\n",
        "                metrics=['accuracy'])"
      ],
      "metadata": {
        "id": "aG0ntYxyFX0K"
      },
      "execution_count": null,
      "outputs": []
    },
    {
      "cell_type": "markdown",
      "source": [
        "### Combining token and character data into tf.data Dataset"
      ],
      "metadata": {
        "id": "tK02hARwFa0-"
      }
    },
    {
      "cell_type": "code",
      "source": [
        "# Create a function to combine token and character datasets\n",
        "def create_token_char_ds(sentences, chars, labels):\n",
        "  token_char_data = tf.data.Dataset.from_tensor_slices((sentences, chars))\n",
        "  token_char_labels = tf.data.Dataset.from_tensor_slices(labels)\n",
        "  token_char_ds = tf.data.Dataset.zip((token_char_data, token_char_labels))\n",
        "  return token_char_ds.batch(32).prefetch(tf.data.AUTOTUNE)"
      ],
      "metadata": {
        "id": "TyyNnyYKHXQa"
      },
      "execution_count": null,
      "outputs": []
    },
    {
      "cell_type": "code",
      "source": [
        "# Create datasets\n",
        "train_token_char_ds = create_token_char_ds(sentences=train_sent,\n",
        "                                           chars=train_char, \n",
        "                                           labels=train_labels_ohe)\n",
        "val_token_char_ds = create_token_char_ds(sentences=val_sent,\n",
        "                                         chars=val_char, \n",
        "                                         labels=val_labels_ohe)\n"
      ],
      "metadata": {
        "id": "NUOQEn1VIbQL"
      },
      "execution_count": null,
      "outputs": []
    },
    {
      "cell_type": "markdown",
      "source": [
        "### Fiting and evaluating the model"
      ],
      "metadata": {
        "id": "1Lud8me4JjL1"
      }
    },
    {
      "cell_type": "code",
      "source": [
        "# Fit the model\n",
        "history_model_4 = model_4.fit(train_token_char_ds,\n",
        "                              steps_per_epoch=int(0.1*len(train_token_char_ds)), \n",
        "                              epochs=3,\n",
        "                              validation_data=val_token_char_ds, \n",
        "                              validation_steps=int(0.1*len(val_token_char_ds)) )"
      ],
      "metadata": {
        "colab": {
          "base_uri": "https://localhost:8080/"
        },
        "id": "J9SxfqLA0T0O",
        "outputId": "2671536e-1dc5-4fa8-af08-72f4fb2ce778"
      },
      "execution_count": null,
      "outputs": [
        {
          "output_type": "stream",
          "name": "stdout",
          "text": [
            "Epoch 1/3\n",
            "562/562 [==============================] - 73s 98ms/step - loss: 0.9113 - accuracy: 0.6382 - val_loss: 0.7602 - val_accuracy: 0.7035\n",
            "Epoch 2/3\n",
            "562/562 [==============================] - 50s 89ms/step - loss: 0.7521 - accuracy: 0.7087 - val_loss: 0.6892 - val_accuracy: 0.7377\n",
            "Epoch 3/3\n",
            "562/562 [==============================] - 34s 61ms/step - loss: 0.7331 - accuracy: 0.7189 - val_loss: 0.6705 - val_accuracy: 0.7470\n"
          ]
        }
      ]
    },
    {
      "cell_type": "code",
      "source": [
        "# Make a predictions\n",
        "model_4_prob = model_4.predict(val_token_char_ds)\n",
        "model_4_pred = tf.argmax(model_4_prob, axis=1)"
      ],
      "metadata": {
        "colab": {
          "base_uri": "https://localhost:8080/"
        },
        "id": "tza7hck4r9sK",
        "outputId": "4e465263-7ed1-4533-de21-1256daed642e"
      },
      "execution_count": null,
      "outputs": [
        {
          "output_type": "stream",
          "name": "stdout",
          "text": [
            "945/945 [==============================] - 27s 25ms/step\n"
          ]
        }
      ]
    },
    {
      "cell_type": "code",
      "source": [
        "model_4_metrics = calculate_results(y_true=val_labels_le,\n",
        "                                     y_pred=model_4_pred)\n",
        "model_4_metrics"
      ],
      "metadata": {
        "colab": {
          "base_uri": "https://localhost:8080/"
        },
        "id": "CKSRIXocr0_L",
        "outputId": "80e573e9-50d7-4879-9fb4-1efa01c5a491"
      },
      "execution_count": null,
      "outputs": [
        {
          "output_type": "execute_result",
          "data": {
            "text/plain": [
              "{'accuracy': 0.74, 'precision': 0.74, 'recall': 0.74, 'f1': 0.74}"
            ]
          },
          "metadata": {},
          "execution_count": 84
        }
      ]
    },
    {
      "cell_type": "markdown",
      "source": [
        "## Model 5 Transfer learning with pretrained token"
      ],
      "metadata": {
        "id": "__48w9fErVRC"
      }
    },
    {
      "cell_type": "code",
      "source": [
        "train_df.head()"
      ],
      "metadata": {
        "colab": {
          "base_uri": "https://localhost:8080/",
          "height": 337
        },
        "id": "hlTje88zrriN",
        "outputId": "ad1d9cc1-366e-4948-ef6a-f67d53a3084a"
      },
      "execution_count": null,
      "outputs": [
        {
          "output_type": "execute_result",
          "data": {
            "text/plain": [
              "         id     target                                               text  \\\n",
              "0  24293578  OBJECTIVE  to investigate the efficacy of @ weeks of dail...   \n",
              "1  24293578    METHODS  a total of @ patients with primary knee oa wer...   \n",
              "2  24293578    METHODS  outcome measures included pain reduction and i...   \n",
              "3  24293578    METHODS  pain was assessed using the visual analog pain...   \n",
              "4  24293578    METHODS  secondary outcome measures included the wester...   \n",
              "\n",
              "   line_number  total_lines  \n",
              "0            0           11  \n",
              "1            1           11  \n",
              "2            2           11  \n",
              "3            3           11  \n",
              "4            4           11  "
            ],
            "text/html": [
              "\n",
              "  <div id=\"df-3b39335c-7b91-40a2-8631-e6593188a343\">\n",
              "    <div class=\"colab-df-container\">\n",
              "      <div>\n",
              "<style scoped>\n",
              "    .dataframe tbody tr th:only-of-type {\n",
              "        vertical-align: middle;\n",
              "    }\n",
              "\n",
              "    .dataframe tbody tr th {\n",
              "        vertical-align: top;\n",
              "    }\n",
              "\n",
              "    .dataframe thead th {\n",
              "        text-align: right;\n",
              "    }\n",
              "</style>\n",
              "<table border=\"1\" class=\"dataframe\">\n",
              "  <thead>\n",
              "    <tr style=\"text-align: right;\">\n",
              "      <th></th>\n",
              "      <th>id</th>\n",
              "      <th>target</th>\n",
              "      <th>text</th>\n",
              "      <th>line_number</th>\n",
              "      <th>total_lines</th>\n",
              "    </tr>\n",
              "  </thead>\n",
              "  <tbody>\n",
              "    <tr>\n",
              "      <th>0</th>\n",
              "      <td>24293578</td>\n",
              "      <td>OBJECTIVE</td>\n",
              "      <td>to investigate the efficacy of @ weeks of dail...</td>\n",
              "      <td>0</td>\n",
              "      <td>11</td>\n",
              "    </tr>\n",
              "    <tr>\n",
              "      <th>1</th>\n",
              "      <td>24293578</td>\n",
              "      <td>METHODS</td>\n",
              "      <td>a total of @ patients with primary knee oa wer...</td>\n",
              "      <td>1</td>\n",
              "      <td>11</td>\n",
              "    </tr>\n",
              "    <tr>\n",
              "      <th>2</th>\n",
              "      <td>24293578</td>\n",
              "      <td>METHODS</td>\n",
              "      <td>outcome measures included pain reduction and i...</td>\n",
              "      <td>2</td>\n",
              "      <td>11</td>\n",
              "    </tr>\n",
              "    <tr>\n",
              "      <th>3</th>\n",
              "      <td>24293578</td>\n",
              "      <td>METHODS</td>\n",
              "      <td>pain was assessed using the visual analog pain...</td>\n",
              "      <td>3</td>\n",
              "      <td>11</td>\n",
              "    </tr>\n",
              "    <tr>\n",
              "      <th>4</th>\n",
              "      <td>24293578</td>\n",
              "      <td>METHODS</td>\n",
              "      <td>secondary outcome measures included the wester...</td>\n",
              "      <td>4</td>\n",
              "      <td>11</td>\n",
              "    </tr>\n",
              "  </tbody>\n",
              "</table>\n",
              "</div>\n",
              "      <button class=\"colab-df-convert\" onclick=\"convertToInteractive('df-3b39335c-7b91-40a2-8631-e6593188a343')\"\n",
              "              title=\"Convert this dataframe to an interactive table.\"\n",
              "              style=\"display:none;\">\n",
              "        \n",
              "  <svg xmlns=\"http://www.w3.org/2000/svg\" height=\"24px\"viewBox=\"0 0 24 24\"\n",
              "       width=\"24px\">\n",
              "    <path d=\"M0 0h24v24H0V0z\" fill=\"none\"/>\n",
              "    <path d=\"M18.56 5.44l.94 2.06.94-2.06 2.06-.94-2.06-.94-.94-2.06-.94 2.06-2.06.94zm-11 1L8.5 8.5l.94-2.06 2.06-.94-2.06-.94L8.5 2.5l-.94 2.06-2.06.94zm10 10l.94 2.06.94-2.06 2.06-.94-2.06-.94-.94-2.06-.94 2.06-2.06.94z\"/><path d=\"M17.41 7.96l-1.37-1.37c-.4-.4-.92-.59-1.43-.59-.52 0-1.04.2-1.43.59L10.3 9.45l-7.72 7.72c-.78.78-.78 2.05 0 2.83L4 21.41c.39.39.9.59 1.41.59.51 0 1.02-.2 1.41-.59l7.78-7.78 2.81-2.81c.8-.78.8-2.07 0-2.86zM5.41 20L4 18.59l7.72-7.72 1.47 1.35L5.41 20z\"/>\n",
              "  </svg>\n",
              "      </button>\n",
              "      \n",
              "  <style>\n",
              "    .colab-df-container {\n",
              "      display:flex;\n",
              "      flex-wrap:wrap;\n",
              "      gap: 12px;\n",
              "    }\n",
              "\n",
              "    .colab-df-convert {\n",
              "      background-color: #E8F0FE;\n",
              "      border: none;\n",
              "      border-radius: 50%;\n",
              "      cursor: pointer;\n",
              "      display: none;\n",
              "      fill: #1967D2;\n",
              "      height: 32px;\n",
              "      padding: 0 0 0 0;\n",
              "      width: 32px;\n",
              "    }\n",
              "\n",
              "    .colab-df-convert:hover {\n",
              "      background-color: #E2EBFA;\n",
              "      box-shadow: 0px 1px 2px rgba(60, 64, 67, 0.3), 0px 1px 3px 1px rgba(60, 64, 67, 0.15);\n",
              "      fill: #174EA6;\n",
              "    }\n",
              "\n",
              "    [theme=dark] .colab-df-convert {\n",
              "      background-color: #3B4455;\n",
              "      fill: #D2E3FC;\n",
              "    }\n",
              "\n",
              "    [theme=dark] .colab-df-convert:hover {\n",
              "      background-color: #434B5C;\n",
              "      box-shadow: 0px 1px 3px 1px rgba(0, 0, 0, 0.15);\n",
              "      filter: drop-shadow(0px 1px 2px rgba(0, 0, 0, 0.3));\n",
              "      fill: #FFFFFF;\n",
              "    }\n",
              "  </style>\n",
              "\n",
              "      <script>\n",
              "        const buttonEl =\n",
              "          document.querySelector('#df-3b39335c-7b91-40a2-8631-e6593188a343 button.colab-df-convert');\n",
              "        buttonEl.style.display =\n",
              "          google.colab.kernel.accessAllowed ? 'block' : 'none';\n",
              "\n",
              "        async function convertToInteractive(key) {\n",
              "          const element = document.querySelector('#df-3b39335c-7b91-40a2-8631-e6593188a343');\n",
              "          const dataTable =\n",
              "            await google.colab.kernel.invokeFunction('convertToInteractive',\n",
              "                                                     [key], {});\n",
              "          if (!dataTable) return;\n",
              "\n",
              "          const docLinkHtml = 'Like what you see? Visit the ' +\n",
              "            '<a target=\"_blank\" href=https://colab.research.google.com/notebooks/data_table.ipynb>data table notebook</a>'\n",
              "            + ' to learn more about interactive tables.';\n",
              "          element.innerHTML = '';\n",
              "          dataTable['output_type'] = 'display_data';\n",
              "          await google.colab.output.renderOutput(dataTable, element);\n",
              "          const docLink = document.createElement('div');\n",
              "          docLink.innerHTML = docLinkHtml;\n",
              "          element.appendChild(docLink);\n",
              "        }\n",
              "      </script>\n",
              "    </div>\n",
              "  </div>\n",
              "  "
            ]
          },
          "metadata": {},
          "execution_count": 65
        }
      ]
    },
    {
      "cell_type": "markdown",
      "source": [
        "### Create positional embeddings"
      ],
      "metadata": {
        "id": "8S5qhjz2rttR"
      }
    },
    {
      "cell_type": "code",
      "source": [
        "train_df.line_number.value_counts()"
      ],
      "metadata": {
        "colab": {
          "base_uri": "https://localhost:8080/"
        },
        "id": "5CoQ6ZZztdOI",
        "outputId": "1b6b4c4c-a15e-4413-df1e-8764f4b792de"
      },
      "execution_count": null,
      "outputs": [
        {
          "output_type": "execute_result",
          "data": {
            "text/plain": [
              "0     15000\n",
              "1     15000\n",
              "2     15000\n",
              "3     15000\n",
              "4     14992\n",
              "5     14949\n",
              "6     14758\n",
              "7     14279\n",
              "8     13346\n",
              "9     11981\n",
              "10    10041\n",
              "11     7892\n",
              "12     5853\n",
              "13     4152\n",
              "14     2835\n",
              "15     1861\n",
              "16     1188\n",
              "17      751\n",
              "18      462\n",
              "19      286\n",
              "20      162\n",
              "21      101\n",
              "22       66\n",
              "23       33\n",
              "24       22\n",
              "25       14\n",
              "26        7\n",
              "27        4\n",
              "28        3\n",
              "29        1\n",
              "30        1\n",
              "Name: line_number, dtype: int64"
            ]
          },
          "metadata": {},
          "execution_count": 66
        }
      ]
    },
    {
      "cell_type": "code",
      "source": [
        "line_number_per = int(np.percentile(train_df.line_number, 98))\n",
        "line_number_per"
      ],
      "metadata": {
        "colab": {
          "base_uri": "https://localhost:8080/"
        },
        "id": "wK_Hgo-UtnKN",
        "outputId": "2037734d-b2df-442f-f349-c079c8f0cf34"
      },
      "execution_count": null,
      "outputs": [
        {
          "output_type": "execute_result",
          "data": {
            "text/plain": [
              "15"
            ]
          },
          "metadata": {},
          "execution_count": 75
        }
      ]
    },
    {
      "cell_type": "code",
      "source": [
        "# Use TensorFlow one hot encoder\n",
        "train_line_number_ohe = tf.one_hot(train_df.line_number.to_numpy(), depth=15)\n",
        "val_line_number_ohe = tf.one_hot(val_df.line_number.to_numpy(), depth=15)\n",
        "test_line_number_ohe = tf.one_hot(test_df.line_number.to_numpy(), depth=15)\n",
        "train_line_number_ohe[:20], train_line_number_ohe.shape"
      ],
      "metadata": {
        "colab": {
          "base_uri": "https://localhost:8080/"
        },
        "id": "vrdJB2K4uw3q",
        "outputId": "5c9c7113-a249-47ee-e024-9ef163d9b22c"
      },
      "execution_count": null,
      "outputs": [
        {
          "output_type": "execute_result",
          "data": {
            "text/plain": [
              "(<tf.Tensor: shape=(20, 15), dtype=float32, numpy=\n",
              " array([[1., 0., 0., 0., 0., 0., 0., 0., 0., 0., 0., 0., 0., 0., 0.],\n",
              "        [0., 1., 0., 0., 0., 0., 0., 0., 0., 0., 0., 0., 0., 0., 0.],\n",
              "        [0., 0., 1., 0., 0., 0., 0., 0., 0., 0., 0., 0., 0., 0., 0.],\n",
              "        [0., 0., 0., 1., 0., 0., 0., 0., 0., 0., 0., 0., 0., 0., 0.],\n",
              "        [0., 0., 0., 0., 1., 0., 0., 0., 0., 0., 0., 0., 0., 0., 0.],\n",
              "        [0., 0., 0., 0., 0., 1., 0., 0., 0., 0., 0., 0., 0., 0., 0.],\n",
              "        [0., 0., 0., 0., 0., 0., 1., 0., 0., 0., 0., 0., 0., 0., 0.],\n",
              "        [0., 0., 0., 0., 0., 0., 0., 1., 0., 0., 0., 0., 0., 0., 0.],\n",
              "        [0., 0., 0., 0., 0., 0., 0., 0., 1., 0., 0., 0., 0., 0., 0.],\n",
              "        [0., 0., 0., 0., 0., 0., 0., 0., 0., 1., 0., 0., 0., 0., 0.],\n",
              "        [0., 0., 0., 0., 0., 0., 0., 0., 0., 0., 1., 0., 0., 0., 0.],\n",
              "        [0., 0., 0., 0., 0., 0., 0., 0., 0., 0., 0., 1., 0., 0., 0.],\n",
              "        [1., 0., 0., 0., 0., 0., 0., 0., 0., 0., 0., 0., 0., 0., 0.],\n",
              "        [0., 1., 0., 0., 0., 0., 0., 0., 0., 0., 0., 0., 0., 0., 0.],\n",
              "        [0., 0., 1., 0., 0., 0., 0., 0., 0., 0., 0., 0., 0., 0., 0.],\n",
              "        [0., 0., 0., 1., 0., 0., 0., 0., 0., 0., 0., 0., 0., 0., 0.],\n",
              "        [0., 0., 0., 0., 1., 0., 0., 0., 0., 0., 0., 0., 0., 0., 0.],\n",
              "        [0., 0., 0., 0., 0., 1., 0., 0., 0., 0., 0., 0., 0., 0., 0.],\n",
              "        [0., 0., 0., 0., 0., 0., 1., 0., 0., 0., 0., 0., 0., 0., 0.],\n",
              "        [0., 0., 0., 0., 0., 0., 0., 1., 0., 0., 0., 0., 0., 0., 0.]],\n",
              "       dtype=float32)>,\n",
              " TensorShape([180040, 15]))"
            ]
          },
          "metadata": {},
          "execution_count": 17
        }
      ]
    },
    {
      "cell_type": "code",
      "source": [
        "train_df.total_lines.value_counts()"
      ],
      "metadata": {
        "colab": {
          "base_uri": "https://localhost:8080/"
        },
        "id": "k6RkGcc6vuo2",
        "outputId": "37154a2c-8408-4b65-e69c-4ba7b4d5ce8e"
      },
      "execution_count": null,
      "outputs": [
        {
          "output_type": "execute_result",
          "data": {
            "text/plain": [
              "11    24468\n",
              "10    23639\n",
              "12    22113\n",
              "9     19400\n",
              "13    18438\n",
              "14    14610\n",
              "8     12285\n",
              "15    10768\n",
              "7      7464\n",
              "16     7429\n",
              "17     5202\n",
              "6      3353\n",
              "18     3344\n",
              "19     2480\n",
              "20     1281\n",
              "5      1146\n",
              "21      770\n",
              "22      759\n",
              "23      264\n",
              "4       215\n",
              "24      200\n",
              "25      182\n",
              "26       81\n",
              "28       58\n",
              "3        32\n",
              "30       31\n",
              "27       28\n",
              "Name: total_lines, dtype: int64"
            ]
          },
          "metadata": {},
          "execution_count": 71
        }
      ]
    },
    {
      "cell_type": "code",
      "source": [
        "total_lines_per = int(np.percentile(train_df.total_lines, 98))\n",
        "total_lines_per"
      ],
      "metadata": {
        "colab": {
          "base_uri": "https://localhost:8080/"
        },
        "id": "3tU5HiXgxgjY",
        "outputId": "cfc37f6c-2b8b-41e5-f421-0e815b52c2ab"
      },
      "execution_count": null,
      "outputs": [
        {
          "output_type": "execute_result",
          "data": {
            "text/plain": [
              "20"
            ]
          },
          "metadata": {},
          "execution_count": 76
        }
      ]
    },
    {
      "cell_type": "code",
      "source": [
        "# Use TensorFlow one hot encoder\n",
        "train_total_lines_ohe = tf.one_hot(train_df.total_lines.to_numpy(), depth=20)\n",
        "val_total_lines_ohe = tf.one_hot(val_df.total_lines.to_numpy(), depth=20)\n",
        "test_total_lines_ohe = tf.one_hot(test_df.total_lines.to_numpy(), depth=20)\n",
        "train_total_lines_ohe[:20], train_total_lines_ohe.shape"
      ],
      "metadata": {
        "colab": {
          "base_uri": "https://localhost:8080/"
        },
        "id": "F-q1eu7HxxUj",
        "outputId": "cf9d4278-ee19-4a98-fa47-d8bbe8bb1852"
      },
      "execution_count": null,
      "outputs": [
        {
          "output_type": "execute_result",
          "data": {
            "text/plain": [
              "(<tf.Tensor: shape=(20, 20), dtype=float32, numpy=\n",
              " array([[0., 0., 0., 0., 0., 0., 0., 0., 0., 0., 0., 1., 0., 0., 0., 0.,\n",
              "         0., 0., 0., 0.],\n",
              "        [0., 0., 0., 0., 0., 0., 0., 0., 0., 0., 0., 1., 0., 0., 0., 0.,\n",
              "         0., 0., 0., 0.],\n",
              "        [0., 0., 0., 0., 0., 0., 0., 0., 0., 0., 0., 1., 0., 0., 0., 0.,\n",
              "         0., 0., 0., 0.],\n",
              "        [0., 0., 0., 0., 0., 0., 0., 0., 0., 0., 0., 1., 0., 0., 0., 0.,\n",
              "         0., 0., 0., 0.],\n",
              "        [0., 0., 0., 0., 0., 0., 0., 0., 0., 0., 0., 1., 0., 0., 0., 0.,\n",
              "         0., 0., 0., 0.],\n",
              "        [0., 0., 0., 0., 0., 0., 0., 0., 0., 0., 0., 1., 0., 0., 0., 0.,\n",
              "         0., 0., 0., 0.],\n",
              "        [0., 0., 0., 0., 0., 0., 0., 0., 0., 0., 0., 1., 0., 0., 0., 0.,\n",
              "         0., 0., 0., 0.],\n",
              "        [0., 0., 0., 0., 0., 0., 0., 0., 0., 0., 0., 1., 0., 0., 0., 0.,\n",
              "         0., 0., 0., 0.],\n",
              "        [0., 0., 0., 0., 0., 0., 0., 0., 0., 0., 0., 1., 0., 0., 0., 0.,\n",
              "         0., 0., 0., 0.],\n",
              "        [0., 0., 0., 0., 0., 0., 0., 0., 0., 0., 0., 1., 0., 0., 0., 0.,\n",
              "         0., 0., 0., 0.],\n",
              "        [0., 0., 0., 0., 0., 0., 0., 0., 0., 0., 0., 1., 0., 0., 0., 0.,\n",
              "         0., 0., 0., 0.],\n",
              "        [0., 0., 0., 0., 0., 0., 0., 0., 0., 0., 0., 1., 0., 0., 0., 0.,\n",
              "         0., 0., 0., 0.],\n",
              "        [0., 0., 0., 0., 0., 0., 0., 0., 0., 0., 1., 0., 0., 0., 0., 0.,\n",
              "         0., 0., 0., 0.],\n",
              "        [0., 0., 0., 0., 0., 0., 0., 0., 0., 0., 1., 0., 0., 0., 0., 0.,\n",
              "         0., 0., 0., 0.],\n",
              "        [0., 0., 0., 0., 0., 0., 0., 0., 0., 0., 1., 0., 0., 0., 0., 0.,\n",
              "         0., 0., 0., 0.],\n",
              "        [0., 0., 0., 0., 0., 0., 0., 0., 0., 0., 1., 0., 0., 0., 0., 0.,\n",
              "         0., 0., 0., 0.],\n",
              "        [0., 0., 0., 0., 0., 0., 0., 0., 0., 0., 1., 0., 0., 0., 0., 0.,\n",
              "         0., 0., 0., 0.],\n",
              "        [0., 0., 0., 0., 0., 0., 0., 0., 0., 0., 1., 0., 0., 0., 0., 0.,\n",
              "         0., 0., 0., 0.],\n",
              "        [0., 0., 0., 0., 0., 0., 0., 0., 0., 0., 1., 0., 0., 0., 0., 0.,\n",
              "         0., 0., 0., 0.],\n",
              "        [0., 0., 0., 0., 0., 0., 0., 0., 0., 0., 1., 0., 0., 0., 0., 0.,\n",
              "         0., 0., 0., 0.]], dtype=float32)>,\n",
              " TensorShape([180040, 20]))"
            ]
          },
          "metadata": {},
          "execution_count": 18
        }
      ]
    },
    {
      "cell_type": "markdown",
      "source": [
        "### Create a model"
      ],
      "metadata": {
        "id": "F-3kcTi5yldx"
      }
    },
    {
      "cell_type": "code",
      "source": [
        "import tensorflow as tf\n",
        "from tensorflow.keras import layers\n",
        "\n",
        "# 1. Setup token inputs/model\n",
        "token_inputs = layers.Input(shape=[], dtype='string', name='token_inputs')\n",
        "token_embeddings = use_embed_layer(token_inputs)\n",
        "token_outputs = layers.Dense(296, activation='relu')(token_embeddings)\n",
        "token_model = tf.keras.Model(token_inputs, token_outputs)\n",
        "\n",
        "# 2. Setup char inputs/model\n",
        "char_inputs = layers.Input(shape=(1,), dtype='string', name='char_inputs')\n",
        "char_vectors = char_vectorizer(char_inputs)\n",
        "char_embeddings = char_embed(char_vectors)\n",
        "char_bi_lstm = layers.Bidirectional(layers.LSTM(24))(char_embeddings)\n",
        "char_model = tf.keras.Model(char_inputs, char_bi_lstm)\n",
        "\n",
        "# 3. line_number feature\n",
        "line_number_inputs = layers.Input(shape=(15,), dtype=tf.float32, name='line_number_inputs')\n",
        "line_number_outputs = layers.Dense(32, activation='relu')(line_number_inputs)\n",
        "line_number_model = tf.keras.Model(line_number_inputs, line_number_outputs)\n",
        "\n",
        "# 4. total_line feature\n",
        "total_line_inputs = layers.Input(shape=(20,), dtype=tf.float32, name='total_line_inputs')\n",
        "total_line_outputs = layers.Dense(32, activation='relu')(total_line_inputs)\n",
        "total_line_model = tf.keras.Model(total_line_inputs, total_line_outputs)\n",
        "\n",
        "# 5. Concatenate token and char \n",
        "token_char_concat = layers.Concatenate(name='token_char_concat')([token_model.output, char_model.output])\n",
        "combined_dropout = layers.Dropout(0.5)(token_char_concat)\n",
        "\n",
        "# 6. Bidirectional layer\n",
        "combined_reshape = layers.Reshape((1, 344), input_shape=(344,))(combined_dropout)\n",
        "token_char_bi_lstm = layers.Bidirectional(layers.LSTM(96))(combined_reshape)\n",
        "\n",
        "# 7. Concatenate line_number feature, total_line feature and token_char_concat \n",
        "concat_layer = layers.Concatenate(name='concat_layer')([line_number_model.output, total_line_model.output, token_char_bi_lstm])\n",
        "\n",
        "# 8. Create output layers + dropout\n",
        "final_dropout = layers.Dropout(0.5)(concat_layer)\n",
        "output_layer = layers.Dense(num_classes, activation='softmax')(final_dropout)\n",
        "\n",
        "# 9. Create a model\n",
        "model_5 = tf.keras.Model(inputs=[line_number_inputs,\n",
        "                                 total_line_inputs,\n",
        "                                 token_inputs, \n",
        "                                 char_inputs],\n",
        "                         outputs = output_layer)"
      ],
      "metadata": {
        "id": "t8SQ55EAynPx"
      },
      "execution_count": null,
      "outputs": []
    },
    {
      "cell_type": "code",
      "source": [
        "model_5.summary()"
      ],
      "metadata": {
        "colab": {
          "base_uri": "https://localhost:8080/"
        },
        "id": "A7cIgYQS81_m",
        "outputId": "30431dd4-1f36-445b-a733-0f9d5b821539"
      },
      "execution_count": null,
      "outputs": [
        {
          "output_type": "stream",
          "name": "stdout",
          "text": [
            "Model: \"model_11\"\n",
            "__________________________________________________________________________________________________\n",
            " Layer (type)                   Output Shape         Param #     Connected to                     \n",
            "==================================================================================================\n",
            " char_inputs (InputLayer)       [(None, 1)]          0           []                               \n",
            "                                                                                                  \n",
            " token_inputs (InputLayer)      [(None,)]            0           []                               \n",
            "                                                                                                  \n",
            " text_vectorization_1 (TextVect  (None, 290)         0           ['char_inputs[0][0]']            \n",
            " orization)                                                                                       \n",
            "                                                                                                  \n",
            " keras_layer (KerasLayer)       (None, 512)          256797824   ['token_inputs[0][0]']           \n",
            "                                                                                                  \n",
            " embedding_1 (Embedding)        (None, 290, 24)      672         ['text_vectorization_1[2][0]']   \n",
            "                                                                                                  \n",
            " dense_5 (Dense)                (None, 296)          151848      ['keras_layer[2][0]']            \n",
            "                                                                                                  \n",
            " bidirectional_3 (Bidirectional  (None, 48)          9408        ['embedding_1[2][0]']            \n",
            " )                                                                                                \n",
            "                                                                                                  \n",
            " token_char_concat (Concatenate  (None, 344)         0           ['dense_5[0][0]',                \n",
            " )                                                                'bidirectional_3[0][0]']        \n",
            "                                                                                                  \n",
            " dropout_2 (Dropout)            (None, 344)          0           ['token_char_concat[0][0]']      \n",
            "                                                                                                  \n",
            " line_number_inputs (InputLayer  [(None, 15)]        0           []                               \n",
            " )                                                                                                \n",
            "                                                                                                  \n",
            " total_line_inputs (InputLayer)  [(None, 20)]        0           []                               \n",
            "                                                                                                  \n",
            " reshape_1 (Reshape)            (None, 1, 344)       0           ['dropout_2[0][0]']              \n",
            "                                                                                                  \n",
            " dense_6 (Dense)                (None, 32)           512         ['line_number_inputs[0][0]']     \n",
            "                                                                                                  \n",
            " dense_7 (Dense)                (None, 32)           672         ['total_line_inputs[0][0]']      \n",
            "                                                                                                  \n",
            " bidirectional_4 (Bidirectional  (None, 192)         338688      ['reshape_1[0][0]']              \n",
            " )                                                                                                \n",
            "                                                                                                  \n",
            " concat_layer (Concatenate)     (None, 256)          0           ['dense_6[0][0]',                \n",
            "                                                                  'dense_7[0][0]',                \n",
            "                                                                  'bidirectional_4[0][0]']        \n",
            "                                                                                                  \n",
            " dropout_3 (Dropout)            (None, 256)          0           ['concat_layer[0][0]']           \n",
            "                                                                                                  \n",
            " dense_8 (Dense)                (None, 5)            1285        ['dropout_3[0][0]']              \n",
            "                                                                                                  \n",
            "==================================================================================================\n",
            "Total params: 257,300,909\n",
            "Trainable params: 503,085\n",
            "Non-trainable params: 256,797,824\n",
            "__________________________________________________________________________________________________\n"
          ]
        }
      ]
    },
    {
      "cell_type": "code",
      "source": [
        "# Plot the model\n",
        "from keras.utils import plot_model\n",
        "plot_model(model_5, show_shapes=True)"
      ],
      "metadata": {
        "colab": {
          "base_uri": "https://localhost:8080/",
          "height": 607
        },
        "id": "Vq9B35_D84Iu",
        "outputId": "3a8645fe-84c3-4c32-af4a-9a9d8e80ce87"
      },
      "execution_count": null,
      "outputs": [
        {
          "output_type": "execute_result",
          "data": {
            "image/png": "[encoded data removed]",
            "text/plain": [
              "<IPython.core.display.Image object>"
            ]
          },
          "metadata": {},
          "execution_count": 40
        }
      ]
    },
    {
      "cell_type": "code",
      "source": [
        "# Compile model\n",
        "model_5.compile(loss=tf.keras.losses.CategoricalCrossentropy(label_smoothing=0.2),\n",
        "                optimizer = tf.keras.optimizers.Adam(),\n",
        "                metrics=['accuracy'])"
      ],
      "metadata": {
        "id": "GQqhqDfQ4jOn"
      },
      "execution_count": null,
      "outputs": []
    },
    {
      "cell_type": "markdown",
      "source": [
        "### Create datasets"
      ],
      "metadata": {
        "id": "J2-e3amN6GJb"
      }
    },
    {
      "cell_type": "code",
      "source": [
        "# Create a function to combine token and character datasets\n",
        "def create_token_char_lines_ds(lines, total_line, sentences, chars, labels):\n",
        "  token_char_lines_data = tf.data.Dataset.from_tensor_slices((lines, total_line, sentences, chars))\n",
        "  token_char_lines_labels = tf.data.Dataset.from_tensor_slices(labels)\n",
        "  token_char_lines_ds = tf.data.Dataset.zip((token_char_lines_data, token_char_lines_labels))\n",
        "  return token_char_lines_ds.batch(32).prefetch(tf.data.AUTOTUNE)"
      ],
      "metadata": {
        "id": "hbXFY0Fk6Urv"
      },
      "execution_count": null,
      "outputs": []
    },
    {
      "cell_type": "code",
      "source": [
        "# Create datasets\n",
        "train_token_char_lines_ds = create_token_char_lines_ds(lines=train_line_number_ohe, \n",
        "                                                       total_line=train_total_lines_ohe,\n",
        "                                                       sentences=train_sent,\n",
        "                                                       chars=train_char, \n",
        "                                                       labels=train_labels_ohe)\n",
        "val_token_char_lines_ds = create_token_char_lines_ds(lines=val_line_number_ohe, \n",
        "                                                     total_line=val_total_lines_ohe,\n",
        "                                                     sentences=val_sent,\n",
        "                                                     chars=val_char, \n",
        "                                                     labels=val_labels_ohe)\n"
      ],
      "metadata": {
        "id": "Lx25SU8M8X-R"
      },
      "execution_count": null,
      "outputs": []
    },
    {
      "cell_type": "code",
      "source": [
        "train_token_char_lines_ds"
      ],
      "metadata": {
        "colab": {
          "base_uri": "https://localhost:8080/"
        },
        "id": "zq3QG9d_9l4c",
        "outputId": "1e7adb80-e1ad-4f0e-e354-3b4f6155e680"
      },
      "execution_count": null,
      "outputs": [
        {
          "output_type": "execute_result",
          "data": {
            "text/plain": [
              "<PrefetchDataset element_spec=((TensorSpec(shape=(None, 15), dtype=tf.float32, name=None), TensorSpec(shape=(None, 20), dtype=tf.float32, name=None), TensorSpec(shape=(None,), dtype=tf.string, name=None), TensorSpec(shape=(None,), dtype=tf.string, name=None)), TensorSpec(shape=(None, 5), dtype=tf.float64, name=None))>"
            ]
          },
          "metadata": {},
          "execution_count": 50
        }
      ]
    },
    {
      "cell_type": "markdown",
      "source": [
        "### Fitting and evaluating model_5"
      ],
      "metadata": {
        "id": "Q8C4FrBS9xSb"
      }
    },
    {
      "cell_type": "code",
      "source": [
        "# Fit the model\n",
        "history_model_5 = model_5.fit(train_token_char_lines_ds,\n",
        "                              steps_per_epoch=int(0.1*len(train_token_char_lines_ds)), \n",
        "                              epochs=3,\n",
        "                              validation_data=val_token_char_lines_ds, \n",
        "                              validation_steps=int(0.1*len(val_token_char_lines_ds)) )"
      ],
      "metadata": {
        "colab": {
          "base_uri": "https://localhost:8080/"
        },
        "id": "wy1OOsxv91ru",
        "outputId": "1dd7ddbc-c483-4792-97a9-1f5bfed274ca"
      },
      "execution_count": null,
      "outputs": [
        {
          "output_type": "stream",
          "name": "stdout",
          "text": [
            "Epoch 1/3\n",
            "562/562 [==============================] - 67s 74ms/step - loss: 1.1440 - accuracy: 0.6898 - val_loss: 1.0078 - val_accuracy: 0.7939\n",
            "Epoch 2/3\n",
            "562/562 [==============================] - 29s 52ms/step - loss: 1.0119 - accuracy: 0.7844 - val_loss: 0.9660 - val_accuracy: 0.8168\n",
            "Epoch 3/3\n",
            "562/562 [==============================] - 27s 49ms/step - loss: 0.9913 - accuracy: 0.7982 - val_loss: 0.9522 - val_accuracy: 0.8275\n"
          ]
        }
      ]
    },
    {
      "cell_type": "code",
      "source": [
        "# Make a predictions\n",
        "model_5_prob = model_5.predict(val_token_char_lines_ds)\n",
        "model_5_pred = tf.argmax(model_5_prob, axis=1)"
      ],
      "metadata": {
        "colab": {
          "base_uri": "https://localhost:8080/"
        },
        "id": "l8U-y8t-9-dy",
        "outputId": "231f59d2-16ee-454a-82ac-6b6d9e1b77dc"
      },
      "execution_count": null,
      "outputs": [
        {
          "output_type": "stream",
          "name": "stdout",
          "text": [
            "945/945 [==============================] - 24s 22ms/step\n"
          ]
        }
      ]
    },
    {
      "cell_type": "code",
      "source": [
        "model_5_metrics = calculate_results(y_true=val_labels_le,\n",
        "                                     y_pred=model_5_pred)\n",
        "model_5_metrics"
      ],
      "metadata": {
        "colab": {
          "base_uri": "https://localhost:8080/"
        },
        "id": "kd3rwAgv9-bu",
        "outputId": "ac76b344-443e-4c98-f8b6-1dab334f041d"
      },
      "execution_count": null,
      "outputs": [
        {
          "output_type": "execute_result",
          "data": {
            "text/plain": [
              "{'accuracy': 0.82, 'precision': 0.82, 'recall': 0.82, 'f1': 0.82}"
            ]
          },
          "metadata": {},
          "execution_count": 53
        }
      ]
    },
    {
      "cell_type": "markdown",
      "source": [
        "## Compare model results"
      ],
      "metadata": {
        "id": "ETYS0IS1_afw"
      }
    },
    {
      "cell_type": "code",
      "source": [
        "compare_results_df = pd.DataFrame({'baseline_model':baseline_metrics,\n",
        "                                   'cnn_custom_embed_model_1':model_1_metrics,\n",
        "                                   'feature_extr_model_2':model_2_metrics,\n",
        "                                   'cnn_char_embed_model_3':model_3_metrics,\n",
        "                                   'token_char_embed_model_4':model_4_metrics,\n",
        "                                   'position_token_char_model_5': model_5_metrics})"
      ],
      "metadata": {
        "id": "4gvku1dQ_foK"
      },
      "execution_count": null,
      "outputs": []
    },
    {
      "cell_type": "code",
      "source": [
        "# Plot bar plots\n",
        "import matplotlib.pyplot as plt\n",
        "compare_results_df.plot(kind='bar', figsize=(10,7)).legend(bbox_to_anchor=(1.0, 1.0));"
      ],
      "metadata": {
        "colab": {
          "base_uri": "https://localhost:8080/",
          "height": 529
        },
        "id": "nAIvM1f2C8lc",
        "outputId": "d49f72e6-2ed7-4753-afb4-38311bc5c38c"
      },
      "execution_count": null,
      "outputs": [
        {
          "output_type": "display_data",
          "data": {
            "text/plain": [
              "<Figure size 720x504 with 1 Axes>"
            ],
            "image/png": "[encoded data removed]"
          },
          "metadata": {
            "needs_background": "light"
          }
        }
      ]
    },
    {
      "cell_type": "code",
      "source": [
        "compare_results_df.f1.sort_values().plot(kind='bar', figsize=(10,7)).legend(bbox_to_anchor=(1.0, 1.0));"
      ],
      "metadata": {
        "colab": {
          "base_uri": "https://localhost:8080/",
          "height": 585
        },
        "id": "Us1rnyJmET-_",
        "outputId": "71a592d7-7e9e-414a-ee4b-6537441069bf"
      },
      "execution_count": null,
      "outputs": [
        {
          "output_type": "display_data",
          "data": {
            "text/plain": [
              "<Figure size 720x504 with 1 Axes>"
            ],
            "image/png": "[encoded data removed]"
          },
          "metadata": {
            "needs_background": "light"
          }
        }
      ]
    },
    {
      "cell_type": "markdown",
      "source": [
        "## Model 5 with all data"
      ],
      "metadata": {
        "id": "9nwA3exNKjzr"
      }
    },
    {
      "cell_type": "code",
      "source": [
        "# Create checkpoints\n",
        "check_path = '/content/drive/MyDrive/nlp_project/checkpoint'\n",
        "checkpoint_callback = tf.keras.callbacks.ModelCheckpoint(filepath=check_path,\n",
        "                                                         save_weights_only=True,\n",
        "                                                         save_best_only=True,\n",
        "                                                         save_freq='epoch',\n",
        "                                                         verbose=1)\n",
        "early_stopping = tf.keras.callbacks.EarlyStopping(monitor='val_accuracy',\n",
        "                                                  patience = 3)\n",
        "reduce_lr = tf.keras.callbacks.ReduceLROnPlateau(monitor=\"val_loss\",  \n",
        "                                                 factor=0.2,\n",
        "                                                 patience=2,\n",
        "                                                 verbose=1,\n",
        "                                                 min_lr=1e-5)"
      ],
      "metadata": {
        "id": "AIyYkuuZFYUQ"
      },
      "execution_count": null,
      "outputs": []
    },
    {
      "cell_type": "code",
      "source": [
        "# 1. Setup token inputs/model\n",
        "token_inputs = layers.Input(shape=[], dtype='string', name='token_inputs')\n",
        "token_embeddings = use_embed_layer(token_inputs)\n",
        "token_outputs = layers.Dense(296, activation='relu')(token_embeddings)\n",
        "token_model = tf.keras.Model(token_inputs, token_outputs)\n",
        "\n",
        "# 2. Setup char inputs/model\n",
        "char_inputs = layers.Input(shape=(1,), dtype='string', name='char_inputs')\n",
        "char_vectors = char_vectorizer(char_inputs)\n",
        "char_embeddings = char_embed(char_vectors)\n",
        "char_bi_lstm = layers.Bidirectional(layers.LSTM(24))(char_embeddings)\n",
        "char_model = tf.keras.Model(char_inputs, char_bi_lstm)\n",
        "\n",
        "# 3. line_number feature\n",
        "line_number_inputs = layers.Input(shape=(15,), dtype=tf.float32, name='line_number_inputs')\n",
        "line_number_outputs = layers.Dense(32, activation='relu')(line_number_inputs)\n",
        "line_number_model = tf.keras.Model(line_number_inputs, line_number_outputs)\n",
        "\n",
        "# 4. total_line feature\n",
        "total_line_inputs = layers.Input(shape=(20,), dtype=tf.float32, name='total_line_inputs')\n",
        "total_line_outputs = layers.Dense(32, activation='relu')(total_line_inputs)\n",
        "total_line_model = tf.keras.Model(total_line_inputs, total_line_outputs)\n",
        "\n",
        "# 5. Concatenate token and char \n",
        "token_char_concat = layers.Concatenate(name='token_char_concat')([token_model.output, char_model.output])\n",
        "combined_dropout = layers.Dropout(0.5)(token_char_concat)\n",
        "\n",
        "# 6. Bidirectional layer\n",
        "combined_reshape = layers.Reshape((1, 344), input_shape=(344,))(combined_dropout)\n",
        "token_char_bi_lstm = layers.Bidirectional(layers.LSTM(96))(combined_reshape)\n",
        "\n",
        "# 7. Concatenate line_number feature, total_line feature and token_char_concat \n",
        "concat_layer = layers.Concatenate(name='concat_layer')([line_number_model.output, total_line_model.output, token_char_bi_lstm])\n",
        "\n",
        "# 8. Create output layers + dropout\n",
        "final_dropout = layers.Dropout(0.5)(concat_layer)\n",
        "output_layer = layers.Dense(num_classes, activation='softmax')(final_dropout)\n",
        "\n",
        "# 9. Create a model\n",
        "best_model = tf.keras.Model(inputs=[line_number_inputs,\n",
        "                                 total_line_inputs,\n",
        "                                 token_inputs, \n",
        "                                 char_inputs],\n",
        "                         outputs = output_layer)\n",
        "# Compile model\n",
        "best_model.compile(loss=tf.keras.losses.CategoricalCrossentropy(label_smoothing=0.2),\n",
        "                optimizer = tf.keras.optimizers.Adam(),\n",
        "                metrics=['accuracy'])\n",
        "\n",
        "# Fit the model\n",
        "history_best_model = best_model.fit(train_token_char_lines_ds,\n",
        "                              steps_per_epoch=len(train_token_char_lines_ds), \n",
        "                              epochs=6,\n",
        "                              validation_data=val_token_char_lines_ds, \n",
        "                              validation_steps=int(0.1 * len(val_token_char_lines_ds)),\n",
        "                              callbacks=[checkpoint_callback, early_stopping, reduce_lr])"
      ],
      "metadata": {
        "colab": {
          "base_uri": "https://localhost:8080/"
        },
        "id": "GKKrXL2WEysL",
        "outputId": "66d77330-fc6d-4494-da17-198c34f266a5"
      },
      "execution_count": null,
      "outputs": [
        {
          "output_type": "stream",
          "name": "stderr",
          "text": [
            "WARNING:tensorflow:From /usr/local/lib/python3.9/dist-packages/tensorflow/python/autograph/pyct/static_analysis/liveness.py:83: Analyzer.lamba_check (from tensorflow.python.autograph.pyct.static_analysis.liveness) is deprecated and will be removed after 2023-09-23.\n",
            "Instructions for updating:\n",
            "Lambda fuctions will be no more assumed to be used in the statement where they are used, or at least in the same block. https://github.com/tensorflow/tensorflow/issues/56089\n"
          ]
        },
        {
          "output_type": "stream",
          "name": "stdout",
          "text": [
            "Epoch 1/6\n",
            "5627/5627 [==============================] - ETA: 0s - loss: 0.9933 - accuracy: 0.7963\n",
            "Epoch 1: val_loss improved from inf to 0.92342, saving model to /content/drive/MyDrive/nlp_project/checkpoint\n",
            "5627/5627 [==============================] - 319s 53ms/step - loss: 0.9933 - accuracy: 0.7963 - val_loss: 0.9234 - val_accuracy: 0.8341 - lr: 0.0010\n",
            "Epoch 2/6\n",
            "5627/5627 [==============================] - ETA: 0s - loss: 0.9437 - accuracy: 0.8293\n",
            "Epoch 2: val_loss improved from 0.92342 to 0.90793, saving model to /content/drive/MyDrive/nlp_project/checkpoint\n",
            "5627/5627 [==============================] - 310s 55ms/step - loss: 0.9437 - accuracy: 0.8293 - val_loss: 0.9079 - val_accuracy: 0.8414 - lr: 0.0010\n",
            "Epoch 3/6\n",
            "5627/5627 [==============================] - ETA: 0s - loss: 0.9303 - accuracy: 0.8378\n",
            "Epoch 3: val_loss improved from 0.90793 to 0.89991, saving model to /content/drive/MyDrive/nlp_project/checkpoint\n",
            "5627/5627 [==============================] - 315s 56ms/step - loss: 0.9303 - accuracy: 0.8378 - val_loss: 0.8999 - val_accuracy: 0.8534 - lr: 0.0010\n",
            "Epoch 4/6\n",
            "5627/5627 [==============================] - ETA: 0s - loss: 0.9216 - accuracy: 0.8430\n",
            "Epoch 4: val_loss improved from 0.89991 to 0.89295, saving model to /content/drive/MyDrive/nlp_project/checkpoint\n",
            "5627/5627 [==============================] - 314s 56ms/step - loss: 0.9216 - accuracy: 0.8430 - val_loss: 0.8929 - val_accuracy: 0.8547 - lr: 0.0010\n",
            "Epoch 5/6\n",
            "5627/5627 [==============================] - ETA: 0s - loss: 0.9158 - accuracy: 0.8473\n",
            "Epoch 5: val_loss improved from 0.89295 to 0.89015, saving model to /content/drive/MyDrive/nlp_project/checkpoint\n",
            "5627/5627 [==============================] - 313s 56ms/step - loss: 0.9158 - accuracy: 0.8473 - val_loss: 0.8901 - val_accuracy: 0.8527 - lr: 0.0010\n",
            "Epoch 6/6\n",
            "5627/5627 [==============================] - ETA: 0s - loss: 0.9114 - accuracy: 0.8499\n",
            "Epoch 6: val_loss improved from 0.89015 to 0.88954, saving model to /content/drive/MyDrive/nlp_project/checkpoint\n",
            "5627/5627 [==============================] - 310s 55ms/step - loss: 0.9114 - accuracy: 0.8499 - val_loss: 0.8895 - val_accuracy: 0.8541 - lr: 0.0010\n"
          ]
        }
      ]
    },
    {
      "cell_type": "markdown",
      "source": [
        "## Save the best model"
      ],
      "metadata": {
        "id": "cUdxLAPM_vbu"
      }
    },
    {
      "cell_type": "code",
      "source": [
        "model.save('/content/drive/MyDrive/token_char_lines_best_model_all_data')\n",
        "loaded_best_model = tf.keras.models.load_model('/content/drive/MyDrive/token_char_lines_best_model_all_data')\n"
      ],
      "metadata": {
        "id": "MvVyFmeQGdqj"
      },
      "execution_count": null,
      "outputs": []
    },
    {
      "cell_type": "code",
      "source": [
        "best_model.save('/content/drive/MyDrive/token_char_lines_best_model_all_data')"
      ],
      "metadata": {
        "colab": {
          "base_uri": "https://localhost:8080/"
        },
        "id": "m5fpD4RfVqdg",
        "outputId": "da03f6f2-7fce-4541-f4c9-033a985a7b40"
      },
      "execution_count": null,
      "outputs": [
        {
          "output_type": "stream",
          "name": "stderr",
          "text": [
            "WARNING:absl:Found untraced functions such as lstm_cell_1_layer_call_fn, lstm_cell_1_layer_call_and_return_conditional_losses, lstm_cell_2_layer_call_fn, lstm_cell_2_layer_call_and_return_conditional_losses, lstm_cell_4_layer_call_fn while saving (showing 5 of 8). These functions will not be directly callable after loading.\n"
          ]
        }
      ]
    },
    {
      "cell_type": "code",
      "source": [
        "loaded_best_model = tf.keras.models.load_model('/content/drive/MyDrive/token_char_lines_best_model_all_data')"
      ],
      "metadata": {
        "id": "HFjhrkArAQc6"
      },
      "execution_count": null,
      "outputs": []
    },
    {
      "cell_type": "code",
      "source": [
        "loaded_best_model.evaluate(val_token_char_lines_ds)"
      ],
      "metadata": {
        "colab": {
          "base_uri": "https://localhost:8080/"
        },
        "id": "4IB_QeZNAlPu",
        "outputId": "7053e8b4-abfe-458c-d4f6-f34145b10af5"
      },
      "execution_count": null,
      "outputs": [
        {
          "output_type": "stream",
          "name": "stdout",
          "text": [
            "945/945 [==============================] - 27s 23ms/step - loss: 0.8909 - accuracy: 0.8505\n"
          ]
        },
        {
          "output_type": "execute_result",
          "data": {
            "text/plain": [
              "[0.8909228444099426, 0.8505229949951172]"
            ]
          },
          "metadata": {},
          "execution_count": 44
        }
      ]
    },
    {
      "cell_type": "code",
      "source": [
        "# Make a predictions\n",
        "best_model_prob = loaded_best_model.predict(val_token_char_lines_ds)\n",
        "best_model_pred = tf.argmax(best_model_prob, axis=1)"
      ],
      "metadata": {
        "id": "KslqfHe5S3FK"
      },
      "execution_count": null,
      "outputs": []
    },
    {
      "cell_type": "code",
      "source": [
        "# Calculate evaluation metrics\n",
        "best_model_metrics = calculate_results(y_true=val_labels_le,\n",
        "                                       y_pred=best_model_pred)\n",
        "best_model_metrics"
      ],
      "metadata": {
        "id": "lSV4quI9C7IG"
      },
      "execution_count": null,
      "outputs": []
    },
    {
      "cell_type": "markdown",
      "source": [
        "## Check the most wrong predictions"
      ],
      "metadata": {
        "id": "gNm5FWNTOhnx"
      }
    },
    {
      "cell_type": "code",
      "source": [
        "# Create a DataFrame with results of predictions\n",
        "results_df = pd.DataFrame({'text':val_sent,\n",
        "                           'target':val_labels_le,\n",
        "                           'true_label':[class_names[i] for i in val_labels_le],\n",
        "                           'prediction':best_model_pred,\n",
        "                           'pred_label':[class_names[i] for i in best_model_pred],\n",
        "                           'probability':np.max(best_model_prob, axis=1)})\n"
      ],
      "metadata": {
        "id": "d7eGY63LOmhM"
      },
      "execution_count": null,
      "outputs": []
    },
    {
      "cell_type": "code",
      "source": [
        "# Save the csv file\n",
        "results_df.to_csv('/content/drive/MyDrive/nlp_project/val_results.csv', index=False)"
      ],
      "metadata": {
        "id": "JyAoda5OL7X2"
      },
      "execution_count": null,
      "outputs": []
    },
    {
      "cell_type": "code",
      "source": [
        "import pandas as pd\n",
        "results_df = pd.read_csv('/content/drive/MyDrive/nlp_project/val_results.csv', index_col=False)"
      ],
      "metadata": {
        "id": "otC8pd2wj1Hv"
      },
      "execution_count": null,
      "outputs": []
    },
    {
      "cell_type": "code",
      "source": [
        "results_df = results_df.drop(['Unnamed: 0'], axis=1)\n",
        "results_df.head(7)\n"
      ],
      "metadata": {
        "colab": {
          "base_uri": "https://localhost:8080/",
          "height": 539
        },
        "id": "lkSNBFUCRsDv",
        "outputId": "8e8b70ce-87e4-4e4c-c708-1ab0629d29a1"
      },
      "execution_count": null,
      "outputs": [
        {
          "output_type": "execute_result",
          "data": {
            "text/plain": [
              "                                                text  target  true_label  \\\n",
              "0  ige sensitization to aspergillus fumigatus and...       0  BACKGROUND   \n",
              "1  it is not clear whether these patients would b...       0  BACKGROUND   \n",
              "2  we sought to determine whether a @-month cours...       3   OBJECTIVE   \n",
              "3  asthmatic patients who were ige sensitized to ...       2     METHODS   \n",
              "4  primary outcomes were improvement in quality o...       2     METHODS   \n",
              "5              sixty-five patients were randomized .       4     RESULTS   \n",
              "6  fifty-nine patients started treatment ( @ rece...       4     RESULTS   \n",
              "\n",
              "   prediction  pred_label  probability  \n",
              "0           0  BACKGROUND     0.585905  \n",
              "1           0  BACKGROUND     0.573810  \n",
              "2           3   OBJECTIVE     0.434487  \n",
              "3           2     METHODS     0.777525  \n",
              "4           2     METHODS     0.755459  \n",
              "5           4     RESULTS     0.794575  \n",
              "6           4     RESULTS     0.694372  "
            ],
            "text/html": [
              "\n",
              "  <div id=\"df-006f897d-6d86-4fa6-aa7c-8d5097088c5f\">\n",
              "    <div class=\"colab-df-container\">\n",
              "      <div>\n",
              "<style scoped>\n",
              "    .dataframe tbody tr th:only-of-type {\n",
              "        vertical-align: middle;\n",
              "    }\n",
              "\n",
              "    .dataframe tbody tr th {\n",
              "        vertical-align: top;\n",
              "    }\n",
              "\n",
              "    .dataframe thead th {\n",
              "        text-align: right;\n",
              "    }\n",
              "</style>\n",
              "<table border=\"1\" class=\"dataframe\">\n",
              "  <thead>\n",
              "    <tr style=\"text-align: right;\">\n",
              "      <th></th>\n",
              "      <th>text</th>\n",
              "      <th>target</th>\n",
              "      <th>true_label</th>\n",
              "      <th>prediction</th>\n",
              "      <th>pred_label</th>\n",
              "      <th>probability</th>\n",
              "    </tr>\n",
              "  </thead>\n",
              "  <tbody>\n",
              "    <tr>\n",
              "      <th>0</th>\n",
              "      <td>ige sensitization to aspergillus fumigatus and...</td>\n",
              "      <td>0</td>\n",
              "      <td>BACKGROUND</td>\n",
              "      <td>0</td>\n",
              "      <td>BACKGROUND</td>\n",
              "      <td>0.585905</td>\n",
              "    </tr>\n",
              "    <tr>\n",
              "      <th>1</th>\n",
              "      <td>it is not clear whether these patients would b...</td>\n",
              "      <td>0</td>\n",
              "      <td>BACKGROUND</td>\n",
              "      <td>0</td>\n",
              "      <td>BACKGROUND</td>\n",
              "      <td>0.573810</td>\n",
              "    </tr>\n",
              "    <tr>\n",
              "      <th>2</th>\n",
              "      <td>we sought to determine whether a @-month cours...</td>\n",
              "      <td>3</td>\n",
              "      <td>OBJECTIVE</td>\n",
              "      <td>3</td>\n",
              "      <td>OBJECTIVE</td>\n",
              "      <td>0.434487</td>\n",
              "    </tr>\n",
              "    <tr>\n",
              "      <th>3</th>\n",
              "      <td>asthmatic patients who were ige sensitized to ...</td>\n",
              "      <td>2</td>\n",
              "      <td>METHODS</td>\n",
              "      <td>2</td>\n",
              "      <td>METHODS</td>\n",
              "      <td>0.777525</td>\n",
              "    </tr>\n",
              "    <tr>\n",
              "      <th>4</th>\n",
              "      <td>primary outcomes were improvement in quality o...</td>\n",
              "      <td>2</td>\n",
              "      <td>METHODS</td>\n",
              "      <td>2</td>\n",
              "      <td>METHODS</td>\n",
              "      <td>0.755459</td>\n",
              "    </tr>\n",
              "    <tr>\n",
              "      <th>5</th>\n",
              "      <td>sixty-five patients were randomized .</td>\n",
              "      <td>4</td>\n",
              "      <td>RESULTS</td>\n",
              "      <td>4</td>\n",
              "      <td>RESULTS</td>\n",
              "      <td>0.794575</td>\n",
              "    </tr>\n",
              "    <tr>\n",
              "      <th>6</th>\n",
              "      <td>fifty-nine patients started treatment ( @ rece...</td>\n",
              "      <td>4</td>\n",
              "      <td>RESULTS</td>\n",
              "      <td>4</td>\n",
              "      <td>RESULTS</td>\n",
              "      <td>0.694372</td>\n",
              "    </tr>\n",
              "  </tbody>\n",
              "</table>\n",
              "</div>\n",
              "      <button class=\"colab-df-convert\" onclick=\"convertToInteractive('df-006f897d-6d86-4fa6-aa7c-8d5097088c5f')\"\n",
              "              title=\"Convert this dataframe to an interactive table.\"\n",
              "              style=\"display:none;\">\n",
              "        \n",
              "  <svg xmlns=\"http://www.w3.org/2000/svg\" height=\"24px\"viewBox=\"0 0 24 24\"\n",
              "       width=\"24px\">\n",
              "    <path d=\"M0 0h24v24H0V0z\" fill=\"none\"/>\n",
              "    <path d=\"M18.56 5.44l.94 2.06.94-2.06 2.06-.94-2.06-.94-.94-2.06-.94 2.06-2.06.94zm-11 1L8.5 8.5l.94-2.06 2.06-.94-2.06-.94L8.5 2.5l-.94 2.06-2.06.94zm10 10l.94 2.06.94-2.06 2.06-.94-2.06-.94-.94-2.06-.94 2.06-2.06.94z\"/><path d=\"M17.41 7.96l-1.37-1.37c-.4-.4-.92-.59-1.43-.59-.52 0-1.04.2-1.43.59L10.3 9.45l-7.72 7.72c-.78.78-.78 2.05 0 2.83L4 21.41c.39.39.9.59 1.41.59.51 0 1.02-.2 1.41-.59l7.78-7.78 2.81-2.81c.8-.78.8-2.07 0-2.86zM5.41 20L4 18.59l7.72-7.72 1.47 1.35L5.41 20z\"/>\n",
              "  </svg>\n",
              "      </button>\n",
              "      \n",
              "  <style>\n",
              "    .colab-df-container {\n",
              "      display:flex;\n",
              "      flex-wrap:wrap;\n",
              "      gap: 12px;\n",
              "    }\n",
              "\n",
              "    .colab-df-convert {\n",
              "      background-color: #E8F0FE;\n",
              "      border: none;\n",
              "      border-radius: 50%;\n",
              "      cursor: pointer;\n",
              "      display: none;\n",
              "      fill: #1967D2;\n",
              "      height: 32px;\n",
              "      padding: 0 0 0 0;\n",
              "      width: 32px;\n",
              "    }\n",
              "\n",
              "    .colab-df-convert:hover {\n",
              "      background-color: #E2EBFA;\n",
              "      box-shadow: 0px 1px 2px rgba(60, 64, 67, 0.3), 0px 1px 3px 1px rgba(60, 64, 67, 0.15);\n",
              "      fill: #174EA6;\n",
              "    }\n",
              "\n",
              "    [theme=dark] .colab-df-convert {\n",
              "      background-color: #3B4455;\n",
              "      fill: #D2E3FC;\n",
              "    }\n",
              "\n",
              "    [theme=dark] .colab-df-convert:hover {\n",
              "      background-color: #434B5C;\n",
              "      box-shadow: 0px 1px 3px 1px rgba(0, 0, 0, 0.15);\n",
              "      filter: drop-shadow(0px 1px 2px rgba(0, 0, 0, 0.3));\n",
              "      fill: #FFFFFF;\n",
              "    }\n",
              "  </style>\n",
              "\n",
              "      <script>\n",
              "        const buttonEl =\n",
              "          document.querySelector('#df-006f897d-6d86-4fa6-aa7c-8d5097088c5f button.colab-df-convert');\n",
              "        buttonEl.style.display =\n",
              "          google.colab.kernel.accessAllowed ? 'block' : 'none';\n",
              "\n",
              "        async function convertToInteractive(key) {\n",
              "          const element = document.querySelector('#df-006f897d-6d86-4fa6-aa7c-8d5097088c5f');\n",
              "          const dataTable =\n",
              "            await google.colab.kernel.invokeFunction('convertToInteractive',\n",
              "                                                     [key], {});\n",
              "          if (!dataTable) return;\n",
              "\n",
              "          const docLinkHtml = 'Like what you see? Visit the ' +\n",
              "            '<a target=\"_blank\" href=https://colab.research.google.com/notebooks/data_table.ipynb>data table notebook</a>'\n",
              "            + ' to learn more about interactive tables.';\n",
              "          element.innerHTML = '';\n",
              "          dataTable['output_type'] = 'display_data';\n",
              "          await google.colab.output.renderOutput(dataTable, element);\n",
              "          const docLink = document.createElement('div');\n",
              "          docLink.innerHTML = docLinkHtml;\n",
              "          element.appendChild(docLink);\n",
              "        }\n",
              "      </script>\n",
              "    </div>\n",
              "  </div>\n",
              "  "
            ]
          },
          "metadata": {},
          "execution_count": 6
        }
      ]
    },
    {
      "cell_type": "code",
      "source": [
        "# Create a DataFrame with wrong predictions\n",
        "wrong_predictions = results_df.query('target != prediction')\n",
        "wrong_predictions.head(10)"
      ],
      "metadata": {
        "id": "bAD5mJkjS6g2",
        "colab": {
          "base_uri": "https://localhost:8080/",
          "height": 737
        },
        "outputId": "a5647b0e-9934-42c7-def0-c603d3b0d2df"
      },
      "execution_count": null,
      "outputs": [
        {
          "output_type": "execute_result",
          "data": {
            "text/plain": [
              "                                                 text  target true_label  \\\n",
              "13  the present pilot study tested the hypothesis ...       3  OBJECTIVE   \n",
              "18  naltrexone and alprazolam each significantly a...       4    RESULTS   \n",
              "19  the combination attenuated a greater number of...       4    RESULTS   \n",
              "24  we tested the impact of conceptual instruction...       3  OBJECTIVE   \n",
              "25  we also examined the learning processes suppor...       3  OBJECTIVE   \n",
              "26  we worked with @ second - and third-grade chil...       2    METHODS   \n",
              "28  providing conceptual instruction first resulte...       4    RESULTS   \n",
              "35  in @ clinics within a large academic cancer ce...       2    METHODS   \n",
              "48  high risk of error was being certain that inco...       2    METHODS   \n",
              "49         the results are given as the mean ( sd ) .       2    METHODS   \n",
              "\n",
              "    prediction   pred_label  probability  \n",
              "13           0   BACKGROUND     0.393350  \n",
              "18           1  CONCLUSIONS     0.485935  \n",
              "19           1  CONCLUSIONS     0.466584  \n",
              "24           2      METHODS     0.315632  \n",
              "25           0   BACKGROUND     0.374817  \n",
              "26           4      RESULTS     0.535748  \n",
              "28           2      METHODS     0.369821  \n",
              "35           4      RESULTS     0.503319  \n",
              "48           4      RESULTS     0.749784  \n",
              "49           4      RESULTS     0.810373  "
            ],
            "text/html": [
              "\n",
              "  <div id=\"df-4c3d54b1-5004-43b9-8a2e-67d1e8e227d9\">\n",
              "    <div class=\"colab-df-container\">\n",
              "      <div>\n",
              "<style scoped>\n",
              "    .dataframe tbody tr th:only-of-type {\n",
              "        vertical-align: middle;\n",
              "    }\n",
              "\n",
              "    .dataframe tbody tr th {\n",
              "        vertical-align: top;\n",
              "    }\n",
              "\n",
              "    .dataframe thead th {\n",
              "        text-align: right;\n",
              "    }\n",
              "</style>\n",
              "<table border=\"1\" class=\"dataframe\">\n",
              "  <thead>\n",
              "    <tr style=\"text-align: right;\">\n",
              "      <th></th>\n",
              "      <th>text</th>\n",
              "      <th>target</th>\n",
              "      <th>true_label</th>\n",
              "      <th>prediction</th>\n",
              "      <th>pred_label</th>\n",
              "      <th>probability</th>\n",
              "    </tr>\n",
              "  </thead>\n",
              "  <tbody>\n",
              "    <tr>\n",
              "      <th>13</th>\n",
              "      <td>the present pilot study tested the hypothesis ...</td>\n",
              "      <td>3</td>\n",
              "      <td>OBJECTIVE</td>\n",
              "      <td>0</td>\n",
              "      <td>BACKGROUND</td>\n",
              "      <td>0.393350</td>\n",
              "    </tr>\n",
              "    <tr>\n",
              "      <th>18</th>\n",
              "      <td>naltrexone and alprazolam each significantly a...</td>\n",
              "      <td>4</td>\n",
              "      <td>RESULTS</td>\n",
              "      <td>1</td>\n",
              "      <td>CONCLUSIONS</td>\n",
              "      <td>0.485935</td>\n",
              "    </tr>\n",
              "    <tr>\n",
              "      <th>19</th>\n",
              "      <td>the combination attenuated a greater number of...</td>\n",
              "      <td>4</td>\n",
              "      <td>RESULTS</td>\n",
              "      <td>1</td>\n",
              "      <td>CONCLUSIONS</td>\n",
              "      <td>0.466584</td>\n",
              "    </tr>\n",
              "    <tr>\n",
              "      <th>24</th>\n",
              "      <td>we tested the impact of conceptual instruction...</td>\n",
              "      <td>3</td>\n",
              "      <td>OBJECTIVE</td>\n",
              "      <td>2</td>\n",
              "      <td>METHODS</td>\n",
              "      <td>0.315632</td>\n",
              "    </tr>\n",
              "    <tr>\n",
              "      <th>25</th>\n",
              "      <td>we also examined the learning processes suppor...</td>\n",
              "      <td>3</td>\n",
              "      <td>OBJECTIVE</td>\n",
              "      <td>0</td>\n",
              "      <td>BACKGROUND</td>\n",
              "      <td>0.374817</td>\n",
              "    </tr>\n",
              "    <tr>\n",
              "      <th>26</th>\n",
              "      <td>we worked with @ second - and third-grade chil...</td>\n",
              "      <td>2</td>\n",
              "      <td>METHODS</td>\n",
              "      <td>4</td>\n",
              "      <td>RESULTS</td>\n",
              "      <td>0.535748</td>\n",
              "    </tr>\n",
              "    <tr>\n",
              "      <th>28</th>\n",
              "      <td>providing conceptual instruction first resulte...</td>\n",
              "      <td>4</td>\n",
              "      <td>RESULTS</td>\n",
              "      <td>2</td>\n",
              "      <td>METHODS</td>\n",
              "      <td>0.369821</td>\n",
              "    </tr>\n",
              "    <tr>\n",
              "      <th>35</th>\n",
              "      <td>in @ clinics within a large academic cancer ce...</td>\n",
              "      <td>2</td>\n",
              "      <td>METHODS</td>\n",
              "      <td>4</td>\n",
              "      <td>RESULTS</td>\n",
              "      <td>0.503319</td>\n",
              "    </tr>\n",
              "    <tr>\n",
              "      <th>48</th>\n",
              "      <td>high risk of error was being certain that inco...</td>\n",
              "      <td>2</td>\n",
              "      <td>METHODS</td>\n",
              "      <td>4</td>\n",
              "      <td>RESULTS</td>\n",
              "      <td>0.749784</td>\n",
              "    </tr>\n",
              "    <tr>\n",
              "      <th>49</th>\n",
              "      <td>the results are given as the mean ( sd ) .</td>\n",
              "      <td>2</td>\n",
              "      <td>METHODS</td>\n",
              "      <td>4</td>\n",
              "      <td>RESULTS</td>\n",
              "      <td>0.810373</td>\n",
              "    </tr>\n",
              "  </tbody>\n",
              "</table>\n",
              "</div>\n",
              "      <button class=\"colab-df-convert\" onclick=\"convertToInteractive('df-4c3d54b1-5004-43b9-8a2e-67d1e8e227d9')\"\n",
              "              title=\"Convert this dataframe to an interactive table.\"\n",
              "              style=\"display:none;\">\n",
              "        \n",
              "  <svg xmlns=\"http://www.w3.org/2000/svg\" height=\"24px\"viewBox=\"0 0 24 24\"\n",
              "       width=\"24px\">\n",
              "    <path d=\"M0 0h24v24H0V0z\" fill=\"none\"/>\n",
              "    <path d=\"M18.56 5.44l.94 2.06.94-2.06 2.06-.94-2.06-.94-.94-2.06-.94 2.06-2.06.94zm-11 1L8.5 8.5l.94-2.06 2.06-.94-2.06-.94L8.5 2.5l-.94 2.06-2.06.94zm10 10l.94 2.06.94-2.06 2.06-.94-2.06-.94-.94-2.06-.94 2.06-2.06.94z\"/><path d=\"M17.41 7.96l-1.37-1.37c-.4-.4-.92-.59-1.43-.59-.52 0-1.04.2-1.43.59L10.3 9.45l-7.72 7.72c-.78.78-.78 2.05 0 2.83L4 21.41c.39.39.9.59 1.41.59.51 0 1.02-.2 1.41-.59l7.78-7.78 2.81-2.81c.8-.78.8-2.07 0-2.86zM5.41 20L4 18.59l7.72-7.72 1.47 1.35L5.41 20z\"/>\n",
              "  </svg>\n",
              "      </button>\n",
              "      \n",
              "  <style>\n",
              "    .colab-df-container {\n",
              "      display:flex;\n",
              "      flex-wrap:wrap;\n",
              "      gap: 12px;\n",
              "    }\n",
              "\n",
              "    .colab-df-convert {\n",
              "      background-color: #E8F0FE;\n",
              "      border: none;\n",
              "      border-radius: 50%;\n",
              "      cursor: pointer;\n",
              "      display: none;\n",
              "      fill: #1967D2;\n",
              "      height: 32px;\n",
              "      padding: 0 0 0 0;\n",
              "      width: 32px;\n",
              "    }\n",
              "\n",
              "    .colab-df-convert:hover {\n",
              "      background-color: #E2EBFA;\n",
              "      box-shadow: 0px 1px 2px rgba(60, 64, 67, 0.3), 0px 1px 3px 1px rgba(60, 64, 67, 0.15);\n",
              "      fill: #174EA6;\n",
              "    }\n",
              "\n",
              "    [theme=dark] .colab-df-convert {\n",
              "      background-color: #3B4455;\n",
              "      fill: #D2E3FC;\n",
              "    }\n",
              "\n",
              "    [theme=dark] .colab-df-convert:hover {\n",
              "      background-color: #434B5C;\n",
              "      box-shadow: 0px 1px 3px 1px rgba(0, 0, 0, 0.15);\n",
              "      filter: drop-shadow(0px 1px 2px rgba(0, 0, 0, 0.3));\n",
              "      fill: #FFFFFF;\n",
              "    }\n",
              "  </style>\n",
              "\n",
              "      <script>\n",
              "        const buttonEl =\n",
              "          document.querySelector('#df-4c3d54b1-5004-43b9-8a2e-67d1e8e227d9 button.colab-df-convert');\n",
              "        buttonEl.style.display =\n",
              "          google.colab.kernel.accessAllowed ? 'block' : 'none';\n",
              "\n",
              "        async function convertToInteractive(key) {\n",
              "          const element = document.querySelector('#df-4c3d54b1-5004-43b9-8a2e-67d1e8e227d9');\n",
              "          const dataTable =\n",
              "            await google.colab.kernel.invokeFunction('convertToInteractive',\n",
              "                                                     [key], {});\n",
              "          if (!dataTable) return;\n",
              "\n",
              "          const docLinkHtml = 'Like what you see? Visit the ' +\n",
              "            '<a target=\"_blank\" href=https://colab.research.google.com/notebooks/data_table.ipynb>data table notebook</a>'\n",
              "            + ' to learn more about interactive tables.';\n",
              "          element.innerHTML = '';\n",
              "          dataTable['output_type'] = 'display_data';\n",
              "          await google.colab.output.renderOutput(dataTable, element);\n",
              "          const docLink = document.createElement('div');\n",
              "          docLink.innerHTML = docLinkHtml;\n",
              "          element.appendChild(docLink);\n",
              "        }\n",
              "      </script>\n",
              "    </div>\n",
              "  </div>\n",
              "  "
            ]
          },
          "metadata": {},
          "execution_count": 7
        }
      ]
    },
    {
      "cell_type": "code",
      "source": [
        "# Find out which labels are predicted wrong most often\n",
        "wrong_predictions.target.value_counts()"
      ],
      "metadata": {
        "id": "NMLb9eYoTkJd",
        "colab": {
          "base_uri": "https://localhost:8080/"
        },
        "outputId": "cf08bac0-cfb4-48df-8431-ac6a01de7dfb"
      },
      "execution_count": null,
      "outputs": [
        {
          "output_type": "execute_result",
          "data": {
            "text/plain": [
              "3    1192\n",
              "2    1031\n",
              "4     946\n",
              "1     808\n",
              "0     539\n",
              "Name: target, dtype: int64"
            ]
          },
          "metadata": {},
          "execution_count": 59
        }
      ]
    },
    {
      "cell_type": "markdown",
      "source": [
        "Most errors are observed in the predicted of OBJECTIVE and METHODS\t"
      ],
      "metadata": {
        "id": "zfr3ZMrLYUJp"
      }
    },
    {
      "cell_type": "code",
      "source": [
        "# Find out the most wrong predictions (with the highest probability)\n",
        "most_wrong_predictions = wrong_predictions.sort_values(['probability'], ascending=False)\n",
        "most_wrong_predictions.head(10)"
      ],
      "metadata": {
        "id": "fzW1ckb7TSM9",
        "colab": {
          "base_uri": "https://localhost:8080/",
          "height": 876
        },
        "outputId": "0b286eb6-226c-4578-a134-d14b7db591b6"
      },
      "execution_count": null,
      "outputs": [
        {
          "output_type": "execute_result",
          "data": {
            "text/plain": [
              "                                                    text  target   true_label  \\\n",
              "18208  to compare pain response outcomes for patients...       0   BACKGROUND   \n",
              "21580  to evaluate the potential efficacy and safety ...       0   BACKGROUND   \n",
              "16173  a qol questionnaire including a pain scale wil...       1  CONCLUSIONS   \n",
              "7300   to examine the effects of complex cognitive ( ...       0   BACKGROUND   \n",
              "19138  to determine the relationship between type thr...       0   BACKGROUND   \n",
              "22280  adverse reaction occurrence rate was observed ...       2      METHODS   \n",
              "11078  only lbm and clcr were found to be determinant...       1  CONCLUSIONS   \n",
              "2321   the risk of subsequent relapse among those who...       2      METHODS   \n",
              "8345   there was one patient who developed a non-fata...       1  CONCLUSIONS   \n",
              "19880  clinic-derived systolic blood pressure obtaine...       4      RESULTS   \n",
              "\n",
              "       prediction pred_label  probability  \n",
              "18208           3  OBJECTIVE     0.905113  \n",
              "21580           3  OBJECTIVE     0.896874  \n",
              "16173           2    METHODS     0.894856  \n",
              "7300            3  OBJECTIVE     0.891916  \n",
              "19138           3  OBJECTIVE     0.890837  \n",
              "22280           4    RESULTS     0.884772  \n",
              "11078           4    RESULTS     0.881915  \n",
              "2321            4    RESULTS     0.878002  \n",
              "8345            4    RESULTS     0.877196  \n",
              "19880           2    METHODS     0.876068  "
            ],
            "text/html": [
              "\n",
              "  <div id=\"df-076f05b8-6b2f-40e2-bf62-df3b6f10a0d2\">\n",
              "    <div class=\"colab-df-container\">\n",
              "      <div>\n",
              "<style scoped>\n",
              "    .dataframe tbody tr th:only-of-type {\n",
              "        vertical-align: middle;\n",
              "    }\n",
              "\n",
              "    .dataframe tbody tr th {\n",
              "        vertical-align: top;\n",
              "    }\n",
              "\n",
              "    .dataframe thead th {\n",
              "        text-align: right;\n",
              "    }\n",
              "</style>\n",
              "<table border=\"1\" class=\"dataframe\">\n",
              "  <thead>\n",
              "    <tr style=\"text-align: right;\">\n",
              "      <th></th>\n",
              "      <th>text</th>\n",
              "      <th>target</th>\n",
              "      <th>true_label</th>\n",
              "      <th>prediction</th>\n",
              "      <th>pred_label</th>\n",
              "      <th>probability</th>\n",
              "    </tr>\n",
              "  </thead>\n",
              "  <tbody>\n",
              "    <tr>\n",
              "      <th>18208</th>\n",
              "      <td>to compare pain response outcomes for patients...</td>\n",
              "      <td>0</td>\n",
              "      <td>BACKGROUND</td>\n",
              "      <td>3</td>\n",
              "      <td>OBJECTIVE</td>\n",
              "      <td>0.905113</td>\n",
              "    </tr>\n",
              "    <tr>\n",
              "      <th>21580</th>\n",
              "      <td>to evaluate the potential efficacy and safety ...</td>\n",
              "      <td>0</td>\n",
              "      <td>BACKGROUND</td>\n",
              "      <td>3</td>\n",
              "      <td>OBJECTIVE</td>\n",
              "      <td>0.896874</td>\n",
              "    </tr>\n",
              "    <tr>\n",
              "      <th>16173</th>\n",
              "      <td>a qol questionnaire including a pain scale wil...</td>\n",
              "      <td>1</td>\n",
              "      <td>CONCLUSIONS</td>\n",
              "      <td>2</td>\n",
              "      <td>METHODS</td>\n",
              "      <td>0.894856</td>\n",
              "    </tr>\n",
              "    <tr>\n",
              "      <th>7300</th>\n",
              "      <td>to examine the effects of complex cognitive ( ...</td>\n",
              "      <td>0</td>\n",
              "      <td>BACKGROUND</td>\n",
              "      <td>3</td>\n",
              "      <td>OBJECTIVE</td>\n",
              "      <td>0.891916</td>\n",
              "    </tr>\n",
              "    <tr>\n",
              "      <th>19138</th>\n",
              "      <td>to determine the relationship between type thr...</td>\n",
              "      <td>0</td>\n",
              "      <td>BACKGROUND</td>\n",
              "      <td>3</td>\n",
              "      <td>OBJECTIVE</td>\n",
              "      <td>0.890837</td>\n",
              "    </tr>\n",
              "    <tr>\n",
              "      <th>22280</th>\n",
              "      <td>adverse reaction occurrence rate was observed ...</td>\n",
              "      <td>2</td>\n",
              "      <td>METHODS</td>\n",
              "      <td>4</td>\n",
              "      <td>RESULTS</td>\n",
              "      <td>0.884772</td>\n",
              "    </tr>\n",
              "    <tr>\n",
              "      <th>11078</th>\n",
              "      <td>only lbm and clcr were found to be determinant...</td>\n",
              "      <td>1</td>\n",
              "      <td>CONCLUSIONS</td>\n",
              "      <td>4</td>\n",
              "      <td>RESULTS</td>\n",
              "      <td>0.881915</td>\n",
              "    </tr>\n",
              "    <tr>\n",
              "      <th>2321</th>\n",
              "      <td>the risk of subsequent relapse among those who...</td>\n",
              "      <td>2</td>\n",
              "      <td>METHODS</td>\n",
              "      <td>4</td>\n",
              "      <td>RESULTS</td>\n",
              "      <td>0.878002</td>\n",
              "    </tr>\n",
              "    <tr>\n",
              "      <th>8345</th>\n",
              "      <td>there was one patient who developed a non-fata...</td>\n",
              "      <td>1</td>\n",
              "      <td>CONCLUSIONS</td>\n",
              "      <td>4</td>\n",
              "      <td>RESULTS</td>\n",
              "      <td>0.877196</td>\n",
              "    </tr>\n",
              "    <tr>\n",
              "      <th>19880</th>\n",
              "      <td>clinic-derived systolic blood pressure obtaine...</td>\n",
              "      <td>4</td>\n",
              "      <td>RESULTS</td>\n",
              "      <td>2</td>\n",
              "      <td>METHODS</td>\n",
              "      <td>0.876068</td>\n",
              "    </tr>\n",
              "  </tbody>\n",
              "</table>\n",
              "</div>\n",
              "      <button class=\"colab-df-convert\" onclick=\"convertToInteractive('df-076f05b8-6b2f-40e2-bf62-df3b6f10a0d2')\"\n",
              "              title=\"Convert this dataframe to an interactive table.\"\n",
              "              style=\"display:none;\">\n",
              "        \n",
              "  <svg xmlns=\"http://www.w3.org/2000/svg\" height=\"24px\"viewBox=\"0 0 24 24\"\n",
              "       width=\"24px\">\n",
              "    <path d=\"M0 0h24v24H0V0z\" fill=\"none\"/>\n",
              "    <path d=\"M18.56 5.44l.94 2.06.94-2.06 2.06-.94-2.06-.94-.94-2.06-.94 2.06-2.06.94zm-11 1L8.5 8.5l.94-2.06 2.06-.94-2.06-.94L8.5 2.5l-.94 2.06-2.06.94zm10 10l.94 2.06.94-2.06 2.06-.94-2.06-.94-.94-2.06-.94 2.06-2.06.94z\"/><path d=\"M17.41 7.96l-1.37-1.37c-.4-.4-.92-.59-1.43-.59-.52 0-1.04.2-1.43.59L10.3 9.45l-7.72 7.72c-.78.78-.78 2.05 0 2.83L4 21.41c.39.39.9.59 1.41.59.51 0 1.02-.2 1.41-.59l7.78-7.78 2.81-2.81c.8-.78.8-2.07 0-2.86zM5.41 20L4 18.59l7.72-7.72 1.47 1.35L5.41 20z\"/>\n",
              "  </svg>\n",
              "      </button>\n",
              "      \n",
              "  <style>\n",
              "    .colab-df-container {\n",
              "      display:flex;\n",
              "      flex-wrap:wrap;\n",
              "      gap: 12px;\n",
              "    }\n",
              "\n",
              "    .colab-df-convert {\n",
              "      background-color: #E8F0FE;\n",
              "      border: none;\n",
              "      border-radius: 50%;\n",
              "      cursor: pointer;\n",
              "      display: none;\n",
              "      fill: #1967D2;\n",
              "      height: 32px;\n",
              "      padding: 0 0 0 0;\n",
              "      width: 32px;\n",
              "    }\n",
              "\n",
              "    .colab-df-convert:hover {\n",
              "      background-color: #E2EBFA;\n",
              "      box-shadow: 0px 1px 2px rgba(60, 64, 67, 0.3), 0px 1px 3px 1px rgba(60, 64, 67, 0.15);\n",
              "      fill: #174EA6;\n",
              "    }\n",
              "\n",
              "    [theme=dark] .colab-df-convert {\n",
              "      background-color: #3B4455;\n",
              "      fill: #D2E3FC;\n",
              "    }\n",
              "\n",
              "    [theme=dark] .colab-df-convert:hover {\n",
              "      background-color: #434B5C;\n",
              "      box-shadow: 0px 1px 3px 1px rgba(0, 0, 0, 0.15);\n",
              "      filter: drop-shadow(0px 1px 2px rgba(0, 0, 0, 0.3));\n",
              "      fill: #FFFFFF;\n",
              "    }\n",
              "  </style>\n",
              "\n",
              "      <script>\n",
              "        const buttonEl =\n",
              "          document.querySelector('#df-076f05b8-6b2f-40e2-bf62-df3b6f10a0d2 button.colab-df-convert');\n",
              "        buttonEl.style.display =\n",
              "          google.colab.kernel.accessAllowed ? 'block' : 'none';\n",
              "\n",
              "        async function convertToInteractive(key) {\n",
              "          const element = document.querySelector('#df-076f05b8-6b2f-40e2-bf62-df3b6f10a0d2');\n",
              "          const dataTable =\n",
              "            await google.colab.kernel.invokeFunction('convertToInteractive',\n",
              "                                                     [key], {});\n",
              "          if (!dataTable) return;\n",
              "\n",
              "          const docLinkHtml = 'Like what you see? Visit the ' +\n",
              "            '<a target=\"_blank\" href=https://colab.research.google.com/notebooks/data_table.ipynb>data table notebook</a>'\n",
              "            + ' to learn more about interactive tables.';\n",
              "          element.innerHTML = '';\n",
              "          dataTable['output_type'] = 'display_data';\n",
              "          await google.colab.output.renderOutput(dataTable, element);\n",
              "          const docLink = document.createElement('div');\n",
              "          docLink.innerHTML = docLinkHtml;\n",
              "          element.appendChild(docLink);\n",
              "        }\n",
              "      </script>\n",
              "    </div>\n",
              "  </div>\n",
              "  "
            ]
          },
          "metadata": {},
          "execution_count": 8
        }
      ]
    },
    {
      "cell_type": "code",
      "source": [
        "# Visualize the most wrong predictions\n",
        "index = 0\n",
        "num = 20\n",
        "\n",
        "for i, row in enumerate(most_wrong_predictions[index:index+num].itertuples()):\n",
        "  _, text, _, true_label, _, pred_label, prob = row\n",
        "  print('\\n***\\n')\n",
        "  print(f'Sentense: {i+1}\\n{text}\\n')\n",
        "  print(f'True label: {true_label}\\nPredict: {pred_label}\\nProbability: {prob}')\n",
        "  \n"
      ],
      "metadata": {
        "id": "uIhJJMcITu2t",
        "colab": {
          "base_uri": "https://localhost:8080/"
        },
        "outputId": "dfae2d03-91ac-45bc-a316-4d34ae308552"
      },
      "execution_count": null,
      "outputs": [
        {
          "output_type": "stream",
          "name": "stdout",
          "text": [
            "\n",
            "***\n",
            "\n",
            "Sentense: 1\n",
            "to compare pain response outcomes for patients with spinal bone metastases treated with resistance training of the spinal musculature versus passive physical therapy during radiotherapy ( rt ) .\n",
            "\n",
            "True label: BACKGROUND\n",
            "Predict: OBJECTIVE\n",
            "Probability: 0.90511286\n",
            "\n",
            "***\n",
            "\n",
            "Sentense: 2\n",
            "to evaluate the potential efficacy and safety of inner limiting membrane ( ilm ) staining with brilliant blue g ( bbg ) under air infusion .\n",
            "\n",
            "True label: BACKGROUND\n",
            "Predict: OBJECTIVE\n",
            "Probability: 0.89687365\n",
            "\n",
            "***\n",
            "\n",
            "Sentense: 3\n",
            "a qol questionnaire including a pain scale will assess changes from baseline scores through @ months .\n",
            "\n",
            "True label: CONCLUSIONS\n",
            "Predict: METHODS\n",
            "Probability: 0.8948558\n",
            "\n",
            "***\n",
            "\n",
            "Sentense: 4\n",
            "to examine the effects of complex cognitive ( mahjong ) and physical ( tai chi ) activities on dementia severity in nursing home residents with dementia .\n",
            "\n",
            "True label: BACKGROUND\n",
            "Predict: OBJECTIVE\n",
            "Probability: 0.89191633\n",
            "\n",
            "***\n",
            "\n",
            "Sentense: 5\n",
            "to determine the relationship between type three secretion genotype and fluoroquinolone resistance for p. aeruginosa strains isolated from microbial keratitis during the steroids for corneal ulcers trial ( scut ) and for two laboratory strains , pa@ and pao@ .\n",
            "\n",
            "True label: BACKGROUND\n",
            "Predict: OBJECTIVE\n",
            "Probability: 0.89083725\n",
            "\n",
            "***\n",
            "\n",
            "Sentense: 6\n",
            "adverse reaction occurrence rate was observed in the two groups .\n",
            "\n",
            "True label: METHODS\n",
            "Predict: RESULTS\n",
            "Probability: 0.8847715\n",
            "\n",
            "***\n",
            "\n",
            "Sentense: 7\n",
            "only lbm and clcr were found to be determinants of veliparib v d/f and cl/f , respectively .\n",
            "\n",
            "True label: CONCLUSIONS\n",
            "Predict: RESULTS\n",
            "Probability: 0.88191503\n",
            "\n",
            "***\n",
            "\n",
            "Sentense: 8\n",
            "the risk of subsequent relapse among those who had achieved remission of symptoms at week @ was lower in the vitamins than placebo group ( or = @ , @ % ci @-@ @ ) .\n",
            "\n",
            "True label: METHODS\n",
            "Predict: RESULTS\n",
            "Probability: 0.87800175\n",
            "\n",
            "***\n",
            "\n",
            "Sentense: 9\n",
            "there was one patient who developed a non-fatal stroke in the combined aliskiren and arb group while the other two groups had none .\n",
            "\n",
            "True label: CONCLUSIONS\n",
            "Predict: RESULTS\n",
            "Probability: 0.87719566\n",
            "\n",
            "***\n",
            "\n",
            "Sentense: 10\n",
            "clinic-derived systolic blood pressure obtained before , during , and after the trial were estimated using linear mixed models .\n",
            "\n",
            "True label: RESULTS\n",
            "Predict: METHODS\n",
            "Probability: 0.8760678\n",
            "\n",
            "***\n",
            "\n",
            "Sentense: 11\n",
            "the study relies on questionnaire interviews and @ hz magnetic field ( elf-mf ) indoor measurements .\n",
            "\n",
            "True label: BACKGROUND\n",
            "Predict: METHODS\n",
            "Probability: 0.87225616\n",
            "\n",
            "***\n",
            "\n",
            "Sentense: 12\n",
            "these obseration indicators had no significant difference between two groups .\n",
            "\n",
            "True label: METHODS\n",
            "Predict: RESULTS\n",
            "Probability: 0.8714052\n",
            "\n",
            "***\n",
            "\n",
            "Sentense: 13\n",
            "secondary outcomes included time to tb treatment and mortality .\n",
            "\n",
            "True label: RESULTS\n",
            "Predict: METHODS\n",
            "Probability: 0.871327\n",
            "\n",
            "***\n",
            "\n",
            "Sentense: 14\n",
            "dwellings in the itn+irs arm were sprayed with two rounds of bendiocarb in @ .\n",
            "\n",
            "True label: RESULTS\n",
            "Predict: METHODS\n",
            "Probability: 0.87125486\n",
            "\n",
            "***\n",
            "\n",
            "Sentense: 15\n",
            "there were no statistically significant differences between groups for any of the clinical parameters tested .\n",
            "\n",
            "True label: CONCLUSIONS\n",
            "Predict: RESULTS\n",
            "Probability: 0.8696982\n",
            "\n",
            "***\n",
            "\n",
            "Sentense: 16\n",
            "of @ menopausal women identified , @ were allocated to a study group and @ to a control group .\n",
            "\n",
            "True label: METHODS\n",
            "Predict: RESULTS\n",
            "Probability: 0.86935157\n",
            "\n",
            "***\n",
            "\n",
            "Sentense: 17\n",
            "the primary outcome was the proportion of bacteriologically confirmed tb cases not initiating tb treatment by @ mo after presentation .\n",
            "\n",
            "True label: RESULTS\n",
            "Predict: METHODS\n",
            "Probability: 0.8689653\n",
            "\n",
            "***\n",
            "\n",
            "Sentense: 18\n",
            "the occurrence of ea and adverse events between sevoflurane and desflurane were not different , except that the overall of intraoperative respiratory events was higher in desflurane group .\n",
            "\n",
            "True label: CONCLUSIONS\n",
            "Predict: RESULTS\n",
            "Probability: 0.8675598\n",
            "\n",
            "***\n",
            "\n",
            "Sentense: 19\n",
            "no significant difference existed between two groups with regards to cumulative survival rate at @ years .\n",
            "\n",
            "True label: CONCLUSIONS\n",
            "Predict: RESULTS\n",
            "Probability: 0.86698806\n",
            "\n",
            "***\n",
            "\n",
            "Sentense: 20\n",
            "carvedilol effectively decreased hvpg in a greater proportion of the patients after an acute probe ( @ % vs. @ % ) and after @ days of the treatment ( @ % vs. @ % , p < @ ) in comparison with nebivolol .\n",
            "\n",
            "True label: METHODS\n",
            "Predict: RESULTS\n",
            "Probability: 0.86695814\n"
          ]
        }
      ]
    },
    {
      "cell_type": "markdown",
      "source": [
        "Basically, the model makes a most wrong predictions in choosing between **BACKGROUND** and **OBJECTIVE**(sentense 1, 2, 4, 5), **RESULTS** and **METHODS**(6, 8, 10, 12, 13, 14, 16, 17, 20) between **CONCLUSIONS** and **RESULTS**(7, 9, 15, 18, 19).\n",
        "\n",
        "\n",
        "As for pair **BACKGROUND** and **OBJECTIVE**, in my opinion, many of  sentences that have target **BACKGROUND** are actually **OBJECTIVE**. They start with words like \"to compare\", \"to evaluate\", \"to examine\" etc., which is typical for denoting a **OBJECTIVE**. The meaning of these sentences shows the objective of research.\n",
        "\n",
        "Maybe the wrong predictions can be explained by incorrect placement of labels in the validation set. \n",
        "\n",
        "\n",
        "---\n",
        "Most of the errors (9 times) in the first 20 wrong predictions were made when choosing between **RESULTS** and **METHODS**.\n",
        "\n",
        "The structure of such sentences is likely to be very similar, context is needed to accurately define a label, maybe this is the reason of models wrong predictions. \n",
        "\n",
        "\n",
        "\n",
        "\n",
        "\n",
        "---\n",
        "\n",
        "\n",
        "**CONCLUSIONS** and **RESULTS** are really similar concepts: \n",
        "* Conclusion forms the end part of a thesis. \n",
        "* Results form the end part of a survey or a chemical experiment\n",
        "\n",
        "Maybe the reason of wrong predictions is in the many more examples of **RESULTS** sentenses in training set.\n"
      ],
      "metadata": {
        "id": "pQat04Rka_Ws"
      }
    },
    {
      "cell_type": "markdown",
      "source": [
        "## Test model on custom RCT abstracts"
      ],
      "metadata": {
        "id": "Ae9CqJWjTvOa"
      }
    },
    {
      "cell_type": "code",
      "source": [
        "# Read a txt file\n",
        "text = get_lines('/content/drive/MyDrive/nlp_project/test_abstracts.txt')\n",
        "text = ' '.join(text)\n",
        "abstracts = text.split('###')"
      ],
      "metadata": {
        "id": "CSs52SnkVfkj"
      },
      "execution_count": null,
      "outputs": []
    },
    {
      "cell_type": "code",
      "source": [
        "# Create a function to preprocess abstracts\n",
        "def preprocess_abstract(abstract):\n",
        "\n",
        "  # Replace digits by @\n",
        "  remove_digits = str.maketrans('0123456789', '@@@@@@@@@@')\n",
        "  abstract = abstract.translate(remove_digits)\n",
        "  abstract = abstract.replace('\\n', '')\n",
        "  \n",
        "  # Split abctract into sentences\n",
        "  sentences = abstract.split(\".\")\n",
        "  abstract_samples = []\n",
        "  for num, sent in enumerate(sentences):\n",
        "    line_data = {}\n",
        "    line_data['line_num'] = num\n",
        "    line_data['total_lines'] = len(sentences)\n",
        "    line_data['text'] = sent.lower()\n",
        "    abstract_samples.append(line_data)\n",
        "\n",
        "  return abstract_samples\n"
      ],
      "metadata": {
        "id": "sXuPmSdrT2nA"
      },
      "execution_count": null,
      "outputs": []
    },
    {
      "cell_type": "code",
      "source": [
        "# Choose the abstract and preprocess it\n",
        "chosen_abstr = abstracts[3]\n",
        "abstract = pd.DataFrame(preprocess_abstract(chosen_abstr))\n",
        "text_sent = abstract.text.to_numpy()\n",
        "# \n",
        "test_line_number_ohe = tf.one_hot(abstract.line_num.to_numpy(), depth=15)\n",
        "test_total_lines_ohe = tf.one_hot(abstract.total_lines.to_numpy(), depth=20)\n",
        "test_sent = abstract.text.tolist()\n",
        "test_char = [split_char(text) for text in test_sent]\n",
        "\n",
        "# Get predictions\n",
        "custom_prob = loaded_best_model.predict(x=(test_line_number_ohe,\n",
        "                                           test_total_lines_ohe,\n",
        "                                           tf.constant(test_sent),\n",
        "                                           tf.constant(test_char)))\n",
        "custom_pred = tf.argmax(custom_prob, axis=1)\n",
        "\n",
        "\n",
        "# Visualize models' predictions\n",
        "for i, pred in enumerate(custom_pred):\n",
        "  label = class_names[pred]\n",
        "  sent = text_sent[i]\n",
        "  print(f'{label.upper()} :\\n {sent}\\n')"
      ],
      "metadata": {
        "id": "Yhx40qrBVewu",
        "colab": {
          "base_uri": "https://localhost:8080/"
        },
        "outputId": "9e301585-c4b4-4b09-d288-74376fb45bd6"
      },
      "execution_count": null,
      "outputs": [
        {
          "output_type": "stream",
          "name": "stdout",
          "text": [
            "1/1 [==============================] - 0s 191ms/step\n",
            "BACKGROUND :\n",
            "  placebo injections actually improve lateral epicondylitis at high rates\n",
            "\n",
            "BACKGROUND :\n",
            "  no other injections convincingly improve it better than placebo\n",
            "\n",
            "METHODS :\n",
            " corticosteroid injection is not superior to saline or anesthetic injection (strength of recommendation [sor] a, systematic review of randomized controlled trials [rcts])\n",
            "\n",
            "BACKGROUND :\n",
            "  platelet-rich plasma (prp) injection is not superior to saline injection (sor a, meta-analysis of rcts)\n",
            "\n",
            "CONCLUSIONS :\n",
            " botulinum toxin injection, compared to saline injection, modestly improved pain in lateral epicondylitis, but with short-term grip-strength weakness (sor a, meta-analysis of rcts)\n",
            "\n",
            "CONCLUSIONS :\n",
            "  prolotherapy injection, compared to saline injection, improved pain at @@-week, but not at @-week, follow-up (sor b, one small pilot rct)\n",
            "\n",
            "CONCLUSIONS :\n",
            " hyaluronic acid injection, compared to saline injection, resulted in a statistically significant pain reduction (@%) but did not achieve the minimum clinically important difference (sor b, single rct)\n",
            "\n",
            "CONCLUSIONS :\n",
            " autologous blood injection, compared to saline injection, did not improve disability ratings (sor b, one small rct) \n",
            "\n"
          ]
        }
      ]
    },
    {
      "cell_type": "markdown",
      "source": [
        "## Conclusion"
      ],
      "metadata": {
        "id": "8qxMlCOvTZw9"
      }
    },
    {
      "cell_type": "markdown",
      "source": [
        "The model replicated the paper https://arxiv.org/abs/1710.06071, consists of token embeddings (USE model used), character embeddings (custom embeddings) and position embeddings showed an accuracy of **85%**.\n",
        "\n",
        "The most wrong predictions were in choosen between BACKGROUND/OBJECTIVE, RESULTS/METHODS and CONCLUSIONS/RESULTS. \n",
        "\n",
        "Some errors are due to unbalanced data, some due to similar sentence structure, and some not quite correct target label in validation set.\n",
        "\n",
        "But in general, the model predicts labels well, the abstract with the labels becomes much more convenient to read. This gives a better represent of the content of the article."
      ],
      "metadata": {
        "id": "RJNL2Z2miOym"
      }
    }
  ]
}